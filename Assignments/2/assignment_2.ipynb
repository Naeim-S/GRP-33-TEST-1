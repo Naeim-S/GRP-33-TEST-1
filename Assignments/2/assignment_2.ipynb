{
 "cells": [
  {
   "cell_type": "markdown",
   "metadata": {},
   "source": [
    "# Assignment 2\n",
    "\n",
    "This is the first of two mandatory assignments which must be completed during the course. First some practical information:\n",
    "\n",
    "* When is the assignment due?: **23:59, Friday, August 24, 2018**\n",
    "* How do you grade the assignment?: You will **peergrade** each other as primary grading. \n",
    "* Must I hand-in as a group?: **yes**\n",
    "\n",
    "The assigment consist of one to three problems from each of the exercise sets you have solved so far (excluding Exercise Set 1). We've tried to select problems which are self contained, but it might be nessecary to solve some of the previous exercises in each set to fully answer the problems in this assignment."
   ]
  },
  {
   "cell_type": "code",
   "execution_count": 1,
   "metadata": {
    "ExecuteTime": {
     "end_time": "2018-08-22T15:39:13.645159Z",
     "start_time": "2018-08-22T15:39:09.336741Z"
    }
   },
   "outputs": [],
   "source": [
    "import numpy as np \n",
    "import pandas as pd \n",
    "import matplotlib.pyplot as plt \n",
    "import seaborn as sns"
   ]
  },
  {
   "cell_type": "code",
   "execution_count": 2,
   "metadata": {
    "ExecuteTime": {
     "end_time": "2018-08-22T15:39:14.815161Z",
     "start_time": "2018-08-22T15:39:14.627961Z"
    }
   },
   "outputs": [],
   "source": [
    "iris = sns.load_dataset('iris')\n",
    "iris = iris.query(\"species == 'virginica' | species == 'versicolor'\").sample(frac = 1, random_state = 3)\n",
    "X = np.array(iris[['sepal_length', 'sepal_width', 'petal_length', 'petal_width']])\n",
    "y = np.array(iris['species'].map({'virginica': 1, 'versicolor': -1}))\n",
    "\n",
    "# A very simple deterministic test-train split \n",
    "Xtrain = X[:70]\n",
    "ytrain = y[:70]\n",
    "\n",
    "Xtest = X[70:]\n",
    "ytest = y[70:]\n",
    "\n",
    "#The following code gives you the required functions to work with:\n",
    "\n",
    "def random_weights(location = 0.0, scale = 0.01, seed = 1):\n",
    "    # Init random number generator\n",
    "    rgen = np.random.RandomState(seed)\n",
    "    w = rgen.normal(loc=location, scale=scale, size= 1 + X.shape[1])    \n",
    "    return w\n",
    "\n",
    "def net_input(X, W): \n",
    "    return np.dot(X, W[1:]) + W[0]   # Linear product X'W + bias\n",
    "\n",
    "\n",
    "\n",
    "def predict(X, W):\n",
    "    linProd = net_input(X, W)\n",
    "    return np.where(linProd >= 0.0, 1, -1)    # 1(linProd > 0)"
   ]
  },
  {
   "cell_type": "markdown",
   "metadata": {},
   "source": [
    "## Problems from exercise set 11\n",
    "\n",
    "> **_Hint:_** you can get data by running \n",
    "\n",
    "```python\n",
    "iris = sns.load_dataset('iris')\n",
    "iris = iris.query(\"species == 'virginica' | species == 'versicolor'\").sample(frac = 1, random_state = 3)\n",
    "X = np.array(iris[['sepal_length', 'sepal_width', 'petal_length', 'petal_width']])\n",
    "y = np.array(iris['species'].map({'virginica': 1, 'versicolor': -1}))\n",
    "\n",
    "# A very simple deterministic test-train split \n",
    "Xtrain = X[:70]\n",
    "ytrain = y[:70]\n",
    "\n",
    "Xtest = X[70:]\n",
    "ytest = y[70:]\n",
    "```\n",
    "\n",
    "> The following code gives you the required functions to work with:\n",
    "\n",
    "```python\n",
    "def random_weights(location = 0.0, scale = 0.01, seed = 1):\n",
    "    # Init random number generator\n",
    "    rgen = np.random.RandomState(seed)\n",
    "    w = rgen.normal(loc=location, scale=scale, size= 1 + X.shape[1])    \n",
    "    return w\n",
    "\n",
    "def net_input(X, W): \n",
    "    return np.dot(X, W[1:]) + W[0]   # Linear product X'W + bias\n",
    "\n",
    "\n",
    "def predict(X, W):\n",
    "    linProd = net_input(X, W)\n",
    "    return np.where(linProd >= 0.0, 1, -1)    # 1(linProd > 0)\n",
    "```\n",
    "\n",
    "\n",
    "> **Ex. 11.1.5:** Write a function whichs loops over the training data (both X and y) using `zip`. For each row in the data, update the weights according to the perceptron rule (remember to update the bias in `w[0]`!). Set $\\eta = 0.1$.\n",
    ">\n",
    "> Make sure the loop stores the total number of prediction errors encountered underways in the loop by creating an int which is incremented whenever you update the weights. \n",
    ">\n",
    ">> _Hint:_ your function should return the updated weights, as well as the number of errors made by the perceptron.\n",
    ">\n",
    ">> _Hint:_ The following code block implements the function in _pseudo_code (it wont run, but serves to communicate the functionality).\n",
    ">> ```\n",
    ">> function f(X, y, W, eta):\n",
    ">>    set errors = 0\n",
    ">>\n",
    ">>    for each pair xi, yi in zip(X,y) do:\n",
    ">>        set update = eta * (yi - predict(xi, W))\n",
    ">>        set W[1:] = W[1:] + update * xi\n",
    ">>        set W[0] = W[0] + update\n",
    ">>        set errors = errors + int(update != 0) \n",
    ">>\n",
    ">>    return W, errors\n",
    ">> ```\n",
    ">\n",
    "> *Bonus:* If you completed the previous bonus assignment, calculate the accuracy on training data using the updated weights. Any progress yet?"
   ]
  },
  {
   "cell_type": "code",
   "execution_count": 128,
   "metadata": {
    "ExecuteTime": {
     "end_time": "2018-08-22T15:53:33.422884Z",
     "start_time": "2018-08-22T15:53:33.391684Z"
    }
   },
   "outputs": [],
   "source": [
    "W = random_weights()\n",
    "z = net_input(Xtrain, W)\n",
    "y_hat = predict(Xtrain,W)"
   ]
  },
  {
   "cell_type": "code",
   "execution_count": 129,
   "metadata": {
    "ExecuteTime": {
     "end_time": "2018-08-22T15:53:33.875285Z",
     "start_time": "2018-08-22T15:53:33.844085Z"
    }
   },
   "outputs": [],
   "source": [
    "# [Answer to Ex. 11.1.5]\n",
    "def f(X, y, W, eta):\n",
    "    errors = 0\n",
    "    \n",
    "    for xi, yi in zip(Xtrain, y):\n",
    "        bias = eta * (yi - predict(xi, W))\n",
    "        W[1:] = W[1:] + bias * xi\n",
    "        W[0] = W[0] + bias\n",
    "        errors = errors + int(bias != 0)\n",
    "    \n",
    "    return W, errors"
   ]
  },
  {
   "cell_type": "code",
   "execution_count": 131,
   "metadata": {
    "ExecuteTime": {
     "end_time": "2018-08-22T15:53:36.006299Z",
     "start_time": "2018-08-22T15:53:35.975099Z"
    }
   },
   "outputs": [
    {
     "data": {
      "text/plain": [
       "(array([-0.98375655, -2.70611756, -1.46528172,  0.90927031,  1.86865408]), 16)"
      ]
     },
     "execution_count": 131,
     "metadata": {},
     "output_type": "execute_result"
    }
   ],
   "source": [
    "eta = 0.1\n",
    "\n",
    "f(Xtrain, y, W, eta)"
   ]
  },
  {
   "cell_type": "markdown",
   "metadata": {},
   "source": [
    "> **Ex. 11.1.6:** Write a function which repeat the updating procedure you constructed in 11.1.5 for `n_iter` times by packing the whole thing in an outer loop. Make sure you store the number of errors in each iteration in a list. \n",
    ">\n",
    "> Plot the total errors after each iteration in a graph.\n",
    ">\n",
    ">> _Hint:_ Make sure you dont reset the weights after each iteration.\n",
    ">\n",
    ">> _Hint:_ Once again some pseudocode:\n",
    ">> ```\n",
    ">> function g(X, y, n_iter):\n",
    ">>     set eta = 0.1\n",
    ">>     set weights = random_weights()\n",
    ">>     set errorseq = list()\n",
    ">>\n",
    ">>     for each _ in range(n_iter):\n",
    ">>         weights, e = f(X, y, W, eta) \n",
    ">>         errorseq.append(e)\n",
    ">>\n",
    ">>     return weights, errorseq\n",
    ">> ```\n",
    ">\n",
    ">> _Bonus:_ Wrap the code in a function called Perceptron."
   ]
  },
  {
   "cell_type": "code",
   "execution_count": 133,
   "metadata": {
    "ExecuteTime": {
     "end_time": "2018-08-22T16:07:04.874126Z",
     "start_time": "2018-08-22T16:07:04.858125Z"
    }
   },
   "outputs": [],
   "source": [
    "# [Answer to Ex. 11.1.6]\n",
    "def Perceptron(X, y, n_iter):\n",
    "    eta = 0.1\n",
    "    W = random_weights()\n",
    "    errorseq = list()\n",
    "    \n",
    "    for i in range(n_iter):\n",
    "        w, e = f(X,y,W,eta)\n",
    "        errorseq.append(e)\n",
    "    \n",
    "    plt.xlabel(\"Number of iterations\")\n",
    "    plt.ylabel(\"Number of errors\")\n",
    "    \n",
    "    return print(\"Weight vector: \" + str(W)), \\\n",
    "            plt.plot(errorseq), \\\n",
    "            print(\"First 10 errors: \" + str(errorseq[:10])), \\\n",
    "            print(\"Last 10 errors: \" + str(errorseq[-10:]))"
   ]
  },
  {
   "cell_type": "code",
   "execution_count": 134,
   "metadata": {
    "ExecuteTime": {
     "end_time": "2018-08-22T16:07:11.151485Z",
     "start_time": "2018-08-22T16:07:08.307322Z"
    }
   },
   "outputs": [
    {
     "name": "stdout",
     "output_type": "stream",
     "text": [
      "Weight vector: [-40.38375655 -14.68611756 -15.74528172  23.20927031  29.90865408]\n",
      "First 10 errors: [33, 16, 30, 22, 26, 24, 17, 14, 20, 13]\n",
      "Last 10 errors: [2, 4, 4, 4, 7, 4, 4, 2, 2, 2]\n"
     ]
    },
    {
     "data": {
      "text/plain": [
       "(None, [<matplotlib.lines.Line2D at 0xa0e3198>], None, None)"
      ]
     },
     "execution_count": 134,
     "metadata": {},
     "output_type": "execute_result"
    },
    {
     "data": {
      "image/png": "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\n",
      "text/plain": [
       "<Figure size 432x288 with 1 Axes>"
      ]
     },
     "metadata": {},
     "output_type": "display_data"
    }
   ],
   "source": [
    "Perceptron(Xtrain, ytrain, 1000)"
   ]
  },
  {
   "cell_type": "markdown",
   "metadata": {},
   "source": [
    "## Problems from exercise set 12\n",
    ">Get the required data by running \n",
    "\n",
    "```python\n",
    "from sklearn.datasets import fetch_california_housing\n",
    "from sklearn.model_selection import train_test_split\n",
    "\n",
    "cal_house = fetch_california_housing()    \n",
    "X = pd.DataFrame(data=cal_house['data'], \n",
    "                 columns=cal_house['feature_names'])\\\n",
    "             .iloc[:,:-2]\n",
    "y = cal_house['target']\n",
    "\n",
    "X_train, X_test, y_train, y_test = train_test_split(X, y, test_size=.5, random_state=1)\n",
    "```"
   ]
  },
  {
   "cell_type": "markdown",
   "metadata": {},
   "source": [
    "> **Ex. 12.2.0:** Load the california housing data with scikit-learn using the code above. Inspect the data set. "
   ]
  },
  {
   "cell_type": "code",
   "execution_count": null,
   "metadata": {},
   "outputs": [],
   "source": [
    "# [Answer to Ex. 12.2.0]"
   ]
  },
  {
   "cell_type": "markdown",
   "metadata": {},
   "source": [
    "> **Ex.12.2.1**: Generate interactions between all features to third degree, make sure you **exclude** the bias/intercept term. How many variables are there? Will OLS fail? \n",
    ">\n",
    "> After making interactions rescale the features to have zero mean, unit std. deviation. Should you use the distribution of the training data to rescale the test data?  \n",
    ">\n",
    ">> *Hint 1*: Try importing `PolynomialFeatures` from `sklearn.preprocessing`\n",
    ">\n",
    ">> *Hint 2*: If in doubt about which distribution to scale, you may read [this post](https://stats.stackexchange.com/questions/174823/how-to-apply-standardization-normalization-to-train-and-testset-if-prediction-i)."
   ]
  },
  {
   "cell_type": "code",
   "execution_count": null,
   "metadata": {},
   "outputs": [],
   "source": [
    "# [Answer to Ex. 12.2.1]"
   ]
  },
  {
   "cell_type": "markdown",
   "metadata": {},
   "source": [
    "> **Ex.12.2.2**: Estimate the Lasso model on the train data set, using values of $\\lambda$ in the range from $10^{-4}$ to $10^4$. For each $\\lambda$  calculate and save the Root Mean Squared Error (RMSE) for the test and train data. \n",
    ">\n",
    ">> *Hint*: use `logspace` in numpy to create the range.\n"
   ]
  },
  {
   "cell_type": "code",
   "execution_count": null,
   "metadata": {},
   "outputs": [],
   "source": [
    "# [Answer to Ex. 12.2.2]"
   ]
  },
  {
   "cell_type": "markdown",
   "metadata": {},
   "source": [
    "> **Ex.12.2.3**: Make a plot with on the x-axis and the RMSE measures on the y-axis. What happens to RMSE for train and test data as $\\lambda$ increases? The x-axis should be log scaled. Which one are we interested in minimizing? \n",
    "\n",
    "> Bonus: Can you find the lambda that gives the lowest MSE-test score?"
   ]
  },
  {
   "cell_type": "code",
   "execution_count": null,
   "metadata": {},
   "outputs": [],
   "source": [
    "# [Answer to Ex. 12.2.3]"
   ]
  },
  {
   "cell_type": "markdown",
   "metadata": {},
   "source": [
    "## Problems from exercise set 13\n",
    "\n",
    "> **Ex. 13.1.3:**\n",
    "Run a Lasso regression using the Pipeline from `Ex 13.1.2`. In the outer loop searching through the lambdas specified below. \n",
    "In the inner loop make 5 fold cross validation on the selected model and store the average MSE for each fold. Which lambda gives the lowest test MSE?\n",
    ">\n",
    "> ```python \n",
    "lambdas =  np.logspace(-4, 4, 12)\n",
    "```\n",
    ">\n",
    ">> *Hint:* `KFold` in `sklearn.model_selection` may be useful.\n",
    ">\n",
    "> This code will give you the required data: "
   ]
  },
  {
   "cell_type": "code",
<<<<<<< HEAD
<<<<<<< HEAD
   "execution_count": null,
=======
   "execution_count": 6,
>>>>>>> 37e7212ebc91b45b06b4d37d68a98c0c3a3e1c8c
=======
   "execution_count": 6,
>>>>>>> 37e7212ebc91b45b06b4d37d68a98c0c3a3e1c8c
   "metadata": {},
   "outputs": [],
   "source": [
    "from sklearn.linear_model import Lasso\n",
    "from sklearn.pipeline import make_pipeline\n",
    "from sklearn.preprocessing import StandardScaler, PolynomialFeatures\n",
    "from sklearn.datasets import fetch_california_housing\n",
    "from sklearn.metrics import mean_squared_error as mse\n",
    "from sklearn.model_selection import train_test_split\n",
    "from sklearn.model_selection import KFold\n",
    "\n",
    "import warnings\n",
    "from sklearn.exceptions import ConvergenceWarning\n",
    "warnings.filterwarnings(action='ignore', category=ConvergenceWarning)\n",
    "\n",
    "\n",
    "import matplotlib.pyplot as plt\n",
    "import numpy as np \n",
    "import pandas as pd \n",
    "import seaborn as sns\n",
    "\n",
    "cal_house = fetch_california_housing()    \n",
    "X = pd.DataFrame(data=cal_house['data'], \n",
    "                 columns=cal_house['feature_names'])\\\n",
    "             .iloc[:,:-2]\n",
    "y = cal_house['target']"
   ]
  },
  {
   "cell_type": "code",
   "execution_count": 7,
<<<<<<< HEAD
   "metadata": {},
   "outputs": [],
   "source": [
    "# split into train (dev) & test\n",
    "X_dev, X_test, y_dev, y_test = train_test_split(X, y, test_size=1/3, random_state=1)\n",
    "\n",
    "# split train (dev) data into train & validation \n",
    "X_train, X_val, y_train, y_val = train_test_split(X_dev, y_dev, test_size=1/2, random_state=1)"
   ]
  },
  {
   "cell_type": "code",
   "execution_count": 21,
   "metadata": {},
   "outputs": [],
   "source": [
    "# [Answer to Ex. 13.1.3]\n",
    "#outer loop\n",
    "lambda_s = np.logspace(-4,4,12)"
   ]
  },
  {
   "cell_type": "code",
   "execution_count": 15,
   "metadata": {},
   "outputs": [],
   "source": [
=======
   "metadata": {},
   "outputs": [],
   "source": [
    "# split into train (dev) & test\n",
    "X_dev, X_test, y_dev, y_test = train_test_split(X, y, test_size=1/3, random_state=1)\n",
    "\n",
    "# split train (dev) data into train & validation \n",
    "X_train, X_val, y_train, y_val = train_test_split(X_dev, y_dev, test_size=1/2, random_state=1)"
   ]
  },
  {
   "cell_type": "code",
   "execution_count": 21,
   "metadata": {},
   "outputs": [],
   "source": [
    "# [Answer to Ex. 13.1.3]\n",
    "#outer loop\n",
    "lambda_s = np.logspace(-4,4,12)"
   ]
  },
  {
   "cell_type": "code",
   "execution_count": 15,
   "metadata": {},
   "outputs": [],
   "source": [
>>>>>>> 37e7212ebc91b45b06b4d37d68a98c0c3a3e1c8c
    "pipe_lassoCV = make_pipeline(PolynomialFeatures(degree=3, include_bias=False),\n",
    "                                 StandardScaler(),\n",
    "                                 Lasso(alpha=lambda_s, random_state=1))   \n",
    "#inner loop\n",
    "kfolds = KFold(n_splits=5) "
   ]
  },
  {
   "cell_type": "code",
   "execution_count": 25,
   "metadata": {
    "collapsed": true
   },
   "outputs": [
    {
     "ename": "KeyError",
     "evalue": "'[ 2752  2753  2754 ... 13757 13758 13759] not in index'",
     "output_type": "error",
     "traceback": [
      "\u001b[0;31m---------------------------------------------------------------------------\u001b[0m",
      "\u001b[0;31mKeyError\u001b[0m                                  Traceback (most recent call last)",
      "\u001b[0;32m<ipython-input-25-8e8d506fe55b>\u001b[0m in \u001b[0;36m<module>\u001b[0;34m()\u001b[0m\n\u001b[1;32m      9\u001b[0m     \u001b[0;32mfor\u001b[0m \u001b[0mtrain_index\u001b[0m\u001b[0;34m,\u001b[0m \u001b[0mval_index\u001b[0m \u001b[0;32min\u001b[0m \u001b[0mkfolds\u001b[0m\u001b[0;34m.\u001b[0m\u001b[0msplit\u001b[0m\u001b[0;34m(\u001b[0m\u001b[0mX_dev\u001b[0m\u001b[0;34m,\u001b[0m \u001b[0my_dev\u001b[0m\u001b[0;34m)\u001b[0m\u001b[0;34m:\u001b[0m\u001b[0;34m\u001b[0m\u001b[0m\n\u001b[1;32m     10\u001b[0m \u001b[0;34m\u001b[0m\u001b[0m\n\u001b[0;32m---> 11\u001b[0;31m         \u001b[0mX_train\u001b[0m\u001b[0;34m,\u001b[0m  \u001b[0mX_val\u001b[0m \u001b[0;34m=\u001b[0m \u001b[0mX_dev\u001b[0m\u001b[0;34m[\u001b[0m\u001b[0mtrain_index\u001b[0m\u001b[0;34m]\u001b[0m\u001b[0;34m,\u001b[0m \u001b[0mX_dev\u001b[0m\u001b[0;34m[\u001b[0m\u001b[0mval_index\u001b[0m\u001b[0;34m]\u001b[0m\u001b[0;34m\u001b[0m\u001b[0m\n\u001b[0m\u001b[1;32m     12\u001b[0m         \u001b[0my_train\u001b[0m\u001b[0;34m,\u001b[0m \u001b[0my_val\u001b[0m \u001b[0;34m=\u001b[0m \u001b[0my_dev\u001b[0m\u001b[0;34m[\u001b[0m\u001b[0mtrain_index\u001b[0m\u001b[0;34m]\u001b[0m\u001b[0;34m,\u001b[0m \u001b[0my_dev\u001b[0m\u001b[0;34m[\u001b[0m\u001b[0mval_index\u001b[0m\u001b[0;34m]\u001b[0m\u001b[0;34m\u001b[0m\u001b[0m\n\u001b[1;32m     13\u001b[0m \u001b[0;34m\u001b[0m\u001b[0m\n",
      "\u001b[0;32m~/anaconda3/lib/python3.6/site-packages/pandas/core/frame.py\u001b[0m in \u001b[0;36m__getitem__\u001b[0;34m(self, key)\u001b[0m\n\u001b[1;32m   2131\u001b[0m         \u001b[0;32mif\u001b[0m \u001b[0misinstance\u001b[0m\u001b[0;34m(\u001b[0m\u001b[0mkey\u001b[0m\u001b[0;34m,\u001b[0m \u001b[0;34m(\u001b[0m\u001b[0mSeries\u001b[0m\u001b[0;34m,\u001b[0m \u001b[0mnp\u001b[0m\u001b[0;34m.\u001b[0m\u001b[0mndarray\u001b[0m\u001b[0;34m,\u001b[0m \u001b[0mIndex\u001b[0m\u001b[0;34m,\u001b[0m \u001b[0mlist\u001b[0m\u001b[0;34m)\u001b[0m\u001b[0;34m)\u001b[0m\u001b[0;34m:\u001b[0m\u001b[0;34m\u001b[0m\u001b[0m\n\u001b[1;32m   2132\u001b[0m             \u001b[0;31m# either boolean or fancy integer index\u001b[0m\u001b[0;34m\u001b[0m\u001b[0;34m\u001b[0m\u001b[0m\n\u001b[0;32m-> 2133\u001b[0;31m             \u001b[0;32mreturn\u001b[0m \u001b[0mself\u001b[0m\u001b[0;34m.\u001b[0m\u001b[0m_getitem_array\u001b[0m\u001b[0;34m(\u001b[0m\u001b[0mkey\u001b[0m\u001b[0;34m)\u001b[0m\u001b[0;34m\u001b[0m\u001b[0m\n\u001b[0m\u001b[1;32m   2134\u001b[0m         \u001b[0;32melif\u001b[0m \u001b[0misinstance\u001b[0m\u001b[0;34m(\u001b[0m\u001b[0mkey\u001b[0m\u001b[0;34m,\u001b[0m \u001b[0mDataFrame\u001b[0m\u001b[0;34m)\u001b[0m\u001b[0;34m:\u001b[0m\u001b[0;34m\u001b[0m\u001b[0m\n\u001b[1;32m   2135\u001b[0m             \u001b[0;32mreturn\u001b[0m \u001b[0mself\u001b[0m\u001b[0;34m.\u001b[0m\u001b[0m_getitem_frame\u001b[0m\u001b[0;34m(\u001b[0m\u001b[0mkey\u001b[0m\u001b[0;34m)\u001b[0m\u001b[0;34m\u001b[0m\u001b[0m\n",
      "\u001b[0;32m~/anaconda3/lib/python3.6/site-packages/pandas/core/frame.py\u001b[0m in \u001b[0;36m_getitem_array\u001b[0;34m(self, key)\u001b[0m\n\u001b[1;32m   2175\u001b[0m             \u001b[0;32mreturn\u001b[0m \u001b[0mself\u001b[0m\u001b[0;34m.\u001b[0m\u001b[0m_take\u001b[0m\u001b[0;34m(\u001b[0m\u001b[0mindexer\u001b[0m\u001b[0;34m,\u001b[0m \u001b[0maxis\u001b[0m\u001b[0;34m=\u001b[0m\u001b[0;36m0\u001b[0m\u001b[0;34m,\u001b[0m \u001b[0mconvert\u001b[0m\u001b[0;34m=\u001b[0m\u001b[0;32mFalse\u001b[0m\u001b[0;34m)\u001b[0m\u001b[0;34m\u001b[0m\u001b[0m\n\u001b[1;32m   2176\u001b[0m         \u001b[0;32melse\u001b[0m\u001b[0;34m:\u001b[0m\u001b[0;34m\u001b[0m\u001b[0m\n\u001b[0;32m-> 2177\u001b[0;31m             \u001b[0mindexer\u001b[0m \u001b[0;34m=\u001b[0m \u001b[0mself\u001b[0m\u001b[0;34m.\u001b[0m\u001b[0mloc\u001b[0m\u001b[0;34m.\u001b[0m\u001b[0m_convert_to_indexer\u001b[0m\u001b[0;34m(\u001b[0m\u001b[0mkey\u001b[0m\u001b[0;34m,\u001b[0m \u001b[0maxis\u001b[0m\u001b[0;34m=\u001b[0m\u001b[0;36m1\u001b[0m\u001b[0;34m)\u001b[0m\u001b[0;34m\u001b[0m\u001b[0m\n\u001b[0m\u001b[1;32m   2178\u001b[0m             \u001b[0;32mreturn\u001b[0m \u001b[0mself\u001b[0m\u001b[0;34m.\u001b[0m\u001b[0m_take\u001b[0m\u001b[0;34m(\u001b[0m\u001b[0mindexer\u001b[0m\u001b[0;34m,\u001b[0m \u001b[0maxis\u001b[0m\u001b[0;34m=\u001b[0m\u001b[0;36m1\u001b[0m\u001b[0;34m,\u001b[0m \u001b[0mconvert\u001b[0m\u001b[0;34m=\u001b[0m\u001b[0;32mTrue\u001b[0m\u001b[0;34m)\u001b[0m\u001b[0;34m\u001b[0m\u001b[0m\n\u001b[1;32m   2179\u001b[0m \u001b[0;34m\u001b[0m\u001b[0m\n",
      "\u001b[0;32m~/anaconda3/lib/python3.6/site-packages/pandas/core/indexing.py\u001b[0m in \u001b[0;36m_convert_to_indexer\u001b[0;34m(self, obj, axis, is_setter)\u001b[0m\n\u001b[1;32m   1267\u001b[0m                 \u001b[0;32mif\u001b[0m \u001b[0mmask\u001b[0m\u001b[0;34m.\u001b[0m\u001b[0many\u001b[0m\u001b[0;34m(\u001b[0m\u001b[0;34m)\u001b[0m\u001b[0;34m:\u001b[0m\u001b[0;34m\u001b[0m\u001b[0m\n\u001b[1;32m   1268\u001b[0m                     raise KeyError('{mask} not in index'\n\u001b[0;32m-> 1269\u001b[0;31m                                    .format(mask=objarr[mask]))\n\u001b[0m\u001b[1;32m   1270\u001b[0m \u001b[0;34m\u001b[0m\u001b[0m\n\u001b[1;32m   1271\u001b[0m                 \u001b[0;32mreturn\u001b[0m \u001b[0m_values_from_object\u001b[0m\u001b[0;34m(\u001b[0m\u001b[0mindexer\u001b[0m\u001b[0;34m)\u001b[0m\u001b[0;34m\u001b[0m\u001b[0m\n",
      "\u001b[0;31mKeyError\u001b[0m: '[ 2752  2753  2754 ... 13757 13758 13759] not in index'"
     ]
    }
   ],
   "source": [
    "#outer loop\n",
    "for lambda_ in lambda_s:\n",
    "    \n",
    "    pipe_lassoCV = make_pipeline(PolynomialFeatures(degree=3, include_bias=False),\n",
    "                                 StandardScaler(),\n",
    "                                 Lasso(alpha=lambda_, random_state=1))    \n",
    "    mseCV_ = [] #list\n",
    "    #inner loop \n",
    "    for train_index, val_index in kfolds.split(X_dev, y_dev):\n",
    "        \n",
    "        X_train,  X_val = X_dev[train_index], X_dev[val_index]\n",
    "        y_train, y_val = y_dev[train_index], y_dev[val_index]\n",
    "\n",
    "        pipe_lassoCV.fit(X_train, y_train)\n",
    "        \n",
    "        mseCV_.append(mse(pipe_lassoCV.predict(X_val), y_val))    \n",
    "    \n",
    "    mseCV.append(mseCV_)\n",
    "    \n",
    "    \n",
    "    "
   ]
  },
  {
   "cell_type": "markdown",
   "metadata": {},
   "source": [
    "## Problems from exercise set 14\n",
    "\n",
    "> **Ex. 14.1.3**: Train a decision tree classifier on **all** of the titanic data.\n",
    ">\n",
    ">* If your feature matrix is `X` and your target array is `y` you can do this by instantiating a model like:\n",
    ">\n",
    "        from sklearn.tree import DecisionTreeClassifier\n",
    "        model = DecisionTreeClassifier()\n",
    "        model.fit(X, y)  # <--- This is the training/fitting/learning step\n",
    ">       \n",
    ">Write four functions that counts the number of ..\n",
    " - true positives where we call the function `TP`;\n",
    " - true negatives where we call the function `TN`;\n",
    " - false positives where we call the function `FP`;\n",
    " - false negatives where we call the function `FN`.\n",
    "\n",
    "> All of these functions should take three arguments, the actual y column, the actual X column and a fittedModel object (e.g. `fittedModel = DecisionTreeClassifier.fit(X,y)`)\n",
    ">\n",
    ">> _Hint 1:_ use the function `np.where` to compare y and the predicted values. For example `y + prediction == 2` is true only for the True Positives.\n",
    ">\n",
    ">> _Hint 2:_ You can check if your result is correct by summing all four functions and checking that the result equals to the number of observations. \n",
    ">\n",
    "> Get the data by running:"
   ]
  },
  {
   "cell_type": "code",
<<<<<<< HEAD
<<<<<<< HEAD
   "execution_count": null,
=======
   "execution_count": 1,
>>>>>>> 37e7212ebc91b45b06b4d37d68a98c0c3a3e1c8c
=======
   "execution_count": 1,
>>>>>>> 37e7212ebc91b45b06b4d37d68a98c0c3a3e1c8c
   "metadata": {},
   "outputs": [
    {
     "ename": "NameError",
     "evalue": "name 'sns' is not defined",
     "output_type": "error",
     "traceback": [
      "\u001b[0;31m---------------------------------------------------------------------------\u001b[0m",
      "\u001b[0;31mNameError\u001b[0m                                 Traceback (most recent call last)",
      "\u001b[0;32m<ipython-input-1-f83cef8df0e2>\u001b[0m in \u001b[0;36m<module>\u001b[0;34m()\u001b[0m\n\u001b[0;32m----> 1\u001b[0;31m \u001b[0mrawdata\u001b[0m \u001b[0;34m=\u001b[0m \u001b[0msns\u001b[0m\u001b[0;34m.\u001b[0m\u001b[0mload_dataset\u001b[0m\u001b[0;34m(\u001b[0m\u001b[0;34m'titanic'\u001b[0m\u001b[0;34m)\u001b[0m\u001b[0;34m.\u001b[0m\u001b[0msample\u001b[0m\u001b[0;34m(\u001b[0m\u001b[0mfrac\u001b[0m\u001b[0;34m=\u001b[0m\u001b[0;36m1\u001b[0m\u001b[0;34m,\u001b[0m \u001b[0mrandom_state\u001b[0m \u001b[0;34m=\u001b[0m \u001b[0;36m3\u001b[0m\u001b[0;34m)\u001b[0m\u001b[0;34m\u001b[0m\u001b[0m\n\u001b[0m\u001b[1;32m      2\u001b[0m \u001b[0;34m\u001b[0m\u001b[0m\n\u001b[1;32m      3\u001b[0m \u001b[0;31m# Feature creation\u001b[0m\u001b[0;34m\u001b[0m\u001b[0;34m\u001b[0m\u001b[0m\n\u001b[1;32m      4\u001b[0m \u001b[0mrawdata\u001b[0m\u001b[0;34m[\u001b[0m\u001b[0;34m'male'\u001b[0m\u001b[0;34m]\u001b[0m \u001b[0;34m=\u001b[0m \u001b[0;34m(\u001b[0m\u001b[0mrawdata\u001b[0m\u001b[0;34m[\u001b[0m\u001b[0;34m'sex'\u001b[0m\u001b[0;34m]\u001b[0m \u001b[0;34m==\u001b[0m \u001b[0;34m'male'\u001b[0m\u001b[0;34m)\u001b[0m\u001b[0;34m.\u001b[0m\u001b[0mastype\u001b[0m\u001b[0;34m(\u001b[0m\u001b[0mint\u001b[0m\u001b[0;34m)\u001b[0m\u001b[0;34m\u001b[0m\u001b[0m\n\u001b[1;32m      5\u001b[0m \u001b[0mrawdata\u001b[0m\u001b[0;34m[\u001b[0m\u001b[0;34m'alone'\u001b[0m\u001b[0;34m]\u001b[0m \u001b[0;34m=\u001b[0m \u001b[0mrawdata\u001b[0m\u001b[0;34m[\u001b[0m\u001b[0;34m'alone'\u001b[0m\u001b[0;34m]\u001b[0m\u001b[0;34m.\u001b[0m\u001b[0mastype\u001b[0m\u001b[0;34m(\u001b[0m\u001b[0mint\u001b[0m\u001b[0;34m)\u001b[0m\u001b[0;34m\u001b[0m\u001b[0m\n",
      "\u001b[0;31mNameError\u001b[0m: name 'sns' is not defined"
     ]
    }
   ],
   "source": [
    "rawdata = sns.load_dataset('titanic').sample(frac=1, random_state = 3)\n",
    "\n",
    "# Feature creation\n",
    "rawdata['male'] = (rawdata['sex'] == 'male').astype(int)\n",
    "rawdata['alone'] = rawdata['alone'].astype(int)\n",
    "rawdata['adult_male'] = rawdata['adult_male'].astype(int)\n",
    "\n",
    "\n",
    "# The following piece of code (in multiple lines) generates \n",
    "# dummies for all of the categorical variables. \n",
    "data = pd.get_dummies(rawdata, \n",
    "                      columns = ['class', 'sibsp', 'parch', 'deck'], \n",
    "                      drop_first=True)\\\n",
    "         .drop(['pclass', 'sex', 'embarked', 'who', 'embark_town', 'alive'], axis = 1)\n",
    "\n",
    "\n",
    "data = data.dropna().reset_index()\n",
    "\n",
    "X = np.array(data.drop('survived', axis = 1))\n",
    "y = np.array(data['survived'])"
   ]
  },
  {
   "cell_type": "code",
   "execution_count": null,
   "metadata": {},
   "outputs": [],
   "source": [
    "# [Answer to Ex 14.1.3]"
   ]
  },
  {
   "cell_type": "markdown",
   "metadata": {},
   "source": [
    "> **Ex. 14.1.4:** Combine the four functions you defined above to write your own accuracy function, which calculates\n",
    "$$\n",
    "ACC = \\frac{TP + TN}{TP+ TN + FP + FN}\n",
    "$$\n",
    ">\n",
    "> Test the accuracy of your model using the `A` function. Report the accuracy of your model on the same data that you trained the model on.\n",
    ">\n",
    ">> _Note:_ The reason we want to split the calculation of accuracy into these four components, is that we can then easily calculate other scores, such as the _precision, recall and f1_."
   ]
  },
  {
   "cell_type": "code",
   "execution_count": null,
   "metadata": {},
   "outputs": [],
   "source": [
    "# [Answer to Ex 14.1.4]"
   ]
  },
  {
   "cell_type": "markdown",
   "metadata": {},
   "source": [
    "## Problems from exercise set 15 \n",
    "\n",
    "> **Ex. 15.1.1:** \n",
    "Import the Counter object from the builtin package collections (Hint1). This is essentially a dictionary designed for keeping counts, same syntax, but extra functionality. We don't have to initialize each key. We can write: \n",
    "\n",
    "```python\n",
    "c = Counter()\n",
    "# then we can do this\n",
    "c['hej']+=1\n",
    "# without first defining c['hej'] = 0\n",
    "```\n",
    "\n",
    "\n",
    ">* Initialize a Counter object and assign it to the variable `dc` (document count).\n",
    ">* Define a list named `text_counts`. In this container we will store each document after we have converted it to counts of tokens.\n",
    ">* Run through all tokenized texts and\n",
    "    * initialize a Counter object with the tokenized text as input, assign this object to a variable `c_t`. >This will now contain a count of each token in the document. Append `c_t` to our list `text_counts`.\n",
    "    * run though each key in the `c_t` and increment the document count variable `dc` by one. (Hint2)\n",
    "\n",
    "(hint1: from ... import ...)\n",
    "\n",
    "(hint2: dc[token]+=1)\n",
    "\n",
    "> Run the following code to get the data:"
   ]
  },
  {
   "cell_type": "code",
   "execution_count": null,
   "metadata": {},
   "outputs": [],
   "source": [
    "import nltk\n",
    "nltk.download('punkt')\n",
    "import pandas as pd\n",
    "df = pd.read_csv('https://raw.githubusercontent.com/snorreralund/scraping_seminar/master/english_review_sample.csv')\n",
    "import re\n",
    "token_re = re.compile('\\w+')\n",
    "\n",
    "tokenized = df.reviewBody.apply(nltk.word_tokenize)\n",
    "\n",
    "tokenized"
   ]
  },
  {
   "cell_type": "code",
   "execution_count": null,
   "metadata": {},
   "outputs": [],
   "source": [
    "# [Answer to Ex. 15.1.1]\n",
    "from collections import Counter\n",
    "dc = Counter()\n",
    "text_counts = []\n",
    "\n",
    "for text in tokenized:\n",
    "    c_t = Counter(text)\n",
    "    text_counts.append(c_t)\n",
    "    \n",
    "    for token in c_t:\n",
    "        dc[token] += 1"
   ]
  },
  {
   "cell_type": "code",
   "execution_count": null,
   "metadata": {},
   "outputs": [],
   "source": [
    "#Let's inspect it:\n",
    "print(text_counts[0:2])\n",
    "dc\n",
    "#Looks' good."
   ]
  },
  {
   "cell_type": "markdown",
   "metadata": {},
   "source": [
    "> **Ex. 15.1.2:** \n",
    "Now we define the the inverse document frequency variable `idf` as a dictionary with the tokens as keys and idf weights as values. We do this by running through both the token and the value (document count) in the `dc` variable and calculate the ratio between number documents and the token document counts. \n",
    "\n",
    ">Use the `np.log` function for the log transform.\n",
    "\n",
    ">We can iterate through this using the `.items()` syntax we know from the dictionary. \n"
   ]
  },
  {
   "cell_type": "code",
   "execution_count": null,
   "metadata": {},
   "outputs": [],
   "source": [
    "# [Answer to Ex. 15.1.2]\n",
    "import numpy as np\n",
    "n_docs = len(tokenized)\n",
    "\n",
    "#Using a loop:\n",
    "# idf = {}\n",
    "# for k, v in dc.items():\n",
    "#     idf[k] = np.log(n_docs / value)\n",
    "\n",
    "#Using an smooth oneliner:\n",
    "idf = {key:np.log(n_docs / val) for key,val in dc.items()}"
   ]
  },
  {
   "cell_type": "code",
   "execution_count": null,
   "metadata": {},
   "outputs": [],
   "source": [
    "#Let's inspect the Inverse Document Frequency:\n",
    "idf\n",
    "#Look's good!"
   ]
  },
  {
   "cell_type": "markdown",
   "metadata": {},
   "source": [
    "> **Ex. 15.1.3:** \n",
    "Now we weight the term frequency in each document with the idf value of each token. Here we used our `text_counts` variable that almost holds the frequency, we just need to divide by the number of tokens in the document. \n",
    "Define a list container: `tfidf_docs`. \n",
    "\n",
    "FIRST LOOP: For each counter in the text_count container:\n",
    "    * define the variable `doc_n` as sum of all values in the counter - `.values()` .\n",
    "    * define a dictionary named `tfidf`.\n",
    "    * SECOND LOOP: run through all tokens, and their counts by using the `.items()` method of the counter.\n",
    "        * define a value tf as the ratio between the count and the sum.\n",
    "        * now weight this value with the idf weight found by calling the idf variable with the token as key.\n",
    "        * assign this weighed term frequency to the tfidf[token].\n",
    "    * Once outside the second loop. Append the tfidf dictionary to the tfidf_docs list container."
   ]
  },
  {
   "cell_type": "code",
   "execution_count": null,
   "metadata": {},
   "outputs": [],
   "source": [
    "# [Answer to Ex. 15.1.3]\n",
    "tfidf_docs = list()\n",
    "for object in text_counts:\n",
    "    doc_n = sum(object.values())\n",
    "    tfidf = {}\n",
    "    \n",
    "    for token, counter in dc.items():\n",
    "        tf = counter / doc_n\n",
    "        tfidf[token] = tf * idf[token] \n",
    "    \n",
    "    tfidf_docs.append(tfidf)"
   ]
  },
  {
   "cell_type": "code",
   "execution_count": null,
   "metadata": {},
   "outputs": [],
   "source": [
    "#Let's inspect the Term Frequency - Inverse Document Frequency:\n",
    "tfidf_docs[0:2]\n"
   ]
  },
  {
   "cell_type": "markdown",
   "metadata": {},
   "source": [
    "## Problems from exercise set 16\n",
    "\n",
    "\n",
    "> **Ex. 16.2.5:** You should now implement it by doing the following:\n",
    "* Define a maximum number of iterations`max_iter` to 15.\n",
    "* Use the `initialize_clusters` function to define a variable `centroids`.\n",
    "* make a `for` loop from 0 to max_iter where you: \n",
    "    * copy the current cluster centroids to a new variable: old_centroids. This will be used for checking convergence after the maximization step.\n",
    "    * define the `cluster_assignment`  by running the `maximize` function\n",
    "    * define a new (i.e. overwrite) `centroids` variable by running the `update_expectation` function.\n",
    "    * finally check if old_centroids is equal to new_centroids, using the np.array_equal() function. If they are: break.\n",
    "\n",
    "Make sure that it works and wrap it around a function `fit_transform()` that takes the data `X` as input, and the number of clusters `k` plus the maximum number of iterations `max_iter`. It should return the cluster assignments and the cluster centroids. \n",
    "\n",
    "\n",
    "> The code below will give you the dataset, as well as three functions you need to solve the exercise."
   ]
  },
  {
   "cell_type": "code",
   "execution_count": null,
   "metadata": {},
   "outputs": [],
   "source": [
    "import seaborn as sns \n",
    "import pandas as pd \n",
    "import random\n",
    "from sklearn.metrics import pairwise_distances\n",
    "\n",
    "df = sns.load_dataset('iris')\n",
    "X = df[['sepal_length','sepal_width','petal_length','petal_width']].values\n",
    "\n",
    "\n",
    "def initialize_clusters(k,X):\n",
    "    idx = random.sample(range(len(X)),k)\n",
    "    centroids = X[idx]\n",
    "    return centroids\n",
    "\n",
    "\n",
    "def maximize(centroids,X):\n",
    "    dist_matrix = pairwise_distances(centroids,X)\n",
    "    cluster_assignment = dist_matrix.T.argsort(axis=1)[:,0]\n",
    "    return cluster_assignment\n",
    "\n",
    "\n",
    "def update_expectation(k,X,cluster_assignment):\n",
    "    new_centroids = np.zeros((k,len(X[0])))\n",
    "    for i in range(k):\n",
    "        subset = X[cluster_assignment==i]\n",
    "        new_centroids[i] = subset.mean(axis=0)\n",
    "    return new_centroids\n"
   ]
  },
  {
   "cell_type": "code",
   "execution_count": null,
   "metadata": {},
   "outputs": [],
   "source": [
    "# [Answer to Ex. 16.2.5]"
   ]
  }
 ],
 "metadata": {
  "kernelspec": {
   "display_name": "Python 3",
   "language": "python",
   "name": "python3"
  },
  "language_info": {
   "codemirror_mode": {
    "name": "ipython",
    "version": 3
   },
   "file_extension": ".py",
   "mimetype": "text/x-python",
   "name": "python",
   "nbconvert_exporter": "python",
   "pygments_lexer": "ipython3",
<<<<<<< HEAD
<<<<<<< HEAD
   "version": "3.6.5"
  },
  "toc": {
   "base_numbering": 1,
   "nav_menu": {},
   "number_sections": true,
   "sideBar": true,
   "skip_h1_title": false,
   "title_cell": "Table of Contents",
   "title_sidebar": "Contents",
   "toc_cell": false,
   "toc_position": {},
   "toc_section_display": true,
   "toc_window_display": false
=======
   "version": "3.6.4"
>>>>>>> 37e7212ebc91b45b06b4d37d68a98c0c3a3e1c8c
=======
   "version": "3.6.4"
>>>>>>> 37e7212ebc91b45b06b4d37d68a98c0c3a3e1c8c
  }
 },
 "nbformat": 4,
 "nbformat_minor": 2
}
