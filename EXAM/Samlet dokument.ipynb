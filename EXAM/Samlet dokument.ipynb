{
 "cells": [
  {
   "cell_type": "markdown",
   "metadata": {},
   "source": [
    "# Introduction"
   ]
  },
  {
   "cell_type": "markdown",
   "metadata": {},
   "source": [
    "Through the past decade, the Danish economy has been characterized by both an economic boom, recession by the financial crisis and a current upswing. At the same time, a public debate about what is referred to as outskirts Denmark has taken place. The debate is about the burden of outer municipalities stemming from unemployment and emigration of workforce. This holds an underlying assertion that demand for labor is centralized to larger cities leaving outer areas with a lack of skilled workers. During the concerned time span, various governments have implemented multiple labor market reforms for different purposes. Reforms of social assistance and an ongoing repositioning of public institutions are examples of this. Hence Danish labor market has undergone fluctuating demand of labor as well as a restructuring caused by both political reforms and general labor demand centralization within the concerned ten year period. \n",
    "Subject to these issues, this paper will examine whether these assertions in the public debate about outskirts Denmark can be confirmed empirically and whether, how, when, and where, a restructuration in the labor market has occured."
   ]
  },
  {
   "cell_type": "markdown",
   "metadata": {},
   "source": [
    "Our inquiry will be performed with a focus on applying tools of social data science. Using Python through Anaconda we will be scraping data from the archive of Danish job portal JobIndex. This will serve as our primary source of data, supplemented by demographic and socioeconomic data gathered from the API offered by Statistics Denmark. The archive data is treated on different levels of development ranging from specific jobtypes within regions to nation-wide job sectors, and presented and examined through descriptive statistics. We will examine if the labour demand across regions have changed over the years in order to assess whether the labour demand truly has been subject to centralization towards the Capital Area. Furthermore, we will examine if the labour demand has redistributed amongst sectors over time in order to assess if certain sectors have experienced growth or decline. Finally, we conduct an analysis of the data, by which we compute and examine the elasticity between development in GDP and labour demand (as proxied through job postings on JobIndex) in order to assess the changes in labour demand relative to  the changes in general wealth in Denmark."
   ]
  },
  {
   "cell_type": "markdown",
   "metadata": {},
   "source": [
    "# Method"
   ]
  },
  {
   "cell_type": "markdown",
   "metadata": {},
   "source": [
    "## Data source"
   ]
  },
  {
   "cell_type": "markdown",
   "metadata": {},
   "source": [
    "In order to analyse how labor demand changed over years within sectors and regions, we have conducted scpraing of data of all job postings on JobIndex in the yearspan of 2007-2017, including both years. JobIndex gather supply and demand of labor and is the largest Danish job portal with 800.000 unique users every month (Jobindex, 31-08-2018).  "
   ]
  },
  {
   "cell_type": "markdown",
   "metadata": {},
   "source": [
    "The site works as an index by fetching job postings from hundreds of different job offer sources. Their archive, the [JobIndex archive](https://www.jobindex.dk/jobsoegning?jobage=archive), contains all the job postings listed on their site since 1998, yet the amount of job postings prior to 2007 is very scarce (contains in total approximately 13.000 jobs postings). Thus, our dataset contains only data from 2007 and onwards as we believe this to be the period of time in which JobIndex data may properly be assumes to cover the near-true labor market demand. Job postings are divided by different characteristics: Area, job category and job type (with Job type being a subdivision of job category). Based on the archive we are able to obtain the number of job postings across year, area, job category and job type.   \n",
    "JobIndex has defined 13 different areas and 10 different Job Categories, where each job category contains various job types. \n",
    "Jobindex as data source allows for analysis of labor market demand across time and industries. As society progress, demand for labor likely changes as well, and the amount of labor demanded within each industry may vary. Processing data for the demand side of the labor market enables an analysis of instant changes in geographical restructerings and expansion of certain sectors for instance. Labor supply may however react slowly to changes in demand, which is among causes of structural unemployment. Hence data for labor demand allows for greater insight into the future of the Danish labor market and unemployment levels."
   ]
  },
  {
   "cell_type": "markdown",
   "metadata": {},
   "source": [
    "## Web scraping / data collection"
   ]
  },
  {
   "cell_type": "markdown",
   "metadata": {},
   "source": [
    "By inspecting the elements of the  archive's website we have obtained the part of the html code which contains the amount of job postings. This has been done by firstly, specifying the search across each year, area, job category and job type would alter the URL itself. This enables us to create a function returning an URL to a specific job type for each category and area. The URL takes the four characteristics as inputs (i.e. year, area, job category and job type).  \n",
    "Hence, it was important to be aware of multiple categories using the same URL. E.g. The job type \"Retail management\" occurs under the job category of both \"Trade and service\" as well as \"Management and staff\", yet they share the same URL. As such, URL-duplicates have been removed and the amount of job postings will be placed in the category specified by the URL.   "
   ]
  },
  {
   "cell_type": "markdown",
   "metadata": {},
   "source": [
    "Secondly, based on all the URL's acquired as presented above, we were able to scrape the amount of job postings across year, area, job category and job type by parsing through the HTML code and searching for the `h2` header and the class `search-title`. In order to collect the present amount of data we made sure to use a delay when scraping Jobindex.dk. Finally, a DataFrame which contained a column for year, area, job category and job type was created, and the amount of job postings across all characteristics were added to the DataFrame as a seperate column. As such, each row would cover a different combination of characteristics."
   ]
  },
  {
   "cell_type": "markdown",
   "metadata": {},
   "source": [
    "By the scope of this paper, not all areas that JobIndex use for categorizaion will be used. Further, some areas are combined in order to represent the Danish Regions. Thus, Bornholm and Northern Zealand will be combined with the Capital Area to represent the Capital Region of Denmark. Funen will be combined with Southern Jutland in order to represent the Region of Southern Denmark. The five regions of Denmark (Capital Area, Zealand, Southern Denmark, Central Jutland and Northern Jutland) will be the areas that are used and examined in this paper. Job postings in the areas of Greenland, The Faroe Islands, Skaane and foreign countries will not be used, as these are not deemed within the scope of inquiry."
   ]
  },
  {
   "cell_type": "markdown",
   "metadata": {},
   "source": [
    "Having collected, cleaned and processed the dataset acquired from Jobindex we end up with 4.950 observations and 5 **(MÅSKE 4??)** variables for a period spanning from 2007 til 2017. The codes used for scraping, processing, and merging data is available in **APPENDIX X**. Variables are presented as: \n",
    "\n",
    "- $N_{Year}$ is the total amount of job postings within each year for the concerned period 2007 to 2017. \n",
    "- $N_{Area}$ is the total amount of job postings within each area by year. \n",
    "- $N_{Category}$ is the total amount of job postings within each job category by year. ER DEN MED?\n",
    "- $N_{Category\\_Area}$ is the total amount of job postings within each job category and area by year. \n",
    "- $N_{Type\\_Area}$ is the total amount of job postings within each job type and area by year. \n",
    "\n",
    "The following outlines the structure of the data set collected from Jobindex:  \n",
    "\n",
    "**OMSKRIV BESKRIVELSEN; MANGLER BESKRIVEL AF HVAD `N_[specification]` ER. Tilføj resterende variable til tabellen **"
   ]
  },
  {
   "cell_type": "markdown",
   "metadata": {},
   "source": [
    "Year | Area | Job Category | Job Type | $N_{Year}$ | $N_{Area}$ | $N_{Category}$ | $N_{Type}$\n",
    "---|---|---|---|---|---|---|---\n",
    "2007 | Funen | Management and staff | Sales management | 380,597 | 24,824 | 1,591 | 209\n",
    "2007 | Funen | Industry and craft | Electrician | 380,597 | 24,824 | 4,740 | 468\n",
    "2009 | Capital Area | Management and staff | Sales management | 167,083 | 56,116 | 14,998 | 1,276\n",
    "2009 | Capital Area | Industry and craft | Electrician | 167,083 | 56,116 | 12,337 |1,045"
   ]
  },
  {
   "cell_type": "markdown",
   "metadata": {},
   "source": [
    "### Ethical scraping"
   ]
  },
  {
   "cell_type": "markdown",
   "metadata": {},
   "source": [
    "Reading through the Terms and Privacy Policy, Terms and Conditions for Companies, Cookie Policy and GDPR policyf of JobIndex, we have assessed that we have not violated any of the company's policies by scraping the (publicaly available) data. Furthermore, as JobIndex and its archive is openly accesible by internet access, and seeing as none of the data we have collected contains personally identifiable information or other sensitive information, we deem that we have not violated any ethical procedures of webscraping.\n",
    "When scraping, a delay was included such that no disruptions were caused on their server (e.g. resulting in an unintentional denial-of-service).\n",
    "\n",
    "In addition to the data set collected from Jobindex we also make use of data from an API by Danmarks Statistik. "
   ]
  },
  {
   "cell_type": "markdown",
   "metadata": {},
   "source": [
    "## Data limitations"
   ]
  },
  {
   "cell_type": "markdown",
   "metadata": {},
   "source": [
    "The data the we have obtained by scraping the JobIndex archive does contain some limitations. For instance, even though archive did contain some information concerning which cities the companies of the job postings are from or which cities the actual jobs will take place in, we were not able to acquire this information with current skills. As thus, our obtained data holds some limitations in terms of narrowing the labor demand (based on job postings) down to specific cities rather than larger areas. Another limitation due to our process of scrapin is, that due to the way job categorization in the JobIndex archive occurs, some job postings are ambiguous and may occur in more than one job category. Therefore, simply summing job postings based on their job category or job type may result in a counting of duplicates. This makes it important to distinguish between the amount of job postings within each category and the total amount of job postings. In order to clarify this, our dataset will contain variables denoted as `\"N_[specification]\"` with `[specification]` being a general term for which characteristic is used (e.g. number of jobpostings in that area for that year or within that job type, area, or year)."
   ]
  },
  {
   "cell_type": "markdown",
   "metadata": {},
   "source": [
    "Jobindex is not a complete library of all job postings between 2007 and 2017, but rather a collection of those posted on the online and within the range of the index. With the rise of other employment-oriented web-services such as LinkedIn in recent years, labor market demand may work by channels not covered in our data. Likewise, we believe that other channels of job posting and recruitment may follow informal networks, social-media websites like Facebook (who have recently incorporated recruitment in their [services](https://www.facebook.com/business/news/take-the-work-out-of-hiring)), and non-online means of communication like newspapers. Conclusions made from data singlehandedly by JobIndex are thus limited in the sense that the data does not provide a complete picture of labor market demand, prompting caution in making overly general remarks. In the specific Danish context, we believe it further possible that firms located in outskirt municipalities may more often choose not to post job offers in JobIndex for instance. This would result in a source of bias in any geografic related conclusion regarding demand of labor. "
   ]
  },
  {
   "cell_type": "markdown",
   "metadata": {},
   "source": [
    "Another aspect of limiations in our Jobindex dataset, is aggregation of daily observations to annual observations. This has been an active choice on our behalf, as accounting for daily observations would make the data set too large to handle with present time and skill. However this comes at the cost, that due to an aggregation into annual observations the data set comes to lack exact timing of events posing an effect on the daily or monthly basis of job postings, as well as information of seasonal variations. "
   ]
  },
  {
   "cell_type": "markdown",
   "metadata": {},
   "source": [
    "### An unresolved issue\n",
    "\n",
    "The day before deadline we discovered a flaw in our data collecting process: Data from Jobindex for the number of job postings by area did not sum to the total number of job postings in Denmark in our data set. This has been due to our data collecting process failing to sort out job postings for jobs abroad. That is, aggregated data for Denmark also includes foreign job postings. This mistake is relevant for Figure 1 and 2 in the following chapter _Descriptive analysis_ and for Figure ……….…….. in the analysis section. This flaw is especially relevant for job postings in the year 2015, with the amount of foreign job postings being more than tripled compared to 2014. Besides this, job postings for job abroad is somewhat stable around 8.000 – 17.000 job postings across all job categories. Due to time limitiations this flaw was not corrected, but we wish to emphasize our awareness of the issue and that we will keep this in mind moving onward."
   ]
  },
  {
   "cell_type": "markdown",
   "metadata": {},
   "source": [
    "# Descriptive analysis"
   ]
  },
  {
   "cell_type": "markdown",
   "metadata": {},
   "source": [
    "This section provides a descriptive analysis of the development in labor demand in Denmark between 2007 and 2017. \n",
    "\n",
<<<<<<< HEAD
    "Data for figures in this section is presented as per person in working age population. Working age population will be referred to as _WAP_. This is done on the merit, that aboslute numbers of job postings do not provide clarity of labor demand itself without some kind of comparable scale inbetween sectors and aras. Using data per WAP thus allows for comparison across characteristics. Job postings per WAP is calculated as the number of job postings divided with the total number of inhabitants in Denmark or within regions for individuals aged 20-64 years. Population data is collected from Statistics Denmark. The population data used does not equal the actual labor force, seeing as not every individual is available for the labor market. Though, the population data is deemed approximately equal to labor supply. "
   ]
  },
  {
   "cell_type": "markdown",
   "metadata": {},
   "source": [
    "## Levels of development  "
   ]
  },
  {
   "cell_type": "markdown",
   "metadata": {},
   "source": [
    "When examining the development in job postings across time for sectors, areas, and job types, we would be conducting an inquiry on three different levels: First, we examine the overall trend of development on the area- and sectorwide level. Secondly, we examine the development of all sectors across for the various areas. Finally, we will perform a sample examination of the development within certain sectors or within certain areas."
   ]
  },
  {
   "cell_type": "markdown",
   "metadata": {},
   "source": [
    "On the third level we will be examining the amount of job postings for specific job types. It is important to emphasize that we will be examining a small number of job postings when looking at job types, as minor variations in data sets containing few observations may appear as massive changes. For some job types there are very few job postings why excessive interpreting of development within job types may be misleading. "
   ]
  },
  {
   "cell_type": "markdown",
   "metadata": {},
   "source": [
    "## Working age population and unemployed"
   ]
  },
  {
   "cell_type": "markdown",
   "metadata": {},
   "source": [
    "Figure 3.1 illustrates the total number of job postings in Jobindex as both per WAP and per unemployed individual in Denmark for the period of 2008 to 2016 (years limited by available data for unemployment). Initial demand for labor is the maximum level for the period with more than one job posts for every ten people in working age population. In only two years, during the financial crisis, the number of job posts is cut in half. Afterwards, demand for labor rises slowly to almost initial level. Job postings relative to the number of unemployed reveal a similar drop in 2009. Over a five year period the number of job postings per unemployed drops from 4.2 to 1.5 posts per unemployed. "
   ]
  },
  {
   "cell_type": "markdown",
   "metadata": {},
   "source": [
    "    Figure 3.1: Job postings per year\n",
    "![](https://raw.githubusercontent.com/Naeim-S/GRP33/master/EXAM/Dataset/Figure1.png)\n",
=======
    "Data for figures in this section is presented as per person in working age population. Working age population will be referred to as _WAP_. This is done on the merit, that aboslute numbers of job postings do not provide clarity of labor demand itself without some kind of comparable scale inbetween sectors and aras. Using data per WAP thus allows for comparison across characteristics. Job postings per WAP is calculated as the number of job postings divided with the total number of inhabitants in Denmark or within regions for individuals aged 20-64 years. Population data is collected from Statistics Denmark. The population data used does not equal the actual labor force, seeing as not every individual is available for the labor market. Though, the population data is deemed approximately equal to labor supply. \n",
    "\n",
    "## Levels of development  \n",
    "\n",
    "When examining the development in job postings across time for sectors, areas, and job types, we would be conducting an inquiry on three different levels: First, we examine the overall trend of development on the area- and sectorwide level. Secondly, we examine the development of all sectors across for the various areas. Finally, we will perform a sample examination of the development within certain sectors or within certain areas.\n",
    "\n",
    "On the third level we will be examining the amount of job postings for specific job types. It is important to emphasize that we will be examining a small number of job postings when looking at job types, as minor variations in data sets containing few observations may appear as massive changes. For some job types there are very few job postings why excessive interpreting of development within job types may be misleading. \n",
    "\n",
    "## Working age population and unemployed\n",
    "\n",
    "Figure 1 illustrates the total number of job postings in Jobindex as both per WAP and per unemployed individual in Denmark for the period of 2008 to 2016 (years limited by available data for unemployment). Initial demand for labor is the maximum level for the period with more than one job posts for every ten people in working age population. In only two years, during the financial crisis, the number of job posts is cut in half. Afterwards, demand for labor rises slowly to almost initial level. Job postings relative to the number of unemployed reveal a similar drop in 2009. Over a five year period the number of job postings per unemployed drops from 4.2 to 1.5 posts per unemployed. \n",
    "\n",
    "Figure 1\n",
    "![](https://raw.githubusercontent.com/Naeim-S/GRP33/master/EXAM/Dataset/Figure1p.png)\n",
>>>>>>> 375461ff41fa95e66011f7c9caf81d014f49c9f9
    "*Source: Jobindex.dk, DST.dk FOLK1A, RAS201 and own calculations. *\n",
    "\n",
    "## Descriptive statistics\n",
    "\n",
    "The drop in job postings shown in Figure 1 is elaborated in Figure 2. Figure 2 illustrates the number of job postings by job sector for 2007 to 2017. Every category is exposed to significant decrease in demand of labor in 2008 and 2009. Number of available jobs in the industry sector in 2009 is 71 percent lower compared to the year before. Also IT experienced a large drop in job postings in the same period. Meanwhile teaching and social and health sectors had the lowest drop in job postings at 31 percent from 2008 to 2009. Though, social and health is the only job category to continue to this drop until 2010. The IT-sector shows the fastest recovery in 2010 with 62 percent higher number of job postings, though this may be partly due to a low absolute value for job postings. In 2015 there was an equal intensification in demand for teaching and IT however only taking place for one year. Considering the ten year period, IT is the only job category with an overall increased demand for labor. Trade and industry on the other hand both had 50 percent fewer job postings in 2017 compared to 2007. \n",
    "\n",
    "Figure 2\n",
    "![](https://raw.githubusercontent.com/Naeim-S/GRP33/master/EXAM/Dataset/Figure2.png)\n",
    "*Source: Jobindex.dk and own calculations. *\n",
    "\n",
    "An overview of the number of job postings per WAP by region is provided in figure 3. In 2007, the region of Northern Jutland and region of Zealand are underperforming. However, by 2009 both regions share approximately the same level of job postings per WAP as the regions of Central and Southern Jutland. For all regions, the number of job postings is cut in half in two years going from 2007 to 2009. From 2009 and onwards the amount of job postings slowly rises. The Capital Area is unique in the sense that compared to the region of Zealand, it constantly has twice the number of job posts per WAP. That is, most of labor demand takes place in the capital area. \n",
    "\n",
    "Figure 3\n",
    "![](https://raw.githubusercontent.com/Naeim-S/GRP33/master/EXAM/Dataset/Figure3.png)\n",
    "*Source: Jobindex.dk, DST.dk FOLK1A and own calculations. *\n",
    "\n",
    "The regions Capital Area and Zealand are the regions with the highest and lowest demand for labor respectively. Figure 4 further examines differences in the number of job postings within job categories causing deviating labor demand in these areas. Job posts for teaching and social work are dominating in the region of Zealand. These are typically jobs in the public sector and the amount of job postings is thus less dependent of area taking population size into account. A major difference between the two regions is that demand for labor in IT and office work is considerably higher in the Capital Area. Drops in demand for labor in the industry and trade sectors for both regions contribute to the overall intense drop in these categories for all of Denmark as previously illustrated in Figure 2. \n",
    "\n",
    "Figure 4\n",
    "![](https://raw.githubusercontent.com/Naeim-S/GRP33/master/EXAM/Dataset/Figure4.png)\n",
    "*Source: Jobindex.dk, DST.dk FOLK1A and own calculations. *\n",
    "\n",
    "Job categories IT and office work in the capital area are of interest next, as IT is relatively large within the capital area and is the only job category with a higher demand of labor in 2017 relative to 2007. Office work is also of interest because of the high demand for labor compared to rest of Denmark. \n",
    "\n",
    "Graph a) in figure 5 divides job postings in the IT sector in the Capital Area into job types. The drop in job postings in IT in 2009 is mainly driven by lack of demand of labor in IT operations and especially system development. The latter is also primary cause in the overall positive growth in IT job postings.  \n",
    "\n",
    "Figure 5 graph b) highlights job postings in office work by job types in the Capital Area. The drop in job postings within office work is almost solely caused by lack of demand for labor in office, economy, finance and logistics, which all has at least 50 percent lower job postings in 2009 compared to 2008. \n",
    "\n",
    "The job category industry in Zealand, illustrated in figure 5 graph c), shows that the whole industry sector suffered hard during the financial crisis. Demand for labor were almost completely satisfied in 2009 and 2010 as the number of job postings were close to zero for every job type within the industry sector. \n",
    "\n",
    "Hotel and cleaning and retail job types experience the largest decrease in job postings within the trade sector in 2009 cf. graph d) in figure 5. Since 2009 almost no growth in job types of the trade sector has been recorded apart from in retail 2014 to 2016. \n",
    "\n",
    "Figure 5\n",
    "![](https://raw.githubusercontent.com/Naeim-S/GRP33/master/EXAM/Dataset/Figure5.png)\n",
    "*Source: Jobindex.dk, DST.dk FOLK1A and own calculations. *\n",
    "\n",
    "Finally, the sudden increase in job postings in 2015 for teaching and IT is investigated cf. figure 2. Figure 6 shows the average number of job postings in the IT sector across all areas. The jump in 2015 for IT that was noted in in figure 2 is now visibly caused by an increased demand for labor in system development. This job category today has more job postings than initially in 2007, which is quite unique as shown in earlier graphs. This demand is primarily located in Region Capital Area. \n",
    "\n",
    "Figure 6\n",
    "![](https://raw.githubusercontent.com/Naeim-S/GRP33/master/EXAM/Dataset/Figure6.png)\n",
    "*Source: Jobindex.dk, DST.dk FOLK1A and own calculations. *\n",
    "\n",
    "Temporary increased demand for teaching staff in 2015 illustrated in figure 2 is mainly caused by increased foreign demand. As described in Data Limitations section, a mistake in our data collecting process resulted in data including job postings abroad. This is greatly reflected in labor demand in 2015 for teaching job category. "
   ]
  },
  {
   "cell_type": "markdown",
   "metadata": {},
   "source": [
    "# Analysis of GDP elasticities of labor demand"
   ]
  },
  {
   "cell_type": "markdown",
   "metadata": {},
   "source": [
    "In order to analyze at the relationship between the demand for labour and the general wealth in Denmark, we will calculate the ratio between the change in the amount of job positions on JobIndex over time (and across different areas and job sectors) and the change in GDP over time (in 2010-prices as chained values).\n",
    "One way to calculate the ratio is based on the first differences of job postings and BNP over time, resulting in an absolute ratio, indicating the absolute change in job postings relative to the absolute change in BNP:   "
   ]
  },
  {
   "cell_type": "markdown",
   "metadata": {},
   "source": [
    "$$\n",
    "\\frac{JP_{i, j, t} - JP_{i, j, (t-1)}} {GDP_t - GDP_{(t-1}} = \\frac{\\Delta JP_{i, j, t}} {\\Delta GDP_t}\n",
    "$$"
   ]
  },
  {
   "cell_type": "markdown",
   "metadata": {},
   "source": [
    "Yet, in order to better compare the changes of the major sectors and areas with the minor sectors and areas (since the absolute changes and ratios over time will be much larger for major sectors than of smaller sectors or areas) we will focus on estimates based on the ratio between the relative first difference in job postings (across characteristics) and the relative first difference in BNP. This is basicly an elasticity measure between the two, which we will denote the *BNP elasticity of labour demand*:"
   ]
  },
  {
   "cell_type": "markdown",
   "metadata": {},
   "source": [
    "$$\n",
    "\\epsilon_{LD} = \\frac{JP_{i, j, t} - JP_{i, j, (t-1)}}{JP_{i, j, (t-1)}} \\cdot \\left(\\frac{GDP_t - GDP_{(t-1)}}{GDP_{(t-1)}}\\right)^{-1} = \\frac{ \\Delta JP_{i, j, t}}{JP_{i, j, (t-1)}} \\cdot \\left(\\frac{\\Delta GDP_t}{GDP_{(t-1)}}\\right)^{-1}\n",
    "$$"
   ]
  },
  {
   "cell_type": "markdown",
   "metadata": {},
   "source": [
    "Where *JP* is the amount of job postings across area, job type or job sector, and year. Here, *i* indicates area (e.g. the Capital Area) and *j* indicates job type or sector (e.g. IT or Property Service), *t* indicates the year.\n",
    "\n",
    "Then, given our data, we will be able to calculate point elasticities (estimates at a certain year for a certain set of job posting characteristics) across *i* and *j* and for a given year. Note that both $\\frac{ \\Delta JP_{i, j, t}}{JP_{i, j, (t-1)}}$ and $\\frac{\\Delta GDP_t}{GDP_{(t-1)}}$ will be mentioned as relative first difference, and not elasticities."
   ]
  },
  {
   "cell_type": "markdown",
   "metadata": {},
   "source": [
    "Having constructed the point estimates of elasticity, we will examine the development in Denmark across the yearspan of 2007 and 2017, both years included. When describing our plots, we keep in mind that the relationship portrayed does not explain causality or statistical correlation. Rather, it must be understood as an indicator of the percentage change in jobmarket offerings given a 1-percent change in national gross product.\n",
    "\n",
    "In line with our previous chapter of descriptive statistics the plots presented cover three general levels: The overall development across all areas and sectors, the development in all sectors across different areas, and the development in specific sectors across certain areas with focus on the individual job types.\n",
    "\n",
    "Before moving onto general explanations of our data, we would like to highlight the major fluctations in the elasticity across all job posting characteristics in 2012. Examining the development of both job postings and BNP from 2011 to 2012, we find that there is only a slight change in BNP (close to zero). Thus, any change in the amount of job postings will have a major impact on the point estimates of elasticity. "
   ]
  },
  {
   "cell_type": "markdown",
   "metadata": {},
   "source": [
    "## Overall development\n",
    "\n",
    "First, we shall shortly examine range of the elasticities within the five areas and ten sectors across all years. This shows us that some areas and sectors have very large variance. Region of Northern Jutland and Region of Zealand seem to have the highest variance in elasticities (across all job sectors and year) and the only regions with negative elasticities below -0.5, indicating that these areas seem to have very different changes in labour demand when BNP changes. This gives a good sense of the large range in elasticities across all areas, job sectors and years.\n",
    "\n",
    "Figure 7: Boxplot of point elasticities across areas.\n",
    "![](https://raw.githubusercontent.com/Naeim-S/GRP33/master/EXAM/Boxplot_area.png)\n",
    "*Source: Jobindex.dk, DST.dk FOLK1A and own calculations. *"
   ]
  },
  {
   "cell_type": "markdown",
   "metadata": {},
   "source": [
    "Looking at variation over sector, we see that the sectors of; management and staff, trade and service as well as office and finance, seem to have the lowest variation in elasticites. Sectors of Teaching as well as Sales and communcation have the highest variation in elasticities, indicating that these sectors have very different changes in labour demand when BNP changes. This might be du to BNP having little explanatory power. Furthermore, all sectors seem to have both positive and negative elasticities, which further emphasizes the large range in elasticities across all areas, job sectors and years. \n",
    "\n",
    "Figure 8: Boxplot of point elasticities across sectors for 2007 to 2017. \n",
    "![](https://raw.githubusercontent.com/Naeim-S/GRP33/master/EXAM/Boxplot_sector.png)\n",
    "*Source: Jobindex.dk, DST.dk FOLK1A and own calculations. *\n",
    "\n",
    "Next, the development in elasticities across sectors from 2007-2017 can be seen in figure X.3 below. We find that almost all sectors follow a rather similar development over the years. Up until 2009 all sectors show positive point elasticities, with values ranging from 10 to 60.\n",
    "This changes in 2010 and 2011, where some sectors reach negative elasticities. Whereas the remaining sectors are having positive elasticities, with values between 0 and 30.\n",
    "In 2012 we see a major fluctation in the point elasticities within all sectors. Only the sector of management and staff has a small negative change and gets a negative point elasticity in 2012, whereas the remaining sectors have large positive changes in point elasticities with the social and health sector peaking at 175.\n",
    "In 2013 the elasticities seem to stabilize again, where the elasticities across the sectors range from -17 to +5.\n",
    "From 2014 to 2017 all sectors follow somewhat similar patterns, with an average elasticity of +5 over these four years. However the IT sector has a large positive peak in 2015 and a subsequent negative peak in 2016.   \n",
    "By 2017 all sectors seem to be closely distributed, with an average point elasticity of -0.1.\n",
    "\n",
    "Figure 9: Point elasticity development across sectors from 2007-2017.\n",
    "![](https://raw.githubusercontent.com/Naeim-S/GRP33/master/EXAM/1_RR_Sector.png)\n",
    "*Source: Jobindex.dk, DST.dk FOLK1A and own calculations. *"
   ]
  },
  {
   "cell_type": "markdown",
   "metadata": {},
   "source": [
    "In figure 10 the development in point elasticities across areas is depicted. In 2008 and 2009 we see positive elasticities across all areas. In 2010 only the region of Zealand has a negative point elasticity of -10, whereas the other areas lie between 0 and  +5. As seen in figure X.3, in 2012 all areas gain a major increase in elasticities. From 2013 through to 2016 all the areas have similar values and patterns of change in the point elasticitiy, ranging from 0 to +15. By 2017 all areas seem to be closely distributed, with an average point elasticity of -0.3.\n",
    "\n",
    "Figure 10: Point elasticity development across areas from 2007-2017.\n",
    "![](https://raw.githubusercontent.com/Naeim-S/GRP33/master/EXAM/2_RR_Area.png)\n",
    "*Source: Jobindex.dk, DST.dk FOLK1A and own calculations. *"
   ]
  },
  {
   "cell_type": "markdown",
   "metadata": {},
   "source": [
    "## Development across sectors within areas  \n",
    "\n",
    "Firstly an overall trend seem to be present for all sectors across all regions: Sectors experience a major drop in point elasticity from 2008 to 2009 before clustering at a positive point elasticity in 2011 cf. figure 11. By 2012 major fluctuations occur for all regions and across all sectors, just as depicted in the previous figures and expected due to BNP being stable in 2012. The Capital Area and Region of Central Jutland have sectors with positive and negative point elasticities. Whereas the remaining three regions mainly see a possitve change in point elasticity. For Region Zealand only the trade-sector poses a negative relationship at 5-percentage relative change. From 2013 and onwards the point elasticities across sectors and within all regions seem to stabilize around zero.\n",
    "\n",
    "For specific sectors some general trends are worth noting: The social and educational sector generally show a negative point elasticity in 2010 and 2011. Both of these regionwide sector developments seem to match the overall development of sectors as previously presented with no region visibly over- or underperforming in terms of elasticities. Furthermore, on the region-wide level the trade-sector appears as the sector with the least fluctuation. \n",
    "\n",
    "Looking into sectors on the region-specific level we find that Region of Zealand differ from other regions with lower point elasticities in 2010. The highest degree of point elasticity in Region Zealand is found in the trade sector at 10 percent, thus showing that the region had little perforance for the year 2010 as related to other regions.\n",
    "\n",
    "Figure 11: Point elasticity development across sectors within areas from 2007-2017.\n",
    "\n",
    "| | |\n",
    "|:-------------------------:|:-------------------------:|\n",
    "| ![](https://raw.githubusercontent.com/Naeim-S/GRP33/master/EXAM/3.1_RR_sector_area.png)\n",
    "| | |\n",
    "| ![](https://raw.githubusercontent.com/Naeim-S/GRP33/master/EXAM/3.2_RR_sector_area.png) | ![](https://raw.githubusercontent.com/Naeim-S/GRP33/master/EXAM/3.3_RR_sector_area.png) |\n",
    "| | |\n",
    "| ![](https://raw.githubusercontent.com/Naeim-S/GRP33/master/EXAM/3.4_RR_sector_area.png) | ![](https://raw.githubusercontent.com/Naeim-S/GRP33/master/EXAM/3.5_RR_sector_area.png) |\n",
    "*Source: Jobindex.dk, DST.dk FOLK1A and own calculations. *"
   ]
  },
  {
   "cell_type": "markdown",
   "metadata": {},
   "source": [
    "## Development on the level of jobtypes in sectors within areas  \n",
    "\n",
    "On the level of jobtypes of sectors within areas we return to the four examples presented in the previous chapter of descriptive statistics. Figure 12 plots development in GDP elasticity of labor demand for jobtypes in sectors IT and office work for the region Capital Area, and trade and industry for Zealand. Worth noting is that the jobtype of IT-courses in the Capital Area has been left out as the jobtype saw a rise from 1 to 175 going from 2013 to 2014. This prompted a degree of relative change at 17500 percent thus making the figure highly uninterpretable. Similar action has been taken towards the jobtype of office-courses for sector office work, as the level of relative change hit 300 percent, and thus was deemed a disturbing outlier.\n",
    "\n",
    "Starting with the regions of Capital Area as presented in Figure 12 a) and b), we find that jobtypes in the sector IT presents some diversity with jobtypes telecommunication and system development starting at a positive relationship and remaining jobtypes at a negative. With fluctuations splitting the relationship of jobtypes between both positive and negative, this even out by 2013 through to 2017, with some jobtypes briefly finding themselves at a negative relationship.\n",
    "For jobtypes in the sector of office work, all positions start at a positive relationship with point elasticities ranging from  20 to 60 percent. This seems to hold true through to 2012, with some jobtypes showing a negative relationship. By 2013 through 2017 jobtypes cluster at a level between 0 and 30 percent showing generally positive relationships with development in BNP. Translation stands out for the period until 2016 when it returns to the level of the remaining jobtypes.\n",
    "\n",
    "Figure 12 c) and d) plots sectors industry and trade in Region Zealand. We find that a pattern similar occur to that in the Capital Area occurs. All jobtypes pose a positive relationship to development in BNP by 2007, dropping in level though to 2008. In 2009, a split occurs with jobtypes finding themselves close to the level of 0 percent and the sectors finding jobs that pose both positive and negative relationships. For the trade sector, delivery stands out in terms of point elasticity above 100 percent. With fluctuations in 2012 the trade sector finds a majority of jobs posing negative relationships with high levels of elasticities, whilst the industry sector shows a somewhat even distribution of jobtypes with positive- and negative relationships. For industry jobtypes electrician and paint show elasticities at 200 and 300 percent respectively. By 2013 to 2017 jobtypes in both sectors cluster and elasticities is generally in the range of minus 5 to plus 50 percent However, childcare in the trade sector shows a level of 100 percent in 2013.\n",
    "\n",
    "Figure 12: Point elasticity development across sectors within areas from 2007-2017.\n",
    "\n",
    "| | |\n",
    "|:-------------------------:|:-------------------------:|\n",
    "| ![](https://raw.githubusercontent.com/Naeim-S/GRP33/master/EXAM/4.1_RR_jobtype_area.png) | ![](https://raw.githubusercontent.com/Naeim-S/GRP33/master/EXAM/4.2_RR_jobtype_area.png) |\n",
    "| | |\n",
    "| ![](https://raw.githubusercontent.com/Naeim-S/GRP33/master/EXAM/4.3_RR_jobtype_area.png) | ![](https://raw.githubusercontent.com/Naeim-S/GRP33/master/EXAM/4.4_RR_jobtype_area.png) |\n",
    "*Source: Jobindex.dk, DST.dk FOLK1A and own calculations. *"
   ]
  },
  {
   "cell_type": "markdown",
   "metadata": {},
   "source": [
    "## The Financial Crisis\n",
    "\n",
    "Looking at point elasticites across the five regions and ten job sectors just as the financial crisis is realized in 2009, we see a clear positive relationship as depicted in figure 13. E.g. when BNP dropped by 1 percent from 2008 to 2009 the amount of job postings in the IT-sector within the capital area increased by almost 12 percent (or vice versa).\n",
    "\n",
    "Figure 13: Elasticities across regions and job sectors in 2009\n",
    "![](https://raw.githubusercontent.com/Naeim-S/GRP33/master/EXAM/Sektor_area_2009.png)"
   ]
  },
  {
   "cell_type": "markdown",
   "metadata": {},
   "source": [
    "## Discussion\n",
    "\n",
    "For this paper we have used the number of job postings in Jobindex's archive as a proxy for labor demand. This has allowed for us to analyze geographical restructurings and changes over time. Even though Jobindex demm themselves as the largest register of available jobs in Denmark (Jobindex 31/8-2018 21.49), the amount of job postings in Jobindex is not an exact measure of total demand for labor. Jobindex is not a complete register of job ads and thus naturally omit job postings passed through other channels. Some jobs may be advertised locally or may never reach Jobindex before the job is taken. Our data set then presents statistics about demand for labor however not to be interpreted as total demand for labor in Denmark. Alternatively, if time allowed us to do so, we could gather data from multiple job registers in order to obtain comprehensive data. For instance scraping of competing databases such as Jobnet.dk or turning to local job advertisers could contribute to an adequate data set. Whether there is any correlation between omitted job postings in Jobindex and job types, job category, area or year is unknown. \n",
    "\n",
    "Our data collecting process has not been entirely efficient. Apart from Jobindex not being a complete register of job postings in Denmark, data also lack the consistency of purposely including or excluding job postings abroad. This is a mistake that comes from the scraping process when defining appropriate URLs. Jobs abroad thus come to add noise in parts of our data set. The number of job postings from abroad is somewhat constant except in 2015, thus resulted noise in data mainly revolves around 2015. Re-scraping Jobindex was not an option due to time limits not permitting the work load of doing so. \n",
    "\n",
    "There is also some noise in data occurring from our merging of areas defined by Jobindex into regions. For instance, Northern Zealand, Bornholm and the Greater Area of Copenhagen was matched in the region Capital area. This is geographically correct, but some job postings may occur in more than one area within the region. Adding these three areas together may result in duplicates that are not dealt with. Noise in data stemming from this causes bias in data involving regions of Capital area and Southern Denmark. The number of job postings for these regions are overstated by approximately 10 percent for Region of Capital area and 5 percent for Region of Southern Denmark. \n",
    "\n"
   ]
  },
  {
   "cell_type": "markdown",
   "metadata": {},
   "source": []
  },
  {
   "cell_type": "markdown",
   "metadata": {},
   "source": []
  },
  {
   "cell_type": "markdown",
   "metadata": {},
   "source": []
  },
  {
   "cell_type": "markdown",
   "metadata": {},
   "source": []
  },
  {
   "cell_type": "markdown",
   "metadata": {},
   "source": []
  },
  {
   "cell_type": "markdown",
   "metadata": {},
   "source": []
  },
  {
   "cell_type": "markdown",
   "metadata": {},
   "source": []
  },
  {
   "cell_type": "markdown",
   "metadata": {},
   "source": []
  },
  {
   "cell_type": "markdown",
   "metadata": {},
   "source": []
  },
  {
   "cell_type": "markdown",
   "metadata": {},
   "source": []
  },
  {
   "cell_type": "markdown",
   "metadata": {},
   "source": []
  },
  {
   "cell_type": "markdown",
   "metadata": {},
   "source": []
  },
  {
   "cell_type": "markdown",
   "metadata": {},
   "source": []
  },
  {
   "cell_type": "markdown",
   "metadata": {},
   "source": []
  },
  {
   "cell_type": "markdown",
   "metadata": {},
   "source": [
    "# Conclusion\n",
    "\n",
    "First, examining the labour demand in the regions over time (both in absolute numbers and relative to WAP) it is clear that the Capital Area has the highest labour demand. Yet, when comparing the relative change in job postings with the relative change in GDP, over time and across regions, it is not so prevalent whether the labour demand has been subject to centralization towards the capital area.   \n",
    "Since 2010 the GDP has been steadily increasing. Given that the GDP elasticity of labour demand in the capital area has been positive over the same period (as seen in figure X.4), indicates that the labour demand has increased overprorpotionately to GDP over the same period. Yet, when comparing the point elasticity of the capital area with the point elasticities of the other regions, the capital area doesn't always have a higher elasticity. As such, other regions seem to have a greater growth in labour demand, than the capital area, relative to the overall wealth growth in Denmark - which might indicate that the labour demand hasn't been subject to centralization towards the capital area, when factoring in the wealth growth in the Danish economy.\n",
    "\n",
    "Next, when looking at the change in labour demand over time across the different job sectors (for all regions), we see that the sector of industry and craft along with the trade and service sector had the largest decrease from 2007 to 2017, with a decrease of 50%. In fact, only the IT sector has had a positive growth in labour demand during this period. Furthermore, the IT sector has also had the quickest recovery after the financial crisis, despite the social and health sector as well as the teaching sector having the lowest decrease in labour demand after the financial crisis. Thus, based on the absolute levels of labour demand there are indications of the labour demand switching into the IT sector from the industry and craft sector as well as the trade and service sector.\n",
    "Yet, given the GDP elasticity of labour demand in the IT sector has been positive over the same period (as seen in figure X.3), indicates that the labour demand in the IT sector has increased overprorpotionately to GDP over the same period. Yet, when comparing the point elasticity of the IT sector with the other sectors, it doesn't always have the highest elasticity. As such, many other sectors seem to have a greater growth in labour demand, than the IT sector, relative to the overall wealth growth in Denmark - which might indicate that the labour demand hasn't switched into the IT sector, when factoring in the wealth growth in the Danish economy."
   ]
  },
  {
   "cell_type": "markdown",
   "metadata": {},
   "source": [
    "*Source: Jobindex.dk, DST.dk FOLK1A and own calculations. *"
   ]
  },
  {
   "cell_type": "markdown",
   "metadata": {},
   "source": [
    "# Bibliography\n",
    "\n",
    "- Jobindex, https://www.jobindex.dk/cms/omjobindex/index.shtml, 31-08-2018\n",
    "- "
   ]
  },
  {
   "cell_type": "markdown",
   "metadata": {},
   "source": [
    "# Appendix\n",
    "\n",
    "Se metode"
   ]
  }
 ],
 "metadata": {
  "kernelspec": {
   "display_name": "Python 3",
   "language": "python",
   "name": "python3"
  },
  "language_info": {
   "codemirror_mode": {
    "name": "ipython",
    "version": 3
   },
   "file_extension": ".py",
   "mimetype": "text/x-python",
   "name": "python",
   "nbconvert_exporter": "python",
   "pygments_lexer": "ipython3",
   "version": "3.6.5"
  },
  "latex_envs": {
   "LaTeX_envs_menu_present": true,
   "autoclose": true,
   "autocomplete": true,
   "bibliofile": "biblio.bib",
   "cite_by": "apalike",
   "current_citInitial": 1,
   "eqLabelWithNumbers": true,
   "eqNumInitial": 1,
   "hotkeys": {
    "equation": "Ctrl-E",
    "itemize": "Ctrl-I"
   },
   "labels_anchors": false,
   "latex_user_defs": false,
   "report_style_numbering": false,
   "user_envs_cfg": false
  },
  "toc": {
   "base_numbering": 1,
   "nav_menu": {},
   "number_sections": true,
   "sideBar": true,
   "skip_h1_title": false,
   "title_cell": "Table of Contents",
   "title_sidebar": "Contents",
   "toc_cell": false,
   "toc_position": {},
   "toc_section_display": true,
   "toc_window_display": false
  }
 },
 "nbformat": 4,
 "nbformat_minor": 2
}
