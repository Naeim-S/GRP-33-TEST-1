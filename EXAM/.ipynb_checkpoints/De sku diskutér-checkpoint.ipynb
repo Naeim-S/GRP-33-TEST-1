{
 "cells": [
  {
   "cell_type": "markdown",
   "metadata": {},
   "source": [
    "## Discussion\n",
    "Number of job postings in Jobindex is used as a proxy for labor demand. This allows for analysis of geographical restructurings and changes over time. Even though Jobindex is the largest register of available jobs in Denmark (kilde: https://www.jobindex.dk/jobsoegning?jobage=archive), the amount of job postings in Jobindex is not an exact measure of total demand for labor. Jobindex is not a complete register of job ads and thus naturally omit some job postings. Some jobs will be advertised locally or may never reach Jobindex before the job is taken. Our data set then presents statistics about demand for labor but not total demand for labor in Denmark. Alternatively, if time allowed us to do so, we could gather data from multiple job registers in order to obtain comprehensive data. For instance scraping of databases from Jobnet.dk and local job advertisers could contribute to an adequate data set. Whether there is any correlation between omitted job postings in Jobindex and job types, job category, area or year is unknown. \n",
    "\n",
    "Our data collecting process is not entirely efficient. Apart from Jobindex not being a complete register of job postings in Denmark, data also lack consistency about including or excluding job postings abroad. This is a mistake that comes from the scraping process when defining appropriate URLs. Foreign job adds is noise in parts of our data set. The number of job postings from abroad is somewhat constant except in 2015. Thus, resulted noise in data mainly revolves around 2015. Re-scraping Jobindex was not an option due to the work load of doing so. The amount of time allocated to scraping data from Jobindex is missing from time to analysing data. \n",
    "\n",
    "There is also some noise in data occurring from merging areas defined by Jobindex into regions. For instance, northern Zealand, Bornholm and the greater area of Copenhagen represent Region of Capital area. This is geographically correct, but few job postings occur in more than one area. Adding these three areas together, with some job postings occurring in more than one of them, results in duplicates impossible to manage. Noise in data stemming from this causes bias in data involving regions of Capital area and Southern Denmark. The number job postings for these regions are overstated by approximately 10 percent for Region of Capital area and 5 percent for Region of Southern Denmark. \n"
   ]
  }
 ],
 "metadata": {
  "kernelspec": {
   "display_name": "Python 3",
   "language": "python",
   "name": "python3"
  },
  "language_info": {
   "codemirror_mode": {
    "name": "ipython",
    "version": 3
   },
   "file_extension": ".py",
   "mimetype": "text/x-python",
   "name": "python",
   "nbconvert_exporter": "python",
   "pygments_lexer": "ipython3",
   "version": "3.6.5"
  }
 },
 "nbformat": 4,
 "nbformat_minor": 2
}
