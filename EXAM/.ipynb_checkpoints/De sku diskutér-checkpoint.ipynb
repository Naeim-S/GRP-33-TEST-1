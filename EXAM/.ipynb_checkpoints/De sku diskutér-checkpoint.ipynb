{
 "cells": [
  {
   "cell_type": "markdown",
   "metadata": {},
   "source": [
    "## Discussion\n",
    "For this paper we have used the number of job postings in Jobindex's archive as a proxy for labor demand. This has allowed for us to analyze geographical restructurings and changes over time. Even though Jobindex demm themselves as the largest register of available jobs in Denmark (Jobindex 31/8-2018 21.49) https://www.jobindex.dk/jobsoegning?jobage=archive), the amount of job postings in Jobindex is not an exact measure of total demand for labor. Jobindex is not a complete register of job ads and thus naturally omit job postings passed through other channels. Some jobs may be advertised locally or may never reach Jobindex before the job is taken. Our data set then presents statistics about demand for labor however not to be interpreted as total demand for labor in Denmark. Alternatively, if time allowed us to do so, we could gather data from multiple job registers in order to obtain comprehensive data. For instance scraping of competing databases such as Jobnet.dk or turning to local job advertisers could contribute to an adequate data set. Whether there is any correlation between omitted job postings in Jobindex and job types, job category, area or year is unknown. \n",
    "\n",
    "Our data collecting process has not been entirely efficient. Apart from Jobindex not being a complete register of job postings in Denmark, data also lack the consistency of purposely including or excluding job postings abroad. This is a mistake that comes from the scraping process when defining appropriate URLs. Jobs abroad thus come to add noise in parts of our data set. The number of job postings from abroad is somewhat constant except in 2015, thus resulted noise in data mainly revolves around 2015. Re-scraping Jobindex was not an option due to time limits not permitting the work load of doing so. \n",
    "\n",
    "There is also some noise in data occurring from our merging of areas defined by Jobindex into regions. For instance, Northern Zealand, Bornholm and the Greater Area of Copenhagen was matched in the region Capital area. This is geographically correct, but some job postings may occur in more than one area within the region. Adding these three areas together may result in duplicates that are not dealt with. Noise in data stemming from this causes bias in data involving regions of Capital area and Southern Denmark. The number of job postings for these regions are overstated by approximately 10 percent for Region of Capital area and 5 percent for Region of Southern Denmark. \n",
    "\n"
   ]
  }
 ],
 "metadata": {
  "kernelspec": {
   "display_name": "Python 3",
   "language": "python",
   "name": "python3"
  },
  "language_info": {
   "codemirror_mode": {
    "name": "ipython",
    "version": 3
   },
   "file_extension": ".py",
   "mimetype": "text/x-python",
   "name": "python",
   "nbconvert_exporter": "python",
   "pygments_lexer": "ipython3",
   "version": "3.6.3"
  },
  "toc": {
   "nav_menu": {},
   "number_sections": true,
   "sideBar": true,
   "skip_h1_title": false,
   "title_cell": "Table of Contents",
   "title_sidebar": "Contents",
   "toc_cell": false,
   "toc_position": {},
   "toc_section_display": true,
   "toc_window_display": false
  }
 },
 "nbformat": 4,
 "nbformat_minor": 2
}
