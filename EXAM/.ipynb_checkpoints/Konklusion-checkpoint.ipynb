{
 "cells": [
  {
   "cell_type": "markdown",
   "metadata": {},
   "source": [
    "# Konklusion"
   ]
  },
  {
   "cell_type": "markdown",
   "metadata": {},
   "source": [
    "First, examining the labour demand in the regions over time (both in absolute numbers and relative to WAP) it is clear that the Capital Area has the highest labour demand. Yet, when comparing the relative change in job postings with the relative change in GDP, over time and across regions, it is not so prevalent whether the labour demand has been subject to centralization towards the capital area.   \n",
    "Since 2010 the GDP has been steadily increasing. Given that the GDP elasticity of labour demand in the capital area has been positive over the same period (as seen in figure X.4), indicates that the labour demand has increased overprorpotionately to GDP over the same period. Yet, when comparing the point elasticity of the capital area with the point elasticities of the other regions, the capital area doesn't always have a higher elasticity. As such, other regions seem to have a greater growth in labour demand, than the capital area, relative to the overall wealth growth in Denmark - which might indicate that the labour demand hasn't been subject to centralization towards the capital area, when factoring in the wealth growth in the Danish economy."
   ]
  },
  {
   "cell_type": "markdown",
   "metadata": {},
   "source": [
    "Next, when looking at the change in labour demand over time across the different job sectors (for all regions), we see that the sector of industry and craft along with the trade and service sector had the largest decrease from 2007 to 2017, with a decrease of 50%. In fact, only the IT sector has had a positive growth in labour demand during this period. Furthermore, the IT sector has also had the quickest recovery after the financial crisis, despite the social and health sector as well as the teaching sector having the lowest decrease in labour demand after the financial crisis. Thus, based on the absolute levels of labour demand there are indications of the labour demand switching into the IT sector from the industry and craft sector as well as the trade and service sector.\n",
    "Yet, given the GDP elasticity of labour demand in the IT sector has been positive over the same period (as seen in figure X.3), indicates that the labour demand in the IT sector has increased overprorpotionately to GDP over the same period. Yet, when comparing the point elasticity of the IT sector with the other sectors, it doesn't always have the highest elasticity. As such, many other sectors seem to have a greater growth in labour demand, than the IT sector, relative to the overall wealth growth in Denmark - which might indicate that the labour demand hasn't switched into the IT sector, when factoring in the wealth growth in the Danish economy."
   ]
  }
 ],
 "metadata": {
  "kernelspec": {
   "display_name": "Python 3",
   "language": "python",
   "name": "python3"
  },
  "language_info": {
   "codemirror_mode": {
    "name": "ipython",
    "version": 3
   },
   "file_extension": ".py",
   "mimetype": "text/x-python",
   "name": "python",
   "nbconvert_exporter": "python",
   "pygments_lexer": "ipython3",
   "version": "3.6.5"
  },
  "toc": {
   "base_numbering": 1,
   "nav_menu": {},
   "number_sections": true,
   "sideBar": true,
   "skip_h1_title": false,
   "title_cell": "Table of Contents",
   "title_sidebar": "Contents",
   "toc_cell": false,
   "toc_position": {},
   "toc_section_display": true,
   "toc_window_display": false
  }
 },
 "nbformat": 4,
 "nbformat_minor": 2
}
