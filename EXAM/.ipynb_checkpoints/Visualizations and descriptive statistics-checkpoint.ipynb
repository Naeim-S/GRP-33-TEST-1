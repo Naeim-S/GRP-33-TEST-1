{
 "cells": [
  {
   "cell_type": "markdown",
   "metadata": {},
   "source": [
    "# Vizualiations and descriptive statistics\n",
    "\n",
    "Overview:  \n",
    " - Plotting of area over time: Geomap with iterations over different year points\n",
    " - Timeseries of sector over time"
   ]
  },
  {
   "cell_type": "code",
   "execution_count": null,
   "metadata": {
    "collapsed": true
   },
   "outputs": [],
   "source": [
    "# Plotting timeseries of sector over year\n",
    "data = \n",
    "data['country'] = data['station'].apply(extract_letters)\n",
    "\n",
    "# This simply plots the same figure as above \n",
    "# but this time split by country. \n",
    "data.groupby(['country', 'datetime_dt'])\\\n",
    "    .agg('mean')\\ \n",
    "    .reset_index()\\\n",
    "    .set_index('datetime_dt')\\ #Set index to year\n",
    "    .groupby('country')\\ #Groupby: \n",
    "    .obs_value\\\n",
    "    .plot(figsize=[11,6])\n",
    "    \n",
    "plt.legend(bbox_to_anchor=(1.05, 1), loc=2)\n",
    "plt.show()"
   ]
  }
 ],
 "metadata": {
  "kernelspec": {
   "display_name": "Python 3",
   "language": "python",
   "name": "python3"
  },
  "language_info": {
   "codemirror_mode": {
    "name": "ipython",
    "version": 3
   },
   "file_extension": ".py",
   "mimetype": "text/x-python",
   "name": "python",
   "nbconvert_exporter": "python",
   "pygments_lexer": "ipython3",
   "version": "3.6.3"
  },
  "toc": {
   "nav_menu": {},
   "number_sections": true,
   "sideBar": true,
   "skip_h1_title": false,
   "title_cell": "Table of Contents",
   "title_sidebar": "Contents",
   "toc_cell": false,
   "toc_position": {},
   "toc_section_display": true,
   "toc_window_display": false
  }
 },
 "nbformat": 4,
 "nbformat_minor": 2
}
