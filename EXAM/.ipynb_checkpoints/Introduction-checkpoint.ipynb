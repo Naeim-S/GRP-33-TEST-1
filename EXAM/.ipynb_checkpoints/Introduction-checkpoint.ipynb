{
 "cells": [
  {
   "cell_type": "markdown",
   "metadata": {},
   "source": [
    "Through the past decade, the Danish economy has been characterized by both an economic boom, recession by the financial crisis and a current upswing. At the same time, a public debate about what is referred to as outskirts Denmark has taken place. The debate is about the burden of outer municipalities stemming from unemployment and emigration of workforce. This holds an underlying assertion that demand for labor is centralized to larger cities leaving outer areas with a lack of skilled workers. During the concerned time span, various governments have implemented multiple labor market reforms for different purposes. Reforms of social assistance and an ongoing repositioning of public institutions are examples of this. Hence Danish labor market has undergone fluctuating demand of labor as well as a restructuring caused by both political reforms and general labor demand centralization within the concerned ten year period. \n",
    "Subject to these issues, this paper will examine whether these assertions in the public debate about outskirts Denmark can be confirmed empirically and whether, how, when, and where, a restructuration in the labor market has occured. \n",
    "\n",
    "Our inquiry will be performed with a focus on applying tools of social data science. Using Python through Anaconda we will be scraping data from the archive of Danish job portal JobIndex. This will serve as our primary source of data, supplemented by demographic and socioeconomic data gathered from the API offered by Statistics Denmark. The archive data is treated on different levels of development ranging from specific jobtypes within regions to nation-wide job sectors, and presented and examined through descriptive statistics. We will examine if the labour demand across regions have changed over the years in order to assess whether the labour demand truly has been subject to centralization in the Capital Area. Furthermore, we will examine if the labour demand has redistributed amongst sectors over time in order to assess if certain sectors have experienced growth or decline. Finally, we conduct an analysis of the data, by which we compute and examine the elasticity between development in GDP and labour demand (as proxied through job postings on JobIndex) in order to assess the changes in labour demand relative to  the changes in general wealth in Denmark.\n",
    "\n"
   ]
  },
  {
   "cell_type": "code",
   "execution_count": null,
   "metadata": {
    "collapsed": true
   },
   "outputs": [],
   "source": []
  }
 ],
 "metadata": {
  "kernelspec": {
   "display_name": "Python 3",
   "language": "python",
   "name": "python3"
  },
  "language_info": {
   "codemirror_mode": {
    "name": "ipython",
    "version": 3
   },
   "file_extension": ".py",
   "mimetype": "text/x-python",
   "name": "python",
   "nbconvert_exporter": "python",
   "pygments_lexer": "ipython3",
   "version": "3.6.5"
  },
  "toc": {
   "nav_menu": {},
   "number_sections": true,
   "sideBar": true,
   "skip_h1_title": false,
   "title_cell": "Table of Contents",
   "title_sidebar": "Contents",
   "toc_cell": false,
   "toc_position": {},
   "toc_section_display": true,
   "toc_window_display": false
  }
 },
 "nbformat": 4,
 "nbformat_minor": 2
}
