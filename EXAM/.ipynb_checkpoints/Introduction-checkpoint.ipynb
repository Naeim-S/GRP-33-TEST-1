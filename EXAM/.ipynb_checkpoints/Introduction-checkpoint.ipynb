{
 "cells": [
  {
   "cell_type": "markdown",
   "metadata": {},
   "source": [
    "Through the past decade, the Danish economy is characterized respectively by an economic boom, recession of the financial crisis and the current upswing. At the same time, a public debate about what is referred to as Udkantsdanmark has taken place. The debate is about the burden of outer municipalities stemming from unemployment and emigration of workforce. There is an underlying assertion that demands for labor is centralized to larger cities leaving outer areas with lack of skilled workers. During the concerned time span, various governments have implemented multiple labor market reforms for different purposes. Reforms of social assistance and an ongoing repositioning of public institutions are examples of this. Hence Danish labor market has undergone fluctuating demand of labor as well as a restructuring caused by both political reforms and general labor demand centralization within the concerned ten year period. \n",
    "Subject to issues above, this paper describes how assertions in the public debate about Udkantsdanmark can be confirmed empirically and exactly when and where, which restructurings have occurred in the labor market. \n",
    "Noget mere problemformulering her\n"
   ]
  }
 ],
 "metadata": {
  "kernelspec": {
   "display_name": "Python 3",
   "language": "python",
   "name": "python3"
  },
  "language_info": {
   "codemirror_mode": {
    "name": "ipython",
    "version": 3
   },
   "file_extension": ".py",
   "mimetype": "text/x-python",
   "name": "python",
   "nbconvert_exporter": "python",
   "pygments_lexer": "ipython3",
   "version": "3.6.5"
  }
 },
 "nbformat": 4,
 "nbformat_minor": 2
}
