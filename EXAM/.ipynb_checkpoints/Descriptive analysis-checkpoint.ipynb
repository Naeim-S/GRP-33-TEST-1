{
 "cells": [
  {
   "cell_type": "markdown",
   "metadata": {},
   "source": [
    "## Descriptive analysis\n",
    "This section provides a descriptive analysis of the development in labor demand in Denmark between 2007 and 2017. \n",
    "Data for figures in this section is presented as per people in working age population. Working age population will be referred to as WAP. The actual number of job postings does not provide clarity of labor demand itself without some kind of scale. Using data per WAP allows for comparison across regions. Job postings per WAP is calculated as the number of job postings divided with the total number of inhabitants in Denmark or within regions for individuals aged 20-64 years. Population data is collected from Danmarks Statistik. The population data is not equal to labor force as not every individual is available for the labor market. Though, the population data is approximately equal to labor supply. \n",
    "Figure 1 illustrates total number of job postings in Jobindex as per WAP in Denmark for the period between 2008 and 2016 as well as the number of job postings per unemployed. Initial demand for labor is the maximum level for the period with more than one job posts for every ten people in working age population. In two years during the financial crisis the number of job posts is cut in half. Afterwards, demand for labor rises slowly to almost initial level. Job postings relative to the number of unemployed reveal a similar drop in 2009. Over a five year period the number of job postings per unemployed drops from 4.2 to 1.5 posts per unemployed. \n",
    "\n",
    "Figure 1\n",
    "\n",
    "*Source: Jobindex.dk, DST.dk FOLK1A, RAS201 and own calculations. *\n",
    "\n",
    "The drop in job postings shown in figure 1 is elaborated in figure 2. Figure 2 illustrates the number of job postings by job category for 2007 to 2017. Every category is exposed to significant decrease in demand of labor in 2008 and 2009. Number of available jobs in the industry sector in 2009 is 71 percent lower compared to the year before. Also IT experienced a large drop in job postings in the same period. Meanwhile teaching and social had the lowest drop in job postings with 31 percent each from 2008 to 2009. Though, social is the only job category to continue to drop until 2010. The IT-sector had the fastest recovery in 2010 with 62 percent higher number of job postings, though partly due to a low absolute value. In 2015 there was an equal intensification in demand for teaching and IT that for both categories only took place for one year. Considering the ten year period, IT is the only job category with increased demand for labor. Trade and industry both had 50 percent fewer job postings in 2017 compared to 2007. \n",
    "\n",
    "Figure 2\n",
    "\n",
    "*Source: Jobindex.dk and own calculations. *\n",
    "\n",
    "An overview of the number of job postings per WAP by region is provided in figure 3. In 2007, region of northern Jutland and region of Zealand are underperforming, and from 2009 both regions share approximately the same level of job postings per WAP as the regions of central and southern Jutland. For all regions, the number of job postings is cut in half in two years from 2007 to 2009. From 2009 and onwards the amount of job postings in Jobindex slowly rises. The capital area is unique in the sense that compared to the region of Zealand, the capital area constantly has twice the number of job posts per WAP. That is, most of labor demand takes place in the capital area. \n",
    "\n",
    "Figure 3\n",
    "\n",
    "*Source: Jobindex.dk, DST.dk FOLK1A and own calculations. *\n",
    "\n",
    "The regions Capital area and Zealand are the regions with highest and lowest demand for labor respectively. Figure 4 examines differences in number of job postings within job categories causing deviating labor demand. Job posts for teaching and social work are dominating in the region of Zealand. These are typically jobs in the public sector and the amount of job postings is thus less dependent of area taking population size into account. The main difference between the two regions is demand for labor in IT and office jobs. Demand for IT and office workers are considerably higher in the capital area. Drops in demand for labor in the industry and trade category for both regions contribute to the overall relatively intense drop in these categories for all of Denmark illustrated in figure 2. \n",
    "\n",
    "Figure 4\n",
    "\n",
    "*Source: Jobindex.dk, DST.dk FOLK1A and own calculations. *\n",
    "\n",
    "Job categories IT and office work in the capital area are of interest next as IT is relatively large within the capital area and is the only job category with higher demand of labor in 2017 than in 2007. Office work is also of interest because of the high demand for labor compared to rest of Denmark. \n",
    "\n",
    "Graph a) in figure 5 divides job postings in the IT sector in Region Capital area into job types. The drop in job postings in IT in 2009 is mainly driven by lack of demand of labor in IT operations and especially system development. The latter is also primary cause in the overall positive growth in IT job postings.  \n",
    "\n",
    "Figure 5 graph b) highlights job postings in office work by job types in the capital region. The drop in job postings within office work is almost solely caused by lack of demand for labor in office, economy, finance and logistics, which all has at least 50 percent lower job postings in 2009 compared to 2008. \n",
    "\n",
    "The job category industry in Zealand, illustrated in figure 5 graph c), shows that the whole industry sector suffered hard during the financial crisis. Demand for labor were almost completely satisfied in 2009 and 2010 as the number of job postings were close to zero for every job type within the industry sector. \n",
    "\n",
    "Hotel and cleaning industry and particularly retail are job types experiencing the largest decrease in job postings within the trade sector in 2009 cf. graph d) in figure 5. Since 2009 almost no growth in job types of the trade sector has been recorded apart from in retail 2014 to 2016. \n",
    "\n",
    "Figure 5\n",
    "\n",
    "*Source: Jobindex.dk, DST.dk FOLK1A and own calculations. *\n",
    "\n",
    "It is important to emphasize the small number of job postings when looking at job types. Minor variations in data sets containing few observations will in general appear as massive changes. For some job types there are very few job postings why excessive interpreting of development within job types may be misleading. \n",
    "\n",
    "\n",
    "\n",
    "Kan eventuelt lave en graf for industri og handel efter region\n",
    "\n",
    "Konklusioner der kan videretolkes på i andre afsnit: \n",
    "-\tKæmpe fald i industri og IT i 2009. IT havde dog den hurtigste recovery og er den eneste kategori med en stigning i antal jobopslag for hele perioden. \n",
    "-\tUndervisning og social havde mindst fald (offentligt ansatte)\n",
    "-\tStor efterspørgsel på system development i IT\n",
    "-\tHandel er ikke kommet sig efter finanskrisen\n",
    "\n"
   ]
  }
 ],
 "metadata": {
  "kernelspec": {
   "display_name": "Python 3",
   "language": "python",
   "name": "python3"
  },
  "language_info": {
   "codemirror_mode": {
    "name": "ipython",
    "version": 3
   },
   "file_extension": ".py",
   "mimetype": "text/x-python",
   "name": "python",
   "nbconvert_exporter": "python",
   "pygments_lexer": "ipython3",
   "version": "3.6.5"
  }
 },
 "nbformat": 4,
 "nbformat_minor": 2
}
