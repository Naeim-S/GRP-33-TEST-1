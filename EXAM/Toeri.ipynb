{
 "cells": [
  {
   "cell_type": "markdown",
   "metadata": {},
   "source": [
    "# First differences"
   ]
  },
  {
   "cell_type": "markdown",
   "metadata": {},
   "source": [
    "$J_{i, t} = \\beta_0 + \\sum_{j=1}^{11} \\left( \\beta_j \\cdot S_{j, t} \\right) + \\ \n",
    "            \\sum_{k=2007}^{2016} \\sum_{t=2008}^{2017} \\left( \\gamma_k \\cdot \\delta_t \\right) + \\ \n",
    "            \\alpha_i + \\epsilon_{i, t}$\n",
    "\n",
    "\n",
    "$\\Delta J_{i, t} = \\sum_{j=1}^{11} \\left( \\beta_j \\cdot \\Delta S_{j, t} \\right) + \\ \n",
    "            \\sum_{k=2007}^{2016} \\sum_{t=2008}^{2017} \\left( \\gamma_k \\cdot \\Delta \\delta_t \\right) + \\ \n",
    "            \\Delta \\epsilon_{i, t}$\n",
    "\n",
    "Hvor:\n",
    "- J er antallet af jobopslag for område $i$, for det pågældende år $t$.\n",
    "- S er antallet af jobopslog i en given sektor $j$ for område $i$, for det pågældende år $t$. "
   ]
  }
 ],
 "metadata": {
  "kernelspec": {
   "display_name": "Python 3",
   "language": "python",
   "name": "python3"
  },
  "language_info": {
   "codemirror_mode": {
    "name": "ipython",
    "version": 3
   },
   "file_extension": ".py",
   "mimetype": "text/x-python",
   "name": "python",
   "nbconvert_exporter": "python",
   "pygments_lexer": "ipython3",
   "version": "3.6.5"
  },
  "toc": {
   "base_numbering": 1,
   "nav_menu": {},
   "number_sections": true,
   "sideBar": true,
   "skip_h1_title": false,
   "title_cell": "Table of Contents",
   "title_sidebar": "Contents",
   "toc_cell": false,
   "toc_position": {},
   "toc_section_display": true,
   "toc_window_display": false
  }
 },
 "nbformat": 4,
 "nbformat_minor": 2
}
