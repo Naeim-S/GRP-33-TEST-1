{
 "cells": [
  {
   "cell_type": "markdown",
   "metadata": {},
   "source": [
    "Through the past decade, the Danish economy has been characterized by both an economic boom, recession by the financial crisis and a current upswing. At the same time, a public debate about what is referred to as outskirts Denmark has taken place. The debate is about the burden of outer municipalities stemmming from unemployment and emigration of workforce. This holds an underlying assertion that demand for labor is centralized to larger cities leaving outer areas with a lack of skilled workers. During the concerned time span, various governments have implemented multiple labor market reforms for different purposes. Reforms of social assistance and an ongoing repositioning of public institutions are examples of this. Hence Danish labor market has undergone fluctuating demand of labor as well as a restructuring caused by both political reforms and general labor demand centralization within the concerned ten year period. \n",
    "Subject to issues above, this paper describes how assertions in the public debate about outskirts Danmark can be confirmed empirically and examines whether, how, when, and where, a restructuration in the labor market has occured. \n",
    "\n",
    "Going into said inquiry this paper works by a problem definition of:\n"
   ]
  }
 ],
 "metadata": {
  "kernelspec": {
   "display_name": "Python 3",
   "language": "python",
   "name": "python3"
  },
  "language_info": {
   "codemirror_mode": {
    "name": "ipython",
    "version": 3
   },
   "file_extension": ".py",
   "mimetype": "text/x-python",
   "name": "python",
   "nbconvert_exporter": "python",
   "pygments_lexer": "ipython3",
   "version": "3.6.3"
  },
  "toc": {
   "nav_menu": {},
   "number_sections": true,
   "sideBar": true,
   "skip_h1_title": false,
   "title_cell": "Table of Contents",
   "title_sidebar": "Contents",
   "toc_cell": false,
   "toc_position": {},
   "toc_section_display": true,
   "toc_window_display": false
  }
 },
 "nbformat": 4,
 "nbformat_minor": 2
}
