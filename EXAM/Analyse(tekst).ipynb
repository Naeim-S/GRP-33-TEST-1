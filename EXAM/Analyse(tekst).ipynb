{
 "cells": [
  {
   "cell_type": "markdown",
   "metadata": {},
   "source": [
    "# Analyse"
   ]
  },
  {
   "cell_type": "markdown",
   "metadata": {},
   "source": [
    "In order to analyze at the relationship between the demand for labour and the general wealth in Denmark, we will compute the ratio between the change in the amount of job positions on JobIndex over time (and across different areas and job sectors) and the change in GDP over time (in 2010-prices as chained values).\n",
    "One way to calculate the ratio is based on the first differences of job postings and BNP over time, resulting in an absolute ratio, indicating the nominal change in job postings relative to the nominal change in BNP:"
   ]
  },
  {
   "cell_type": "markdown",
   "metadata": {},
   "source": [
    "$$\n",
    "Absolute \\ Ratio = \\frac{JP_{i, j, t} - JP_{i, j, (t-1)}} {BNP_t - BNP_{(t-1}} = \\frac{\\Delta JP_{i, j, t}} {\\Delta BNP_t}\n",
    "$$"
   ]
  },
  {
   "cell_type": "markdown",
   "metadata": {},
   "source": [
    "Yet, in order to better compare the changes of the major sectors and areas with the minor sectors and areas (since the absolute/nominal changes and ratios over time will be much larger for these major sectors than of the smaller sectors or areas) we will mainly focus on the the calculations based on the ratio between the relative change in job postings (across categories) and the relative change in BNP:"
   ]
  },
  {
   "cell_type": "markdown",
   "metadata": {
    "ExecuteTime": {
     "end_time": "2018-08-30T15:59:24.585585Z",
     "start_time": "2018-08-30T15:59:24.021178Z"
    }
   },
   "source": [
    "$$\n",
    "Relative \\ Ratio = \\frac{JP_{i, j, t} - JP_{i, j, (t-1)}}{JP_{i, j, (t-1)}} \\cdot \\left(\\frac{BNP_t - BNP_{(t-1)}}{BNP_{(t-1)}}\\right)^{-1} = \\frac{ \\Delta JP_{i, j, t}}{JP_{i, j, (t-1)}} \\cdot \\left(\\frac{\\Delta BNP_t}{BNP_{(t-1)}}\\right)^{-1}\n",
    "$$"
   ]
  },
  {
   "cell_type": "markdown",
   "metadata": {},
   "source": [
    "Where *i* indicates the area of the job posting (e.g. the Capital Area), *j* indicates the job type or sector of the job postings (e.g. IT or Property Service), and *t* indicates the year.\n",
    "\n",
    "\n",
    "As such, we will be able to calculate a point estimate of the relationship between the relative change in job postings (across *i* and *j*) from $year_{t-1}$ to $year_t$ and the relative change in BNP over the same period (in percentages). Onwards this relationship will be mentioned as the relative ratio (and the variables are denoted with *RR* in our dataset)."
   ]
  },
  {
   "cell_type": "markdown",
   "metadata": {},
   "source": [
    "Looking at the relative ratio, across the five regions and the ten job sector, just as the financial crisis is realized (in 2009), we see a clear positive relationship between the relative change in amount of job postings and the relative change in BNP, e.g. when BNP dropped by 1% from 2008 to 2009 the amount of job postings in the IT-sector within the capital area decreased by almost 12% (or vice versa if BNP increased by 1%)."
   ]
  },
  {
   "cell_type": "markdown",
   "metadata": {
    "ExecuteTime": {
     "end_time": "2018-08-30T16:49:36.230383Z",
     "start_time": "2018-08-30T16:49:36.167983Z"
    }
   },
   "source": [
    "![](https://raw.githubusercontent.com/Naeim-S/GRP33/master/EXAM/Sektor_area_2009.png)"
   ]
  },
  {
   "cell_type": "markdown",
   "metadata": {},
   "source": [
    "Now, moving on to 2017, the relative ratio seems to vary a alot more than right after the financial crisis. Given the below figure, we see that almost all the areas have relatives ratio that seem at least one sector in which their relationship is either negative or positive. No area seems to have a strictly positive or negative relative ratio.   \n",
    "The huge difference between the relative ratios in 2009 (figure above) and in 2017 (figure below) across all areas and sectors indicates that BNP doesn't seem to have much explanatory power, when it comes to the demand for labour (more on this in the discussion)."
   ]
  },
  {
   "cell_type": "markdown",
   "metadata": {},
   "source": [
    "![](https://raw.githubusercontent.com/Naeim-S/GRP33/master/EXAM/Sektor_area_2017.png)"
   ]
  },
  {
   "cell_type": "markdown",
   "metadata": {},
   "source": [
    "Looking further at the range of relative ratios within the five areas and the ten sectors over all the years, shows us that some areas and especially some sectors have a very large variance in their relative ratios. The region of northern Jutland and the region of Zealand seem to have the highest variance in the relative ratio, whereas the other regions seem to having median relative ratios between 2 and 8."
   ]
  },
  {
   "cell_type": "markdown",
   "metadata": {
    "ExecuteTime": {
     "end_time": "2018-08-30T20:43:36.453494Z",
     "start_time": "2018-08-30T20:43:32.718281Z"
    }
   },
   "source": [
    "![](https://raw.githubusercontent.com/Naeim-S/GRP33/master/EXAM/Boxplot_area.png)"
   ]
  },
  {
   "cell_type": "markdown",
   "metadata": {},
   "source": [
    "Looking at the variation over sector the sectors of Management and staff, Trade and service as well as Office and finance, seem to have the lowest variation in relative ratios, indicating that the relationship between the relative change over time in these sectors and the relative change in BNP is among the lowest of all the sectors. Whereas the sectors of Social and health, Teaching as well as Sales and communcation seem to have the highest variation in relative ratios, indicating that the relationship between the relative change over time in these sectors and the relative change in BNP is among the highest of all the sectors."
   ]
  },
  {
   "cell_type": "markdown",
   "metadata": {
    "ExecuteTime": {
     "end_time": "2018-08-30T21:07:20.225929Z",
     "start_time": "2018-08-30T21:07:20.148925Z"
    }
   },
   "source": [
    "![](https://raw.githubusercontent.com/Naeim-S/GRP33/master/EXAM/Boxplot_sector.png)"
   ]
  },
  {
   "cell_type": "markdown",
   "metadata": {},
   "source": [
    "# Discussion"
   ]
  },
  {
   "cell_type": "markdown",
   "metadata": {},
   "source": [
    "- Limitation of job postings as a proxy for labour demand\n",
    "- Limitation of GDP as a proxy for wealth\n",
    "- Limitations of data:\n",
    "    - Duplicates over categories(areas/sector/jobtype)\n",
    "    - Duplicates over time (e.g. jobs figuring in two years).\n",
    "   "
   ]
  }
 ],
 "metadata": {
  "kernelspec": {
   "display_name": "Python 3",
   "language": "python",
   "name": "python3"
  },
  "language_info": {
   "codemirror_mode": {
    "name": "ipython",
    "version": 3
   },
   "file_extension": ".py",
   "mimetype": "text/x-python",
   "name": "python",
   "nbconvert_exporter": "python",
   "pygments_lexer": "ipython3",
   "version": "3.6.5"
  },
  "toc": {
   "base_numbering": 1,
   "nav_menu": {},
   "number_sections": true,
   "sideBar": true,
   "skip_h1_title": false,
   "title_cell": "Table of Contents",
   "title_sidebar": "Contents",
   "toc_cell": false,
   "toc_position": {},
   "toc_section_display": true,
   "toc_window_display": false
  }
 },
 "nbformat": 4,
 "nbformat_minor": 2
}
