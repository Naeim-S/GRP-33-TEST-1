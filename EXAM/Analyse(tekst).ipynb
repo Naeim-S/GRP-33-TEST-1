{
 "cells": [
  {
   "cell_type": "markdown",
   "metadata": {},
   "source": [
    "# Analyse"
   ]
  },
  {
   "cell_type": "markdown",
   "metadata": {},
   "source": [
    "In order to analyze at the relationship between the demand for labour and the general wealth in Denmark, we will compute the ratio between the change in the amount of job positions on JobIndex over time (and across different areas and job sectors) and the change in GDP over time (in 2010-prices as chained values).\n",
    "The calculations will be based on the ratio between the relative change in job postings (across categories) and the relative change in BNP:"
   ]
  },
  {
   "cell_type": "markdown",
   "metadata": {
    "ExecuteTime": {
     "end_time": "2018-08-30T15:59:24.585585Z",
     "start_time": "2018-08-30T15:59:24.021178Z"
    }
   },
   "source": [
    "$$\n",
    "\\begin{align*}\n",
    "Relative \\ Ratio & = \\frac{JP_{i, t} - JP_{i, (t-1)}}{JP_{i, (t-1)}} \\cdot \\left(\\frac{BNP_t - BNP_{(t-1)}}{BNP_{(t-1)}}\\right)^{-1} = \\frac{ \\Delta JP_{i, t}}{JP_{i, (t-1)}} \\cdot \\left(\\frac{\\Delta BNP_t}{BNP_{(t-1)}}\\right)^{-1}\n",
    "\\label{RR}\n",
    "\\end{align*}\n",
    "$$ "
   ]
  },
  {
   "cell_type": "markdown",
   "metadata": {},
   "source": [
    "Where $i$ indicates the job posting characterstic (i.e. area, job sector and job type) and $t$ indicates the year.\n",
    "\n",
    "\n",
    "As such, we will be able to calculate a point estimate of the relationship between the relative change in job postings (across $i$) from $year_{t-1}$ to $year_t$ and the relative change in BNP over the same period (in percentages). Onwards we this relationship will be mentioned as the relative ratio (and is denoted RR in our dataset).\n",
    "\n",
    "This might be due to BNP having very low explanatory power."
   ]
  },
  {
   "cell_type": "markdown",
   "metadata": {},
   "source": [
    "Looking at the relative ratio, across the five regions and the ten job sector, just as the financial crisis is realized (in 2009), we see a clear positive relationship between the relative change in amount of job postings and the relative change in BNP, e.g. when BNP dropped by 1% from 2008 to 2009 the amount of job postings in the IT-sector within the capital area decreased by almost 12%. From 2008 to 2009 BNP decreased by 5%, and similarly there were huge decreases in job postings across all regions and all job sectors, as depicted in the figure below:"
   ]
  },
  {
   "cell_type": "markdown",
   "metadata": {
    "ExecuteTime": {
     "end_time": "2018-08-30T16:49:36.230383Z",
     "start_time": "2018-08-30T16:49:36.167983Z"
    }
   },
   "source": [
    "![](https://raw.githubusercontent.com/Naeim-S/GRP33/master/EXAM/Sektor_area_2009.png)"
   ]
  },
  {
   "cell_type": "markdown",
   "metadata": {},
   "source": []
  },
  {
   "cell_type": "markdown",
   "metadata": {},
   "source": [
    "![](https://raw.githubusercontent.com/Naeim-S/GRP33/master/EXAM/Sektor_area_2017.png)"
   ]
  },
  {
   "cell_type": "markdown",
   "metadata": {},
   "source": [
    "# Discussion"
   ]
  },
  {
   "cell_type": "markdown",
   "metadata": {},
   "source": [
    "- Limitation of job postings as a proxy for labour demand\n",
    "- Limitation of GDP as a proxy for wealth\n",
    "- Limitations of data:\n",
    "    - Duplicates over categories(areas/sector/jobtype)\n",
    "    - Duplicates over time (e.g. jobs figuring in two years).\n",
    "   "
   ]
  }
 ],
 "metadata": {
  "kernelspec": {
   "display_name": "Python 3",
   "language": "python",
   "name": "python3"
  },
  "language_info": {
   "codemirror_mode": {
    "name": "ipython",
    "version": 3
   },
   "file_extension": ".py",
   "mimetype": "text/x-python",
   "name": "python",
   "nbconvert_exporter": "python",
   "pygments_lexer": "ipython3",
   "version": "3.6.5"
  },
  "toc": {
   "base_numbering": 1,
   "nav_menu": {},
   "number_sections": true,
   "sideBar": true,
   "skip_h1_title": false,
   "title_cell": "Table of Contents",
   "title_sidebar": "Contents",
   "toc_cell": false,
   "toc_position": {},
   "toc_section_display": true,
   "toc_window_display": false
  }
 },
 "nbformat": 4,
 "nbformat_minor": 2
}
