{
 "cells": [
  {
   "cell_type": "markdown",
   "metadata": {},
   "source": [
    "# Problemformulering"
   ]
  },
  {
   "cell_type": "markdown",
   "metadata": {
    "ExecuteTime": {
     "end_time": "2018-08-24T16:33:16.626353Z",
     "start_time": "2018-08-24T16:33:16.595153Z"
    }
   },
   "source": [
    "Udvikling i jobtyper/-funktioner over tid.\n",
    "    - Hvilke typer arbejdskraft bliver der efterspurgt over tid (absolut antal)?\n",
    "    - Hvilke typer arbejdskraft efterspørges der ikke længere (relativ antal/ændring)?\n",
    "    - Er der reformer/brud der har haft indflydelse (finanskrisen/dagpengereformen/etc.)?\n",
    "\n",
    "\n",
    "Geografiske ændringer over tid\n",
    "    - Hvor efterspørges der arbejdskraft (før og nu)?\n",
    "    - Hvor efterspørges der ikke arbejdskraft (før og nu)?\n",
    "    - Har der været tendens til at jobsne rykkes ind i byer (eller har de altid været i byer)?\n",
    "    - Er der reformer/brud der har haft indflydelse (finanskrisen/dagpengereformen/etc.)?\n",
    "\n",
    "\n",
    "Analyse???\n",
    "    - Prediction?\n",
    "\n",
    "Data:\n",
    "Antal jobopslag pr. år. fordelt over:\n",
    "    - Region (Region hovedstaden, region midtjylland, etc.)\n",
    "    - By og Postnummer\n",
    "    - Sektor (IT, Ledelse, Ingeniør, etc.)\n",
    "        - Jobtype (Softwareudvikling, Topledelse, Maskiningeniør, etc.)\n",
    "    - Skill-level (fra 0-9 jf. [https://www.dst.dk/da/Statistik/dokumentation/nomenklaturer/disco-08])\n",
    "    \n",
    "Råd fra Kristian:  \n",
    "\"Scrape antallet af efterspørgsler OVER ÅR og anvend denne tidsserie til at predicterer hvilke kommuner/regioner der underperformer f.eks. vha. en first difference. For at se hvilke der underperformer skal vi bruge yderligere data på antal ansatte, hvilket kan skaffes fra DST.\""
   ]
  }
 ],
 "metadata": {
  "kernelspec": {
   "display_name": "Python 3",
   "language": "python",
   "name": "python3"
  },
  "language_info": {
   "codemirror_mode": {
    "name": "ipython",
    "version": 3
   },
   "file_extension": ".py",
   "mimetype": "text/x-python",
   "name": "python",
   "nbconvert_exporter": "python",
   "pygments_lexer": "ipython3",
   "version": "3.6.4"
  },
  "toc": {
   "base_numbering": 1,
   "nav_menu": {},
   "number_sections": true,
   "sideBar": true,
   "skip_h1_title": false,
   "title_cell": "Table of Contents",
   "title_sidebar": "Contents",
   "toc_cell": false,
   "toc_position": {},
   "toc_section_display": true,
   "toc_window_display": false
  }
 },
 "nbformat": 4,
 "nbformat_minor": 2
}
