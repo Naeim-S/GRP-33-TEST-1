{
 "cells": [
  {
   "cell_type": "markdown",
   "metadata": {},
   "source": [
    "# Problemformulering"
   ]
  },
  {
   "cell_type": "markdown",
   "metadata": {
    "ExecuteTime": {
     "end_time": "2018-08-24T16:33:16.626353Z",
     "start_time": "2018-08-24T16:33:16.595153Z"
    }
   },
   "source": [
    ",Udvikling i jobtyper/-funktioner over tid.\n",
    "- Hvilke typer arbejdskraft bliver der efterspurgt over tid (absolut antal)?\n",
    "- Hvilke typer arbejdskraft efterspørges der ikke længere (relativ antal/ændring)?\n",
    "- Er der reformer/brud der har haft indflydelse (finanskrisen/dagpengereformen/etc.)?\n",
    "\n",
    "\n",
    "Geografiske ændringer over tid\n",
    "- Hvor efterspørges der arbejdskraft (før og nu)?\n",
    "- Hvor efterspørges der ikke arbejdskraft (før og nu)?\n",
    "- Har der været tendens til at jobsne rykkes ind i byer (eller har de altid været i byer)?\n",
    "- Er der reformer/brud der har haft indflydelse (finanskrisen/dagpengereformen/etc.)?\n",
    "\n",
    "\n",
    "Analyse\n",
    "- Ingen prediction!\n",
    "- Lav en first difference analyse:  \n",
    "\"Kig på first difference og kig på ændringen i JobIndex som finktionen af en ændring i statistikbanken der ligger på kommunalt/regions nieavu. Sådan at vi kun punktvis estimere i det område i det år.\n",
    "▲JI_{område, år} / ▲DST_{område, år}.\n",
    "Hvor meget ændre det sig for hvert enkelte område. Mål korrelation mellem ændring i variable og jobindex.\n",
    "Heterogenitetseffekter.\n",
    "Rangplot, rangeret efter marginaleffekt. Godt setup til economic policy studier.\"\n",
    "\n",
    "First difference:   \n",
    "- Ændring i antal jobopslag (efter sektor og område) i forhold til ændring i en anden variabel. Den anden variabel kan være BNP, noget produktivitet mm. Den behøver ikke kunne fordeles ud på regioner. \n",
    "- $(sektor_t-sektor_{t-1}) / (BNP_t-BNP_{t-1})$\n",
    "- Der kan laves figurer med områder på x-aksen og førstedifferens på y. \n",
    "\tDerudover lav ”standard”-figurer over udviklingen inden for forskellige sektorer og områder først. \n",
    "\n",
    "\n",
    "Data:\n",
    "Antal jobopslag pr. år. fordelt over:\n",
    "- Region (Region hovedstaden, region midtjylland, etc.)\n",
    "- By og Postnummer\n",
    "- Sektor (IT, Ledelse, Ingeniør, etc.)\n",
    "    - Jobtype (Softwareudvikling, Topledelse, Maskiningeniør, etc.)\n",
    "- Evt. Skill-level (fra 0-9 jf. [https://www.dst.dk/da/Statistik/dokumentation/nomenklaturer/disco-08])\n",
    "    "
   ]
  }
 ],
 "metadata": {
  "kernelspec": {
   "display_name": "Python 3",
   "language": "python",
   "name": "python3"
  },
  "language_info": {
   "codemirror_mode": {
    "name": "ipython",
    "version": 3
   },
   "file_extension": ".py",
   "mimetype": "text/x-python",
   "name": "python",
   "nbconvert_exporter": "python",
   "pygments_lexer": "ipython3",
   "version": "3.6.5"
  },
  "toc": {
   "base_numbering": 1,
   "nav_menu": {},
   "number_sections": true,
   "sideBar": true,
   "skip_h1_title": false,
   "title_cell": "Table of Contents",
   "title_sidebar": "Contents",
   "toc_cell": false,
   "toc_position": {},
   "toc_section_display": true,
   "toc_window_display": false
  }
 },
 "nbformat": 4,
 "nbformat_minor": 2
}
