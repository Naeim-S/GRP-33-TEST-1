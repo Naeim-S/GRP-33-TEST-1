{
 "cells": [
  {
   "cell_type": "markdown",
   "metadata": {},
   "source": [
    "# Analyse"
   ]
  },
  {
   "cell_type": "markdown",
   "metadata": {},
   "source": [
    "In order to analyze at the relationship between the demand for labour and the general wealth in Denmark, we will calculate the ratio between the change in the amount of job positions on JobIndex over time (and across different areas and job sectors) and the change in GDP over time (in 2010-prices as chained values).\n",
    "One way to calculate the ratio is based on the first differences of job postings and BNP over time, resulting in an absolute ratio, indicating the absolute change in job postings relative to the absolute change in BNP:   "
   ]
  },
  {
   "cell_type": "markdown",
   "metadata": {},
   "source": [
    "$$\n",
    "\\frac{JP_{i, j, t} - JP_{i, j, (t-1)}} {BNP_t - BNP_{(t-1}} = \\frac{\\Delta JP_{i, j, t}} {\\Delta BNP_t}\n",
    "$$"
   ]
  },
  {
   "cell_type": "markdown",
   "metadata": {},
   "source": [
    "Yet, in order to better compare the changes of the major sectors and areas with the minor sectors and areas (since the absolute changes and ratios over time will be much larger for major sectors than of smaller sectors or areas) we will focus on estimates based on the ratio between the relative first difference in job postings (across characteristics) and the relative first difference in BNP. This is basicly an elasticity measure between the two, which we will denote the *BNP elasticity of labour demand*:"
   ]
  },
  {
   "cell_type": "markdown",
   "metadata": {
    "ExecuteTime": {
     "end_time": "2018-08-30T15:59:24.585585Z",
     "start_time": "2018-08-30T15:59:24.021178Z"
    }
   },
   "source": [
    "$$\n",
    "\\epsilon_{LD} = \\frac{JP_{i, j, t} - JP_{i, j, (t-1)}}{JP_{i, j, (t-1)}} \\cdot \\left(\\frac{BNP_t - BNP_{(t-1)}}{BNP_{(t-1)}}\\right)^{-1} = \\frac{ \\Delta JP_{i, j, t}}{JP_{i, j, (t-1)}} \\cdot \\left(\\frac{\\Delta BNP_t}{BNP_{(t-1)}}\\right)^{-1}\n",
    "$$"
   ]
  },
  {
   "cell_type": "markdown",
   "metadata": {},
   "source": [
    "Where *JP* is the amount of job postings across area, job type or job sector, and year. Here, *i* indicates area (e.g. the Capital Area) and *j* indicates job type or sector (e.g. IT or Property Service), *t* indicates the year.\n",
    "\n",
    "Then, given our data, we will be able to calculate point elasticities (estimates at a certain year for a certain set of job posting characteristics) across *i* and *j* and for a given year. Note that both $\\frac{ \\Delta JP_{i, j, t}}{JP_{i, j, (t-1)}}$ and $\\frac{\\Delta BNP_t}{BNP_{(t-1)}}$ will be mentioned as relative first difference, and not elasticities."
   ]
  },
  {
   "cell_type": "markdown",
   "metadata": {},
   "source": [
    "Having constructed the point estimates of elasticity, we will examine the development in Denmark across the yearspan of 2007 and 2017, both years included. When describing our plots, we keep in mind that the relationship portrayed does not explain causality or statistical correlation. Rather, it must be understood as an indicator of the percentage change in jobmarket offerings given a 1-percent change in national gross product.\n",
    "\n",
    "In line with our previous chapter of descriptive statistics the plots presented cover three general levels: The overall development across all areas and sectors, the development in all sectors across different areas, and the development in specific sectors across certain areas with focus on the individual job types.\n",
    "\n",
    "Before moving onto general explanations of our data, we would like to highlight the major fluctations in the elasticity across all job posting characteristics in 2012. Examining the development of both job postings and BNP from 2011 to 2012, we find that there is only a slight change in BNP (close to zero). Thus, any change in the amount of job postings will have a major impact on the point estimates of elasticity. "
   ]
  },
  {
   "cell_type": "markdown",
   "metadata": {},
   "source": [
    "## Overall development"
   ]
  },
  {
   "cell_type": "markdown",
   "metadata": {},
   "source": [
    "First, we shall shortly examine range of the elasticities within the five areas and ten sectors across all years. This shows us that some areas and sectors have very large variance. Region of Northern Jutland and Region of Zealand seem to have the highest variance in elasticities (across all job sectors and year) and the only regions with negative elasticities below -0.5, indicating that these areas seem to have very different changes in labour demand when BNP changes. This gives a good sense of the large range in elasticities across all areas, job sectors and years."
   ]
  },
  {
   "cell_type": "markdown",
   "metadata": {},
   "source": [
    "    Figure X.1: Boxplot of point elasticities across areas.\n",
    "![](https://raw.githubusercontent.com/Naeim-S/GRP33/master/EXAM/Boxplot_area.png)"
   ]
  },
  {
   "cell_type": "markdown",
   "metadata": {},
   "source": [
    "Looking at variation over sector, we see that the sectors of; management and staff, trade and service as well as office and finance, seem to have the lowest variation in elasticites. Sectors of Teaching as well as Sales and communcation have the highest variation in elasticities, indicating that these sectors have very different changes in labour demand when BNP changes. This might be du to BNP having little explanatory power. Furthermore, all sectors seem to have both positive and negative elasticities, which further emphasizes the large range in elasticities across all areas, job sectors and years. "
   ]
  },
  {
   "cell_type": "markdown",
   "metadata": {},
   "source": [
    "    Figure X.2: Boxplot of point elasticities across sectors for 2007 to 2017. \n",
    "![](https://raw.githubusercontent.com/Naeim-S/GRP33/master/EXAM/Boxplot_sector.png)"
   ]
  },
  {
   "cell_type": "markdown",
   "metadata": {},
   "source": [
    "Next, the development in elasticities across sectors from 2007-2017 can be seen in figure X.3 below. We find that almost all sectors follow a rather similar development over the years. Up until 2009 all sectors show positive point elasticities, with values ranging from 10 to 60.\n",
    "This changes in 2010 and 2011, where some sectors reach negative elasticities. Whereas the remaining sectors are having positive elasticities, with values between 0 and 30.\n",
    "In 2012 we see a major fluctation in the point elasticities within all sectors. Only the sector of management and staff has a small negative change and gets a negative point elasticity in 2012, whereas the remaining sectors have large positive changes in point elasticities with the social and health sector peaking at 175.\n",
    "In 2013 the elasticities seem to stabilize again, where the elasticities across the sectors range from -17 to +5.\n",
    "From 2014 to 2017 all sectors follow somewhat similar patterns, with an average elasticity of +5 over these four years. However the IT sector has a large positive peak in 2015 and a subsequent negative peak in 2016.   \n",
    "By 2017 all sectors seem to be closely distributed, with an average point elasticity of -0.1."
   ]
  },
  {
   "cell_type": "markdown",
   "metadata": {},
   "source": [
    "    Figure X.3: Point elasticity development across sectors from 2007-2017.\n",
    "![](https://raw.githubusercontent.com/Naeim-S/GRP33/master/EXAM/1_RR_Sector.png)"
   ]
  },
  {
   "cell_type": "markdown",
   "metadata": {},
   "source": [
    "In figure X.4 the development in point elasticities across areas is depicted. In 2008 and 2009 we see positive elasticities across all areas. In 2010 only the region of Zealand has a negative point elasticity of -10, whereas the other areas lie between 0 and  +5. As seen in figure X.3, in 2012 all areas gain a major increase in elasticities. From 2013 through to 2016 all the areas have similar values and patterns of change in the point elasticitiy, ranging from 0 to +15. By 2017 all areas seem to be closely distributed, with an average point elasticity of -0.3."
   ]
  },
  {
   "cell_type": "markdown",
   "metadata": {
    "ExecuteTime": {
     "end_time": "2018-08-31T14:08:51.586434Z",
     "start_time": "2018-08-31T14:08:51.508434Z"
    }
   },
   "source": [
    "    Figure X.4: Point elasticity development across areas from 2007-2017.\n",
    "![](https://raw.githubusercontent.com/Naeim-S/GRP33/master/EXAM/2_RR_Area.png)"
   ]
  },
  {
   "cell_type": "markdown",
   "metadata": {},
   "source": [
    "## Development across sectors within areas  "
   ]
  },
  {
   "cell_type": "markdown",
   "metadata": {},
   "source": [
    "Firstly an overall trend seem to be present for all sectors across all regions: Sectors experience a major drop in point elasticity from 2008 to 2009 before clustering at a positive point elasticity in 2011 cf. figure X.5. By 2012 major fluctuations occur for all regions and across all sectors, just as depicted in the previous figures and expected due to BNP being stable in 2012. The Capital Area and Region of Central Jutland have sectors with positive and negative point elasticities. Whereas the remaining three regions mainly see a possitve change in point elasticity. For Region Zealand only the trade-sector poses a negative relationship at 5-percentage relative change. From 2013 and onwards the point elasticities across sectors and within all regions seem to stabilize around zero.\n",
    "\n",
    "For specific sectors some general trends are worth noting: The social and educational sector generally show a negative point elasticity in 2010 and 2011. Both of these regionwide sector developments seem to match the overall development of sectors as previously presented with no region visibly over- or underperforming in terms of elasticities. Furthermore, on the region-wide level the trade-sector appears as the sector with the least fluctuation. \n",
    "\n",
    "Looking into sectors on the region-specific level we find that Region of Zealand differ from other regions with lower point elasticities in 2010. The highest degree of point elasticity in Region Zealand is found in the trade sector at 10-percent, thus showing that the region had little perforance for the year 2010 as related to other regions."
   ]
  },
  {
   "cell_type": "markdown",
   "metadata": {},
   "source": [
    "    Figure X.5: Point elasticity development across sectors within areas from 2007-2017.\n",
    "\n",
    "| | |\n",
    "|:-------------------------:|:-------------------------:|\n",
    "| ![](https://raw.githubusercontent.com/Naeim-S/GRP33/master/EXAM/3.1_RR_sector_area.png)\n",
    "| | |\n",
    "| ![](https://raw.githubusercontent.com/Naeim-S/GRP33/master/EXAM/3.2_RR_sector_area.png) | ![](https://raw.githubusercontent.com/Naeim-S/GRP33/master/EXAM/3.3_RR_sector_area.png) |\n",
    "| | |\n",
    "| ![](https://raw.githubusercontent.com/Naeim-S/GRP33/master/EXAM/3.4_RR_sector_area.png) | ![](https://raw.githubusercontent.com/Naeim-S/GRP33/master/EXAM/3.5_RR_sector_area.png) |"
   ]
  },
  {
   "cell_type": "markdown",
   "metadata": {},
   "source": [
    "## Development on the level of jobtypes in sectors within areas  "
   ]
  },
  {
   "cell_type": "markdown",
   "metadata": {},
   "source": [
    "On the level of jobtypes of sectors within areas we return to the four examples presented in the previous chapter of descriptive statistics. _Figure X_ plots development in GDP elasticity of labor demand for jobtypes in sectors IT and office work for the region Capital Area, and trade and industry for Zealand. Worth noting is that the jobtype of IT-courses in the Capital Area has been left out as the jobtype saw a rise from 1 to 175 going from 2013 to 2014. This prompted a degree of relative change at 17500 percent thus making the figure highly uninterpretable. Similar action has been taken towards the jobtype of office-courses for sector office work, as the level of relative change hit 300 percent, and thus was deemed a disturbing outlier.\n",
    "\n",
    "Starting with the regions of Capital Area as presented in figure x.6 a) and b), we find that jobtypes in the sector IT presents some diversity with jobtypes telecommunication and system development starting at a positive relationship and remaining jobtypes at a negative. With fluctuations splitting the relationship of jobtypes between both positive and negative, this even out by 2013 through to 2017, with some jobtypes briefly finding themselves at a negative relationship.\n",
    "For jobtypes in the sector of office work, all positions start at a positive relationship with point elasticities ranging from  20 to 60 percent. This seems to hold true through to 2012, with some jobtypes showing a negative relationship. By 2013 through 2017 jobtypes cluster at a level between 0 and 30 percent showing generally positive relationships with development in BNP. Translation stands out for the period until 2016 when it returns to the level of the remaining jobtypes.\n",
    "\n",
    "Figure x.6 c) and d) plots sectors industry and trade in Region Zealand. We find that a pattern similar occur to that in the Capital Area occurs. All jobtypes pose a positive relationship to development in BNP by 2007, dropping in level though to 2008. In 2009, a split occurs with jobtypes finding themselves close to the level of 0 percent and the sectors finding jobs that pose both positive and negative relationships. For the trade sector, delivery stands out in terms of point elasticity above 100 percent. With fluctuations in 2012 the trade sector finds a majority of jobs posing negative relationships with high levels of elasticities, whilst the industry sector shows a somewhat even distribution of jobtypes with positive- and negative relationships. For industry jobtypes electrician and paint show elasticities at 200 and 300 percent respectively. By 2013 to 2017 jobtypes in both sectors cluster and elasticities is generally in the range of minus 5 to plus 50 percent However, childcare in the trade sector shows a level of 100 percent in 2013."
   ]
  },
  {
   "cell_type": "markdown",
   "metadata": {},
   "source": [
    "    Figure X.6: Point elasticity development across sectors within areas from 2007-2017.\n",
    "\n",
    "| | |\n",
    "|:-------------------------:|:-------------------------:|\n",
    "| ![](https://raw.githubusercontent.com/Naeim-S/GRP33/master/EXAM/4.1_RR_jobtype_area.png) | ![](https://raw.githubusercontent.com/Naeim-S/GRP33/master/EXAM/4.2_RR_jobtype_area.png) |\n",
    "| | |\n",
    "| ![](https://raw.githubusercontent.com/Naeim-S/GRP33/master/EXAM/4.3_RR_jobtype_area.png) | ![](https://raw.githubusercontent.com/Naeim-S/GRP33/master/EXAM/4.4_RR_jobtype_area.png) |"
   ]
  },
  {
   "cell_type": "markdown",
   "metadata": {},
   "source": [
    "## The Financial Crisis"
   ]
  },
  {
   "cell_type": "markdown",
   "metadata": {},
   "source": [
    "Looking at point elasticites across the five regions and ten job sectors just as the financial crisis is realized in 2009, we see a clear positive relationship as depicted in figure X.7. E.g. when BNP dropped by 1 percent from 2008 to 2009 the amount of job postings in the IT-sector within the capital area increased by almost 12 percent (or vice versa)."
   ]
  },
  {
   "cell_type": "markdown",
   "metadata": {
    "ExecuteTime": {
     "end_time": "2018-08-30T16:49:36.230383Z",
     "start_time": "2018-08-30T16:49:36.167983Z"
    }
   },
   "source": [
    "    Figure X.7: Elasticities across regions and job sectors in 2009\n",
    "![](https://raw.githubusercontent.com/Naeim-S/GRP33/master/EXAM/Sektor_area_2009.png)"
   ]
  },
  {
   "cell_type": "markdown",
   "metadata": {},
   "source": [
    "Now, moving on to 2017, the point elasticities seems to vary a alot more than in 2009. In figure X.8, we see that almost all the areas have both positive and negative point elasticities. No area seems to have a strictly positive or negative elasticity.   \n",
    "The huge difference between the point elasticities in 2009 (figure above) and in 2017 (figure below) across all areas and sectors indicates that BNP doesn't have much explanatory power when it comes to the demand of labour during special economic crisis' or extensive business cycles (more on this in the discussion)."
   ]
  },
  {
   "cell_type": "markdown",
   "metadata": {},
   "source": [
    "    Figure X.8: Elasticities across regions and job sectors in 2017\n",
    "![](https://raw.githubusercontent.com/Naeim-S/GRP33/master/EXAM/Sektor_area_2017.png)"
   ]
  },
  {
   "cell_type": "markdown",
   "metadata": {},
   "source": [
    "**[INDSÆT DELKONKLUSION]**"
   ]
  }
 ],
 "metadata": {
  "kernelspec": {
   "display_name": "Python 3",
   "language": "python",
   "name": "python3"
  },
  "language_info": {
   "codemirror_mode": {
    "name": "ipython",
    "version": 3
   },
   "file_extension": ".py",
   "mimetype": "text/x-python",
   "name": "python",
   "nbconvert_exporter": "python",
   "pygments_lexer": "ipython3",
   "version": "3.6.3"
  },
  "toc": {
   "nav_menu": {},
   "number_sections": true,
   "sideBar": true,
   "skip_h1_title": false,
   "title_cell": "Table of Contents",
   "title_sidebar": "Contents",
   "toc_cell": false,
   "toc_position": {},
   "toc_section_display": true,
   "toc_window_display": false
  }
 },
 "nbformat": 4,
 "nbformat_minor": 2
}
