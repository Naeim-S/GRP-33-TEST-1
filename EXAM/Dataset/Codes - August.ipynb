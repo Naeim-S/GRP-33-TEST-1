{
 "cells": [
  {
   "cell_type": "markdown",
   "metadata": {
    "heading_collapsed": true
   },
   "source": [
    "# Codes for DST-data etc."
   ]
  },
  {
   "cell_type": "code",
   "execution_count": null,
   "metadata": {
    "collapsed": true,
    "hidden": true
   },
   "outputs": [],
   "source": [
    "import requests\n",
    "import numpy as np\n",
    "import pandas as pd\n",
    "\n",
    "def get_data(table_id,variables):\n",
    "    base = 'https://api.statbank.dk/v1/data/{id}/JSONSTAT?lang=en'.format(id = table_id)\n",
    "    \n",
    "    for var in variables:\n",
    "        base += '&{v}'.format(v = var) \n",
    "\n",
    "    response=requests.get(base)\n",
    "    data_json=response.json()\n",
    "    return data_json\n"
   ]
  },
  {
   "cell_type": "markdown",
   "metadata": {
    "hidden": true
   },
   "source": [
    "## RAS201 data"
   ]
  },
  {
   "cell_type": "code",
   "execution_count": null,
   "metadata": {
    "collapsed": true,
    "hidden": true
   },
   "outputs": [],
   "source": [
    "data5=get_data('RAS201',['Tid=*','OMRÅDE=085','SOCIO=50']) # Sjælland\n",
    "data4=get_data('RAS201',['OMRÅDE=084','Tid=*','SOCIO=50']) # Hovedstaden\n",
    "data3=get_data('RAS201',['Tid=*','OMRÅDE=083','SOCIO=50']) # Syddanmark\n",
    "data2=get_data('RAS201',['Tid=*','OMRÅDE=082','SOCIO=50']) # Midtjylland\n",
    "data1=get_data('RAS201',['Tid=*', 'OMRÅDE=081','SOCIO=50']) # Nordjylland\n",
    "\n",
    "indexlabels=['2008','2009','2010','2011','2012','2013','2014','2015','2016']\n",
    "\n",
    "df1=pd.DataFrame(data1['dataset']['value'],index=indexlabels,columns=['Region Nordjylland'])\n",
    "df2=pd.DataFrame(data2['dataset']['value'],index=indexlabels,columns=['Region Midtjylland'])\n",
    "df3=pd.DataFrame(data3['dataset']['value'],index=indexlabels,columns=['Region Syddanmark'])\n",
    "df4=pd.DataFrame(data4['dataset']['value'],index=indexlabels,columns=['Region Hovedstaden'])\n",
    "df5=pd.DataFrame(data5['dataset']['value'],index=indexlabels,columns=['Region Sjælland'])\n",
    "\n",
    "dfs=[df1,df2,df3,df4,df5]\n",
    "RAS201=pd.concat(dfs,axis=1)\n",
    "RAS201=df_Unemployment_by_residence.reindex(index=RAS201.index[::-1]) # Reversing row index\n",
    "RAS201"
   ]
  },
  {
   "cell_type": "markdown",
   "metadata": {
    "hidden": true
   },
   "source": [
    "## NAN1 data"
   ]
  },
  {
   "cell_type": "code",
   "execution_count": null,
   "metadata": {
    "collapsed": true,
    "hidden": true
   },
   "outputs": [],
   "source": [
    "indexlabels_bnp=['2007','2008','2009','2010','2011','2012','2013','2014','2015','2016','2017']\n",
    "data_bnp=get_data('NAN1',['Tid=2007,2008,2009,2010,2011,2012,2013,2014,2015,2016,2017','TRANSAKT=B1GQK','PRISENHED=LAN_M']) # Nordjylland\n",
    "BNP=pd.DataFrame(data_bnp['dataset']['value'],index=indexlabels_bnp,columns=['2010-priser, kædede værdier, (mia kr.)'])\n",
    "#BNP=BNP.reindex(index=BNP.index[::-1])\n",
    "#BNP=BNP.transpose()\n",
    "BNP"
   ]
  },
  {
   "cell_type": "markdown",
   "metadata": {
    "hidden": true
   },
   "source": [
    "## FOLK1A data (non-API)"
   ]
  },
  {
   "cell_type": "code",
   "execution_count": null,
   "metadata": {
    "collapsed": true,
    "hidden": true
   },
   "outputs": [],
   "source": [
    "path='https://github.com/Naeim-S/GRP33/blob/master/EXAM/Dataset/FOLK1APython.xlsx?raw=true'\n",
    "\n",
    "FOLK1A=pd.read_excel(path)\n",
    "\n"
   ]
  },
  {
   "cell_type": "markdown",
   "metadata": {
    "hidden": true
   },
   "source": [
    "## Dataframe to markdown"
   ]
  },
  {
   "cell_type": "code",
   "execution_count": null,
   "metadata": {
    "collapsed": true,
    "hidden": true
   },
   "outputs": [],
   "source": [
    "def df_to_markdown(*dfs, sep_line='\\n---\\n', **kwargs):\n",
    "    \"\"\"Convert pandas dataframe to markdown table.\"\"\"\n",
    "    import tabulate\n",
    "\n",
    "    disable_numparse = kwargs.pop('disable_numparse', True)\n",
    "    tablefmt = kwargs.pop('tablefmt', 'pipe')\n",
    "    headers = kwargs.pop('headers', 'keys')\n",
    "    \n",
    "    for df in dfs:\n",
    "        print(tabulate.tabulate(df, tablefmt=tablefmt, headers=headers,\n",
    "                                disable_numparse=disable_numparse, **kwargs))\n",
    "        if sep_line is not None:\n",
    "            print(sep_line)\n",
    "            \n",
    "            \n",
    "df_to_markdown(FOLK1A,BNP,RAS201)"
   ]
  },
  {
   "cell_type": "markdown",
   "metadata": {},
   "source": [
    "# Visualizations for descriptive analysis"
   ]
  },
  {
   "cell_type": "code",
   "execution_count": null,
   "metadata": {
    "collapsed": true
   },
   "outputs": [],
   "source": []
  },
  {
   "cell_type": "markdown",
   "metadata": {
    "heading_collapsed": true
   },
   "source": [
    "# Visualizations for analysis"
   ]
  },
  {
   "cell_type": "code",
   "execution_count": null,
   "metadata": {
    "collapsed": true,
    "hidden": true
   },
   "outputs": [],
   "source": [
    "import pandas as pd\n",
    "import time, requests, re\n",
    "import matplotlib.pyplot as plt\n",
    "\n",
    "\n",
    "import numpy as np\n",
    "import seaborn as sns \n",
    "sns.set(rc={'figure.figsize':(11.7,8.27)})\n",
    "plt.style.use('ggplot')\n",
    "# sns.set_style(\"whitegrid\", {'axes.grid' : True})\n",
    "\n",
    "%matplotlib inline"
   ]
  },
  {
   "cell_type": "code",
   "execution_count": null,
   "metadata": {
    "collapsed": true,
    "hidden": true
   },
   "outputs": [],
   "source": [
    "raw='https://raw.githubusercontent.com/Naeim-S/GRP33/master/EXAM/merged_ratio.csv'\n",
    "merged=pd.read_csv(raw)\n",
    "del merged['Unnamed: 0']\n",
    "\n",
    "sektor_order=merged.sektor.unique()\n",
    "area_order=merged.area.unique()\n",
    "\n",
    "merged.tail(10)\n",
    "\n",
    "list(merged)"
   ]
  },
  {
   "cell_type": "markdown",
   "metadata": {
    "hidden": true
   },
   "source": [
    "## Elasticity for sector and area"
   ]
  },
  {
   "cell_type": "code",
   "execution_count": null,
   "metadata": {
    "collapsed": true,
    "hidden": true
   },
   "outputs": [],
   "source": [
    "#Exclude \"danmark\" and sort by n_area and year (for nicer plot):\n",
    "#merged_sektor = merged.query('sektor').sort_values(by=[\"ratio_sektor\",\"year\"], ascending=False)\n",
    "\n",
    "sns.set_palette(\"tab10\")\n",
    "sns.relplot(x=\"year\", y=\"RR_sektor\", \n",
    "            hue=\"sektor\", \n",
    "            kind=\"line\", \n",
    "            height=7, \n",
    "            aspect=1.5, \n",
    "            legend = \"brief\",\n",
    "            hue_order=sektor_order,\n",
    "            data=merged)\n",
    "plt.ylabel(\"First differences ratio to BNP in sectors\")\n",
    "#plt.yticks(range(0,100,10))\n",
    "plt.xlim(2007,2017)\n",
    "plt.xticks(range(2007,2018,2))\n",
    "plt.xlabel(\"Year\")\n",
    "\n",
    "plt.savefig('1_RR_Sector.png',bbox_inches='tight')\n",
    "# All jobs for each area over time"
   ]
  },
  {
   "cell_type": "code",
   "execution_count": null,
   "metadata": {
    "collapsed": true,
    "hidden": true
   },
   "outputs": [],
   "source": [
    "#Exclude \"danmark\" and sort by n_area and year (for nicer plot):\n",
    "#merged_area = merged.query(' area != \"danmark\"').sort_values(by=[\"ratio_area\",\"year\"], ascending=False)\n",
    "\n",
    "sns.set_palette(\"tab10\")\n",
    "sns.relplot(x=\"year\", y=\"RR_area\", \n",
    "            hue=\"area\", \n",
    "            kind=\"line\", \n",
    "            height=7, \n",
    "            aspect=1.5, \n",
    "            legend = \"brief\",\n",
    "            hue_order=area_order,\n",
    "            data=merged)\n",
    "plt.ylabel(\"Elasticity\")\n",
    "#plt.yticks(range(0,100,10))\n",
    "plt.xlim(2007,2017)\n",
    "plt.xticks(range(2007,2018,2))\n",
    "plt.xlabel(\"Year\")\n",
    "\n",
    "plt.savefig('2_RR_Area.png',bbox_inches='tight')\n",
    "\n",
    "\n",
    "# All jobs for each area over time"
   ]
  },
  {
   "cell_type": "markdown",
   "metadata": {
    "hidden": true
   },
   "source": [
    "## Sectors across areas"
   ]
  },
  {
   "cell_type": "code",
   "execution_count": null,
   "metadata": {
    "collapsed": true,
    "hidden": true
   },
   "outputs": [],
   "source": [
    "#All sectors for each area over time\n",
    "\n",
    "sns.set_palette(\"tab10\")\n",
    "\n",
    "#KØBENHAVN\n",
    "sns.relplot(x=\"year\", y=\"RR_sektor_area\", \n",
    "        hue=\"sektor\", \n",
    "        kind=\"line\", \n",
    "        legend = \"brief\",        \n",
    "        height=7, \n",
    "        aspect=1.5, \n",
    "        hue_order=sektor_order,\n",
    "        data=merged.query('area == \"region hovedstaden\"').sort_values(by=[\"year\", \"ratio_sektor_area\"], ascending=False))\n",
    "plt.title(\"Region Capital Area\")\n",
    "plt.ylabel(\"Elasticity\")\n",
    "\n",
    "plt.savefig('3.1_RR_sector_area.png',bbox_inches='tight')\n",
    "\n",
    "#MIDTJYLLAND\n",
    "sns.relplot(x=\"year\", y=\"RR_sektor_area\", \n",
    "        hue=\"sektor\", \n",
    "        kind=\"line\", \n",
    "        height=7, \n",
    "        aspect=1.5, \n",
    "        legend = \"brief\",\n",
    "        hue_order=sektor_order,\n",
    "        data=merged.query('area == \"region-midtjylland\" ').sort_values(by=[\"year\", \"ratio_sektor_area\"], ascending=False))\n",
    "plt.title(\"Region Central Jutland\")\n",
    "plt.ylabel(\"Elasticity\")\n",
    "\n",
    "plt.savefig('3.2_RR_sector_area.png',bbox_inches='tight')\n",
    "\n",
    "#SYDJYLLAND\n",
    "sns.relplot(x=\"year\", y=\"RR_sektor_area\", \n",
    "        hue=\"sektor\", \n",
    "        kind=\"line\",\n",
    "        height=7, \n",
    "        aspect=1.5, \n",
    "        legend = \"brief\",\n",
    "        hue_order=sektor_order,\n",
    "        data=merged.query('area == \"region syddanmark\" ').sort_values(by=[\"year\", \"ratio_sektor_area\"], ascending=False))\n",
    "plt.title(\"Region Southern Denmark\")\n",
    "plt.ylabel(\"Elasticity\")\n",
    "\n",
    "plt.savefig('3.3_RR_sector_area.png',bbox_inches='tight')\n",
    "\n",
    "#REGION SJÆLLAND\n",
    "sns.relplot(x=\"year\", y=\"RR_sektor_area\", \n",
    "        hue=\"sektor\", \n",
    "        kind=\"line\", \n",
    "        height=7, \n",
    "        aspect=1.5, \n",
    "        legend = \"brief\",\n",
    "        hue_order=sektor_order,\n",
    "        data=merged.query('area == \"region-sjaelland\" ').sort_values(by=[\"year\", \"ratio_sektor_area\"], ascending=False))\n",
    "plt.title(\"Region Zealand\")\n",
    "plt.ylabel(\"Elasticity\")\n",
    "\n",
    "plt.savefig('3.4_RR_sector_area.png',bbox_inches='tight')\n",
    "\n",
    "\n",
    "#NORDJYLLAND\n",
    "sns.relplot(x=\"year\", y=\"RR_sektor_area\", \n",
    "        hue=\"sektor\", \n",
    "        kind=\"line\", \n",
    "        height=7, \n",
    "        aspect=1.5, \n",
    "        legend = \"brief\",\n",
    "        hue_order=sektor_order,\n",
    "        data=merged.query('area == \"region-nordjylland\" ').sort_values(by=[\"year\", \"ratio_sektor_area\"], ascending=False))\n",
    "plt.title(\"Region Northern Jutland\")\n",
    "plt.ylabel(\"Elasticity\")\n",
    "\n",
    "plt.savefig('3.5_RR_sector_area.png',bbox_inches='tight')\n"
   ]
  },
  {
   "cell_type": "markdown",
   "metadata": {
    "hidden": true
   },
   "source": [
    "## Jobtypes for sectors"
   ]
  },
  {
   "cell_type": "code",
   "execution_count": null,
   "metadata": {
    "collapsed": true,
    "hidden": true
   },
   "outputs": [],
   "source": [
    "#KØBENHAVN IT - minus it-courses\n",
    "sns.relplot(x=\"year\", y=\"RR_jobtype_area\", \n",
    "        hue=\"jobtype\", \n",
    "        kind=\"line\", \n",
    "        legend = \"brief\",        \n",
    "        height=3.5, \n",
    "        aspect=1.2, \n",
    "      #  ax=ax1,\n",
    "      #  hue_order=sektor_order,\n",
    "        data=merged.query('area == \"region hovedstaden\" & sektor == \"it\" & jobtype != \"itkurser\"').sort_values(by=[\"year\", \"RR_jobtype_area\"], ascending=False))\n",
    "plt.title(\"a) IT in Capital Area\")\n",
    "plt.ylabel(\"Elasticity\")\n",
    "#plt.ylim(0,0.04)\n",
    "plt.xlim(2007,2017)\n",
    "plt.xticks(range(2007,2018,2))\n",
    "plt.xlabel(\"Year\")\n",
    "\n",
    "plt.savefig('4.1_RR_jobtype_area.png',bbox_inches='tight')\n",
    "\n",
    "\n",
    "#Sjælland industri \n",
    "sns.relplot(x=\"year\", y=\"RR_jobtype_area\", \n",
    "        hue=\"jobtype\", \n",
    "        kind=\"line\", \n",
    "        legend = \"brief\",        \n",
    "        height=3.5, \n",
    "        aspect=1.2, \n",
    "      #  ax=ax1,\n",
    "      #  hue_order=sektor_order,\n",
    "        data=merged.query('area == \"region-sjaelland\" & sektor == \"industri\"').sort_values(by=[\"year\", \"RR_jobtype_area\"], ascending=False))\n",
    "plt.title(\"c) Industry in Zealand\")\n",
    "plt.ylabel(\"Elasticity\")\n",
    "#plt.ylim(0,0.04)\n",
    "plt.xlim(2007,2017)\n",
    "plt.xticks(range(2007,2018,2))\n",
    "plt.xlabel(\"Year\")\n",
    "\n",
    "plt.savefig('4.2_RR_jobtype_area.png',bbox_inches='tight')\n",
    "\n",
    "#KØBENHAVN kontor - minus office-courses\n",
    "sns.relplot(x=\"year\", y=\"RR_jobtype_area\", \n",
    "        hue=\"jobtype\", \n",
    "        kind=\"line\", \n",
    "        legend = \"brief\",        \n",
    "        height=3.5, \n",
    "        aspect=1.2, \n",
    "      #  ax=ax1,\n",
    "      #  hue_order=sektor_order,\n",
    "        data=merged.query('area == \"region hovedstaden\" & sektor == \"kontor\" & jobtype != \"kontorkurser\"').sort_values(by=[\"year\", \"RR_jobtype_area\"], ascending=False))\n",
    "plt.title(\"b) Office work in Capital Area\")\n",
    "plt.ylabel(\"Elasticity\")\n",
    "#plt.ylim(0,0.04)\n",
    "plt.xlim(2007,2017)\n",
    "plt.xticks(range(2007,2018,2))\n",
    "plt.xlabel(\"Year\")\n",
    "\n",
    "plt.savefig('4.3_RR_jobtype_area.png',bbox_inches='tight')\n",
    "\n",
    "\n",
    "#Sjælland handel\n",
    "sns.relplot(x=\"year\", y=\"RR_jobtype_area\", \n",
    "        hue=\"jobtype\", \n",
    "        kind=\"line\", \n",
    "        legend = \"brief\",        \n",
    "        height=3.5, \n",
    "        aspect=1.2, \n",
    "      #  ax=ax1,\n",
    "      #  hue_order=sektor_order,\n",
    "        data=merged.query('area == \"region-sjaelland\" & sektor == \"handel\"').sort_values(by=[\"year\", \"RR_jobtype_area\"], ascending=False))\n",
    "plt.title(\"d) Trade in Zealand\")\n",
    "plt.ylabel(\"Elasticity\")\n",
    "#plt.ylim(0,0.04)\n",
    "plt.xlim(2007,2017)\n",
    "plt.xticks(range(2007,2018,2))\n",
    "plt.xlabel(\"Year\")\n",
    "\n",
    "plt.savefig('4.4_RR_jobtype_area.png',bbox_inches='tight')\n"
   ]
  }
 ],
 "metadata": {
  "kernelspec": {
   "display_name": "Python 3",
   "language": "python",
   "name": "python3"
  },
  "language_info": {
   "codemirror_mode": {
    "name": "ipython",
    "version": 3
   },
   "file_extension": ".py",
   "mimetype": "text/x-python",
   "name": "python",
   "nbconvert_exporter": "python",
   "pygments_lexer": "ipython3",
   "version": "3.6.3"
  },
  "toc": {
   "nav_menu": {},
   "number_sections": true,
   "sideBar": true,
   "skip_h1_title": false,
   "title_cell": "Table of Contents",
   "title_sidebar": "Contents",
   "toc_cell": false,
   "toc_position": {},
   "toc_section_display": true,
   "toc_window_display": false
  }
 },
 "nbformat": 4,
 "nbformat_minor": 2
}
