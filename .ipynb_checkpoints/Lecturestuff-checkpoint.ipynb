{
 "cells": [
  {
   "cell_type": "markdown",
   "metadata": {},
   "source": [
    "# Hello, this is a header in Markdown."
   ]
  },
  {
   "cell_type": "markdown",
   "metadata": {},
   "source": [
    "## And this is pretty neat subheader."
   ]
  },
  {
   "cell_type": "markdown",
   "metadata": {},
   "source": [
    "### Also, this is a tiny subsubheadline"
   ]
  },
  {
   "cell_type": "code",
   "execution_count": 10,
   "metadata": {},
   "outputs": [
    {
     "data": {
      "text/plain": [
       "360"
      ]
     },
     "execution_count": 10,
     "metadata": {},
     "output_type": "execute_result"
    }
   ],
   "source": [
    "A = 3\n",
    "B = 60\n",
    "\n",
    "int(str(A) + str(B))"
   ]
  },
  {
   "cell_type": "code",
   "execution_count": 34,
   "metadata": {},
   "outputs": [
    {
     "name": "stdout",
     "output_type": "stream",
     "text": [
      "1.5\n",
      "1\n",
      "(3, 2)\n"
     ]
    }
   ],
   "source": [
    "a = 1.5\n",
    "print(a)\n",
    "print(int(a))\n",
    "print(a.as_integer_ratio())"
   ]
  },
  {
   "cell_type": "code",
   "execution_count": 27,
   "metadata": {},
   "outputs": [
    {
     "name": "stdout",
     "output_type": "stream",
     "text": [
      "I can do anything in Python\n"
     ]
    }
   ],
   "source": [
    "my_str = \"I can do anything in Python\"\n",
    "print(my_str)"
   ]
  },
  {
   "cell_type": "code",
   "execution_count": 35,
   "metadata": {},
   "outputs": [
    {
     "name": "stdout",
     "output_type": "stream",
     "text": [
      "33 2\n"
     ]
    }
   ],
   "source": [
    "my_var1 = 33\n",
    "my_var2 = 2\n",
    "print(my_var1, my_var2)"
   ]
  },
  {
   "cell_type": "code",
   "execution_count": 43,
   "metadata": {},
   "outputs": [
    {
     "name": "stdout",
     "output_type": "stream",
     "text": [
      "1.0 0.0\n"
     ]
    }
   ],
   "source": [
    "print(float(True), float(False))"
   ]
  },
  {
   "cell_type": "code",
   "execution_count": 50,
   "metadata": {},
   "outputs": [
    {
     "name": "stdout",
     "output_type": "stream",
     "text": [
      "True\n",
      "False\n",
      "False\n"
     ]
    }
   ],
   "source": [
    "print(False | True)\n",
    "print(False & True)\n",
    "print(not(True and True"
   ]
  },
  {
   "cell_type": "code",
   "execution_count": 54,
   "metadata": {},
   "outputs": [
    {
     "name": "stdout",
     "output_type": "stream",
     "text": [
      "It's printed!\n"
     ]
    }
   ],
   "source": [
    "if True:\n",
    "    print(\"It's printed!\")"
   ]
  },
  {
   "cell_type": "code",
   "execution_count": 58,
   "metadata": {},
   "outputs": [
    {
     "name": "stdout",
     "output_type": "stream",
     "text": [
      "Quick maths\n"
     ]
    }
   ],
   "source": [
    "if 2+2 == 4:\n",
    "    print(\"Quick maths\")"
   ]
  },
  {
   "cell_type": "code",
   "execution_count": 65,
   "metadata": {},
   "outputs": [],
   "source": [
    "my_statement = (5 == 4)\n",
    "if my_statement == True:\n",
    "    print(\"No executation :(\")"
   ]
  },
  {
   "cell_type": "code",
   "execution_count": 67,
   "metadata": {},
   "outputs": [
    {
     "name": "stdout",
     "output_type": "stream",
     "text": [
      "True!\n"
     ]
    }
   ],
   "source": [
    "if my_statement == False:\n",
    "    print(\"True!\")\n",
    "else:\n",
    "    print(\"False...\")"
   ]
  },
  {
   "cell_type": "code",
   "execution_count": 76,
   "metadata": {},
   "outputs": [
    {
     "name": "stdout",
     "output_type": "stream",
     "text": [
      "1 1\n",
      "5 5\n",
      "5 1\n"
     ]
    }
   ],
   "source": [
    "#We are creating fun lists!\n",
    "B = [1,2,3,5]\n",
    "print(B[0], B[-4])\n",
    "print(B[-1], B[3])\n",
    "print(max(B), min(B))"
   ]
  },
  {
   "cell_type": "code",
   "execution_count": 91,
   "metadata": {},
   "outputs": [
    {
     "name": "stdout",
     "output_type": "stream",
     "text": [
      "1\n",
      "4\n",
      "9\n",
      "25\n",
      "[1, 4, 9, 25]\n"
     ]
    }
   ],
   "source": [
    "#For loops:\n",
    "A = []\n",
    "for i in B:\n",
    "    i_sq = i**2\n",
    "    print(i_sq)\n",
    "    A.append(i_sq)\n",
    "print(A)"
   ]
  },
  {
   "cell_type": "code",
   "execution_count": 102,
   "metadata": {},
   "outputs": [
    {
     "name": "stdout",
     "output_type": "stream",
     "text": [
      "1\n",
      "[0]\n",
      "2\n",
      "[0, 2]\n",
      "3\n",
      "[0, 2, 4]\n"
     ]
    }
   ],
   "source": [
    "#While loops:\n",
    "i = 0\n",
    "L = []\n",
    "while i < 3:\n",
    "    L.append(i*2)\n",
    "    i += 1\n",
    "    print(i)\n",
    "    print(L)"
   ]
  },
  {
   "cell_type": "code",
   "execution_count": 124,
   "metadata": {},
   "outputs": [
    {
     "name": "stdout",
     "output_type": "stream",
     "text": [
      "5.0\n",
      "27\n"
     ]
    }
   ],
   "source": [
    "#Creating (defining) a function \n",
    "def squared_plus_one(x):\n",
    "    x_sq = x**2\n",
    "    return x_sq + 1\n",
    "print(squared_plus_one(2.0))\n",
    "\n",
    "def print_cubic(x):\n",
    "    return print(x**3)\n",
    "\n",
    "print_cubic(3)"
   ]
  },
  {
   "cell_type": "code",
   "execution_count": 1,
   "metadata": {},
   "outputs": [
    {
     "data": {
      "text/plain": [
       "array([[1, 2],\n",
       "       [3, 4]])"
      ]
     },
     "execution_count": 1,
     "metadata": {},
     "output_type": "execute_result"
    }
   ],
   "source": [
    "import numpy as np\n",
    "row1 = [1,2]\n",
    "row2 = [3,4]\n",
    "table = [row1, row2]\n",
    "\n",
    "np.array(table)"
   ]
  },
  {
   "cell_type": "code",
   "execution_count": 3,
   "metadata": {},
   "outputs": [
    {
     "name": "stdout",
     "output_type": "stream",
     "text": [
      "police officer\n"
     ]
    }
   ],
   "source": [
    "#Strings can be concatenated:\n",
    "s1 = \"police\"\n",
    "s2 = \"officer\"\n",
    "print(s1 + \" \" + s2)"
   ]
  },
  {
   "cell_type": "code",
   "execution_count": 6,
   "metadata": {},
   "outputs": [
    {
     "data": {
      "text/plain": [
       "'Police'"
      ]
     },
     "execution_count": 6,
     "metadata": {},
     "output_type": "execute_result"
    }
   ],
   "source": [
    "s1.capitalize()"
   ]
  },
  {
   "cell_type": "code",
   "execution_count": 19,
   "metadata": {},
   "outputs": [
    {
     "name": "stdout",
     "output_type": "stream",
     "text": [
      "The police officer carry handcuffs\n",
      "The\n",
      "police\n",
      "officer\n",
      "carry\n",
      "handcuffs\n"
     ]
    }
   ],
   "source": [
    "s0 = \" \"\n",
    "print(s0.join([\"The\", s1, s2, \"carries\", \"handcuffs\"]))\n",
    "\n",
    "s = \"\\n\"\n",
    "print(s.join([\"The\", s1, s2, \"carries\", \"handcuffs\"]))\n"
   ]
  },
  {
   "cell_type": "code",
   "execution_count": 24,
   "metadata": {},
   "outputs": [
    {
     "data": {
      "text/plain": [
       "False"
      ]
     },
     "execution_count": 24,
     "metadata": {},
     "output_type": "execute_result"
    }
   ],
   "source": [
    "\"pol\" in s1\n",
    "\"off\" in s2\n",
    "\"offer\" in s2"
   ]
  },
  {
   "cell_type": "code",
   "execution_count": 26,
   "metadata": {},
   "outputs": [
    {
     "data": {
      "text/plain": [
       "'malice'"
      ]
     },
     "execution_count": 26,
     "metadata": {},
     "output_type": "execute_result"
    }
   ],
   "source": [
    "s1.replace(\"po\",\"ma\")"
   ]
  },
  {
   "cell_type": "code",
   "execution_count": 30,
   "metadata": {},
   "outputs": [
    {
     "data": {
      "text/plain": [
       "'ice ice baby'"
      ]
     },
     "execution_count": 30,
     "metadata": {},
     "output_type": "execute_result"
    }
   ],
   "source": [
    "s1[3:] + \" \" + s1[3:] + \" \" + \"baby\""
   ]
  },
  {
   "cell_type": "code",
   "execution_count": 40,
   "metadata": {},
   "outputs": [
    {
     "name": "stdout",
     "output_type": "stream",
     "text": [
      "['BSc sociology', 'MSc sociology']\n"
     ]
    }
   ],
   "source": [
    "my_dict = {\"Andreas\": \"Economist\",\n",
    "           \"Snorre\":[\"BSc sociology\", \"MSc sociology\"],\n",
    "           \"Ulf\":\"Engineer\"}\n",
    "print(my_dict[\"Snorre\"][:])"
   ]
  },
  {
   "cell_type": "code",
   "execution_count": 51,
   "metadata": {},
   "outputs": [
    {
     "name": "stdout",
     "output_type": "stream",
     "text": [
      "<zip object at 0x00000000053A1788>\n",
      "[('a', 1), ('b', 2)]\n",
      "{'a': 1, 'b': 2}\n"
     ]
    }
   ],
   "source": [
    "keys = [\"a\", \"b\"]\n",
    "values = [1, 2]\n",
    "key_value = zip(keys,values)\n",
    "key_value_pairs = list(zip(keys,values))\n",
    "print(key_value)\n",
    "print(key_value_pairs)\n",
    "\n",
    "my_dict2 = dict(key_value_pairs)\n",
    "print(my_dict2)"
   ]
  },
  {
   "cell_type": "code",
   "execution_count": 49,
   "metadata": {},
   "outputs": [],
   "source": [
    "?zip"
   ]
  },
  {
   "cell_type": "code",
   "execution_count": null,
   "metadata": {},
   "outputs": [],
   "source": [
    "server_url = 'https://api.github.com/'\n",
    "endpoint_path = 'users/abjer/repos'\n",
    "url = server_url + endpoint_path\n",
    "print(url)"
   ]
  },
  {
   "cell_type": "markdown",
   "metadata": {},
   "source": [
    "## IMPORTING FUN STUFF FROM APIS"
   ]
  },
  {
   "cell_type": "code",
   "execution_count": 102,
   "metadata": {},
   "outputs": [
    {
     "data": {
      "text/plain": [
       "True"
      ]
     },
     "execution_count": 102,
     "metadata": {},
     "output_type": "execute_result"
    }
   ],
   "source": [
    "import requests \n",
    "url1 = \"https://api.punkapi.com/v2/beers?brewed_before=11-2012&\"\n",
    "\n",
    "response = requests.get(url1)\n",
    "\n",
    "response.ok"
   ]
  },
  {
   "cell_type": "code",
   "execution_count": 70,
   "metadata": {},
   "outputs": [],
   "source": [
    "#response.text\n",
    "#response.json()[:]"
   ]
  },
  {
   "cell_type": "code",
   "execution_count": 79,
   "metadata": {},
   "outputs": [
    {
     "data": {
      "text/plain": [
       "'Buzz'"
      ]
     },
     "execution_count": 79,
     "metadata": {},
     "output_type": "execute_result"
    }
   ],
   "source": [
    "response_json = response.json()\n",
    "response_json[0][\"name\"]"
   ]
  },
  {
   "cell_type": "code",
   "execution_count": 93,
   "metadata": {},
   "outputs": [],
   "source": [
    "#Saving a string to a text file\n",
    "my_str = \"I can do anything in Python...\"\n",
    "with open('my_string_file.txt', 'w') as f:\n",
    "    f.write(my_str)"
   ]
  },
  {
   "cell_type": "code",
   "execution_count": 94,
   "metadata": {},
   "outputs": [
    {
     "name": "stdout",
     "output_type": "stream",
     "text": [
      "I can do anything in Python...\n"
     ]
    }
   ],
   "source": [
    "#Loading a string from a text file\n",
    "with open('my_string_file.txt', 'r') as g:\n",
    "    my_str_load = g.read()\n",
    "my_str == my_str_load\n",
    "print(my_str_load)"
   ]
  },
  {
   "cell_type": "code",
   "execution_count": 101,
   "metadata": {},
   "outputs": [],
   "source": [
    "import json\n",
    "with open(\"my_file.json\", \"w\") as f:\n",
    "    response_json_str = json.dumps(response_json)\n",
    "    f.write(response_json_str) #the response is saved as string in a JSON file.\n",
    "#print(response_json_str) # a list of dictionairies."
   ]
  },
  {
   "cell_type": "code",
   "execution_count": 97,
   "metadata": {},
   "outputs": [],
   "source": [
    "import os\n",
    "del(my_file.json)#this \"deletes\" the file in the ram.\n",
    "os.remove(\"my_file.json\") #this clears the file on the harddrive"
   ]
  },
  {
   "cell_type": "code",
   "execution_count": 112,
   "metadata": {},
   "outputs": [
    {
     "name": "stdout",
     "output_type": "stream",
     "text": [
      "    A  B\n",
      "i   1  2\n",
      "ii  3  4\n"
     ]
    }
   ],
   "source": [
    "import numpy as np\n",
    "import pandas as pd\n",
    "\n",
    "df = pd.DataFrame([[1,2], [3,4]],\n",
    "                 index=['i', 'ii'],\n",
    "                 columns=[\"A\",\"B\"])\n",
    "print(df)"
   ]
  },
  {
   "cell_type": "code",
   "execution_count": 128,
   "metadata": {},
   "outputs": [
    {
     "name": "stdout",
     "output_type": "stream",
     "text": [
      "[1, True, 0.3333333333333333, 'a']\n",
      "0           1\n",
      "1        True\n",
      "2    0.333333\n",
      "3           a\n",
      "dtype: object\n"
     ]
    }
   ],
   "source": [
    "L = [1,True,1/3,\"a\"]\n",
    "my_series = pd.Series(L)\n",
    "print(L)\n",
    "print(my_series)"
   ]
  },
  {
   "cell_type": "code",
   "execution_count": 127,
   "metadata": {},
   "outputs": [
    {
     "name": "stdout",
     "output_type": "stream",
     "text": [
      "i     1\n",
      "ii    3\n",
      "Name: A, dtype: int64\n",
      "i     2\n",
      "ii    4\n",
      "Name: B, dtype: int64\n"
     ]
    }
   ],
   "source": [
    "print(df.A)\n",
    "print(df[\"B\"])"
   ]
  },
  {
   "cell_type": "code",
   "execution_count": 129,
   "metadata": {},
   "outputs": [
    {
     "data": {
      "text/plain": [
       "B    0\n",
       "C    1\n",
       "A    2\n",
       "dtype: int64"
      ]
     },
     "execution_count": 129,
     "metadata": {},
     "output_type": "execute_result"
    }
   ],
   "source": [
    "num_data = range(0,3)\n",
    "indices = [\"B\",\"C\", \"A\"]\n",
    "my_series2 = pd.Series(num_data, index=indices)\n",
    "my_series2"
   ]
  },
  {
   "cell_type": "code",
   "execution_count": 140,
   "metadata": {},
   "outputs": [
    {
     "data": {
      "text/plain": [
       "yesterday    0\n",
       "today        1\n",
       "tomorrow     3\n",
       "dtype: int64"
      ]
     },
     "execution_count": 140,
     "metadata": {},
     "output_type": "execute_result"
    }
   ],
   "source": [
    "d = {\"yesterday\":0, \"today\":1, \"tomorrow\":3}\n",
    "\n",
    "my_series3 = pd.Series(d)\n",
    "my_series3\n"
   ]
  },
  {
   "cell_type": "code",
   "execution_count": 137,
   "metadata": {},
   "outputs": [
    {
     "data": {
      "text/plain": [
       "array([4, 9, 4], dtype=int32)"
      ]
     },
     "execution_count": 137,
     "metadata": {},
     "output_type": "execute_result"
    }
   ],
   "source": [
    "indices2 = [\"A\",\"A\",\"A\"]\n",
    "pd.Series(num_data, index=indices2).to_dict()\n",
    "\n",
    "my_arr1 = np.array([2, 3, 2])\n",
    "my_arr2 = my_arr1 ** 2\n",
    "my_arr2"
   ]
  },
  {
   "cell_type": "code",
   "execution_count": 138,
   "metadata": {},
   "outputs": [
    {
     "data": {
      "text/plain": [
       "4    2\n",
       "9    1\n",
       "dtype: int64"
      ]
     },
     "execution_count": 138,
     "metadata": {},
     "output_type": "execute_result"
    }
   ],
   "source": [
    "arr = np.random.normal(size=1000)\n",
    "a1 = pd.Series(arr)\n",
    "a1.describe()\n",
    "\n",
    "my_series4 = pd.Series(my_arr2)\n",
    "my_series4.unique()\n",
    "\n",
    "my_series4.value_counts()\n"
   ]
  },
  {
   "cell_type": "code",
   "execution_count": 146,
   "metadata": {},
   "outputs": [
    {
     "data": {
      "text/plain": [
       "yesterday     True\n",
       "today         True\n",
       "tomorrow     False\n",
       "dtype: bool"
      ]
     },
     "execution_count": 146,
     "metadata": {},
     "output_type": "execute_result"
    }
   ],
   "source": [
    "my_series3 > 0\n",
    "\n",
    "my_range=range(2)\n",
    "my_series3.isin(my_range)"
   ]
  },
  {
   "cell_type": "code",
   "execution_count": 152,
   "metadata": {},
   "outputs": [
    {
     "data": {
      "text/plain": [
       "yesterday    False\n",
       "today         True\n",
       "tomorrow     False\n",
       "dtype: bool"
      ]
     },
     "execution_count": 152,
     "metadata": {},
     "output_type": "execute_result"
    }
   ],
   "source": [
    "(my_series3 > 0) & (my_series3 == 1)"
   ]
  },
  {
   "cell_type": "code",
   "execution_count": 159,
   "metadata": {},
   "outputs": [
    {
     "name": "stdout",
     "output_type": "stream",
     "text": [
      "April 1    17\n",
      "April 2    18\n",
      "April 3    18\n",
      "Name: age, dtype: int64\n",
      "\n",
      " \n",
      "April 2    18\n",
      "April 3    18\n",
      "Name: age, dtype: int64\n"
     ]
    }
   ],
   "source": [
    "my_series6 = pd.Series(data=[17, 18, 18],\n",
    " index=['April 1', 'April 2', 'April 3'],\n",
    " name='age')\n",
    "\n",
    "print(my_series6)\n",
    "print(\"\\n \")\n",
    "print(my_series6[my_series6>17])"
   ]
  },
  {
   "cell_type": "code",
   "execution_count": 177,
   "metadata": {},
   "outputs": [
    {
     "name": "stdout",
     "output_type": "stream",
     "text": [
      "0    0.252956\n",
      "1    1.602866\n",
      "2    0.292520\n",
      "3   -0.293129\n",
      "4   -0.336470\n",
      "dtype: float64 95   -0.369230\n",
      "96   -0.038762\n",
      "97   -0.981020\n",
      "98   -0.319679\n",
      "99   -0.492046\n",
      "dtype: float64\n"
     ]
    }
   ],
   "source": [
    "n = 5 # number of observations\n",
    "my_series7 = pd.Series(np.random.normal(size=[100]))\n",
    "print(my_series7.head(5), my_series7.tail(5))"
   ]
  },
  {
   "cell_type": "code",
   "execution_count": 190,
   "metadata": {},
   "outputs": [
    {
     "name": "stdout",
     "output_type": "stream",
     "text": [
      "tomorrow    3\n",
      "today       1\n",
      "dtype: int64\n",
      "1\n"
     ]
    }
   ],
   "source": [
    "print(my_series3.loc[[\"tomorrow\", \"today\"]])\n",
    "print(my_series3.iloc[1])"
   ]
  },
  {
   "cell_type": "code",
   "execution_count": 199,
   "metadata": {},
   "outputs": [
    {
     "name": "stdout",
     "output_type": "stream",
     "text": [
      "    a  b\n",
      "i   1  2\n",
      "ii  3  4\n"
     ]
    }
   ],
   "source": [
    "#Row selection 2\n",
    "my_idx = [\"i\", \"ii\", \"iii\"]\n",
    "my_cols = [\"a\", \"b\"]\n",
    "my_data = [[1,2], [3,4], [5,6]]\n",
    "my_df = pd.DataFrame(my_data, columns = my_cols, index = my_idx)\n",
    "print(my_df.loc[[\"i\", \"ii\"]])\n"
   ]
  },
  {
   "cell_type": "code",
   "execution_count": 201,
   "metadata": {},
   "outputs": [
    {
     "name": "stdout",
     "output_type": "stream",
     "text": [
      "    a\n",
      "i   1\n",
      "ii  3\n"
     ]
    }
   ],
   "source": [
    "#Row selection 3\n",
    "idx_keep = [\"i\", \"ii\"]\n",
    "cols_keep = [\"a\"]\n",
    "print(my_df.loc[idx_keep, cols_keep])"
   ]
  },
  {
   "cell_type": "code",
   "execution_count": 204,
   "metadata": {},
   "outputs": [
    {
     "name": "stdout",
     "output_type": "stream",
     "text": [
      "     a\n",
      "i    1\n",
      "ii   3\n",
      "iii  5\n"
     ]
    }
   ],
   "source": [
    "#Colum selection \n",
    "print(my_df[[\"a\"]])"
   ]
  },
  {
   "cell_type": "code",
   "execution_count": 210,
   "metadata": {},
   "outputs": [
    {
     "data": {
      "text/html": [
       "<div>\n",
       "<style scoped>\n",
       "    .dataframe tbody tr th:only-of-type {\n",
       "        vertical-align: middle;\n",
       "    }\n",
       "\n",
       "    .dataframe tbody tr th {\n",
       "        vertical-align: top;\n",
       "    }\n",
       "\n",
       "    .dataframe thead th {\n",
       "        text-align: right;\n",
       "    }\n",
       "</style>\n",
       "<table border=\"1\" class=\"dataframe\">\n",
       "  <thead>\n",
       "    <tr style=\"text-align: right;\">\n",
       "      <th></th>\n",
       "      <th>TID</th>\n",
       "      <th>INDHOLD</th>\n",
       "    </tr>\n",
       "  </thead>\n",
       "  <tbody>\n",
       "    <tr>\n",
       "      <th>0</th>\n",
       "      <td>2008Q1</td>\n",
       "      <td>5475791</td>\n",
       "    </tr>\n",
       "    <tr>\n",
       "      <th>1</th>\n",
       "      <td>2008Q2</td>\n",
       "      <td>5482266</td>\n",
       "    </tr>\n",
       "    <tr>\n",
       "      <th>2</th>\n",
       "      <td>2008Q3</td>\n",
       "      <td>5489022</td>\n",
       "    </tr>\n",
       "  </tbody>\n",
       "</table>\n",
       "</div>"
      ],
      "text/plain": [
       "      TID  INDHOLD\n",
       "0  2008Q1  5475791\n",
       "1  2008Q2  5482266\n",
       "2  2008Q3  5489022"
      ]
     },
     "execution_count": 210,
     "metadata": {},
     "output_type": "execute_result"
    }
   ],
   "source": [
    "url = \"https://api.statbank.dk/v1/data/FOLK1A/CSV?lang=en&Tid=*\"\n",
    "rel_path = \"FOLK1A.csv\"\n",
    "df = pd.read_csv(url, sep=\";\")\n",
    "df.head(3)"
   ]
  },
  {
   "cell_type": "code",
   "execution_count": 211,
   "metadata": {},
   "outputs": [],
   "source": [
    "df.to_csv(\"DST_people_count.csv\", index=False)"
   ]
  },
  {
   "cell_type": "markdown",
   "metadata": {},
   "source": [
    "# LECTURE 6"
   ]
  },
  {
   "cell_type": "code",
   "execution_count": null,
   "metadata": {},
   "outputs": [],
   "source": [
    "import matplotlib.pyplot as plt\n",
    "import numpy as np \n",
    "import pandas as pd\n",
    "import seaborn as sns \n",
    "\n",
    "%matplotlib inline"
   ]
  },
  {
   "cell_type": "code",
   "execution_count": 11,
   "metadata": {},
   "outputs": [
    {
     "data": {
      "text/plain": [
       "0    Andreasworks @ SODAS\n",
       "1     Snorreworks @ SODAS\n",
       "2        Ulfworks @ SODAS\n",
       "dtype: object"
      ]
     },
     "execution_count": 11,
     "metadata": {},
     "output_type": "execute_result"
    }
   ],
   "source": [
    "str_ser1 = pd.Series([\"Andreas\", \"Snorre\", \"Ulf\"])\n",
    "str_ser1 + \"works @ SODAS\""
   ]
  },
  {
   "cell_type": "code",
   "execution_count": 15,
   "metadata": {},
   "outputs": [
    {
     "data": {
      "text/plain": [
       "0    Andreas Bjerre-Nielsen\n",
       "1             Snorre Ralund\n",
       "2                 Ulf Aslak\n",
       "dtype: object"
      ]
     },
     "execution_count": 15,
     "metadata": {},
     "output_type": "execute_result"
    }
   ],
   "source": [
    "str_ser2 = pd.Series([\"Bjerre-Nielsen\", \"Ralund\", \"Aslak\"])\n",
    "str_ser1 + \" \" + str_ser2"
   ]
  },
  {
   "cell_type": "code",
   "execution_count": 18,
   "metadata": {},
   "outputs": [
    {
     "data": {
      "text/plain": [
       "0    ANDREAS\n",
       "1     SNORRE\n",
       "2        ULF\n",
       "dtype: object"
      ]
     },
     "execution_count": 18,
     "metadata": {},
     "output_type": "execute_result"
    }
   ],
   "source": [
    "str_ser1.str.upper()"
   ]
  },
  {
   "cell_type": "code",
   "execution_count": 35,
   "metadata": {},
   "outputs": [
    {
     "data": {
      "text/plain": [
       "0     True\n",
       "1     True\n",
       "2    False\n",
       "dtype: bool"
      ]
     },
     "execution_count": 35,
     "metadata": {},
     "output_type": "execute_result"
    }
   ],
   "source": [
    "str_ser1.str.conatains(\"e\")"
   ]
  },
  {
   "cell_type": "code",
   "execution_count": 48,
   "metadata": {},
   "outputs": [
    {
     "data": {
      "text/plain": [
       "0    s\n",
       "1    u\n",
       "2    l\n",
       "dtype: object"
      ]
     },
     "execution_count": 48,
     "metadata": {},
     "output_type": "execute_result"
    }
   ],
   "source": [
    "str_ser2.str[-3]"
   ]
  },
  {
   "cell_type": "markdown",
   "metadata": {},
   "source": [
    "# Temporal Data"
   ]
  },
  {
   "cell_type": "code",
   "execution_count": 53,
   "metadata": {},
   "outputs": [
    {
     "name": "stdout",
     "output_type": "stream",
     "text": [
      "0   2017-01-01\n",
      "1   2017-07-27\n",
      "2   2017-08-03\n",
      "3   2017-12-24\n",
      "dtype: datetime64[ns]\n",
      "0    1483228800000000000\n",
      "1    1501113600000000000\n",
      "2    1501718400000000000\n",
      "3    1514073600000000000\n",
      "dtype: int64\n"
     ]
    }
   ],
   "source": [
    "str_ser4 = pd.Series([\"20170101\", \"20170727\", \"20170803\", \"20171224\"])\n",
    "dt_ser1 = pd.to_datetime(str_ser4)\n",
    "print(dt_ser1)\n",
    "print(dt_ser1.astype(np.int64))"
   ]
  },
  {
   "cell_type": "markdown",
   "metadata": {},
   "source": [
    "# Timeseries"
   ]
  },
  {
   "cell_type": "code",
   "execution_count": 58,
   "metadata": {},
   "outputs": [
    {
     "data": {
      "text/plain": [
       "<matplotlib.axes._subplots.AxesSubplot at 0xa5c42e8>"
      ]
     },
     "execution_count": 58,
     "metadata": {},
     "output_type": "execute_result"
    },
    {
     "data": {
      "image/png": "[encoded data removed]",
      "text/plain": [
       "<Figure size 432x288 with 1 Axes>"
      ]
     },
     "metadata": {},
     "output_type": "display_data"
    }
   ],
   "source": [
    "T = 1000\n",
    "data = {v:np.cumsum(np.random.randn(T)) for v in ['A', 'B']}\n",
    "data['time'] = pd.date_range(start='20150101', freq='D', periods=T)\n",
    "ts_df = pd.DataFrame(data) #Here the data is converted to a temporal DataFrame\n",
    "ts_df.set_index('time').plot() #.set_index ensures the beautiful x-axis."
   ]
  },
  {
   "cell_type": "code",
   "execution_count": 62,
   "metadata": {},
   "outputs": [
    {
     "name": "stdout",
     "output_type": "stream",
     "text": [
      "A    0\n",
      "B    1\n",
      "C    1\n",
      "dtype: int64\n"
     ]
    }
   ],
   "source": [
    " nan_data = [[1,np.nan,3],\n",
    "[4,5,None],\n",
    "[7,8,9]]\n",
    "nan_df = pd.DataFrame(nan_data, columns=['A','B','C'])\n",
    "# print(nan_df\n",
    "print(nan_df.isnull().sum())"
   ]
  },
  {
   "cell_type": "code",
   "execution_count": 69,
   "metadata": {},
   "outputs": [
    {
     "data": {
      "text/html": [
       "<div>\n",
       "<style scoped>\n",
       "    .dataframe tbody tr th:only-of-type {\n",
       "        vertical-align: middle;\n",
       "    }\n",
       "\n",
       "    .dataframe tbody tr th {\n",
       "        vertical-align: top;\n",
       "    }\n",
       "\n",
       "    .dataframe thead th {\n",
       "        text-align: right;\n",
       "    }\n",
       "</style>\n",
       "<table border=\"1\" class=\"dataframe\">\n",
       "  <thead>\n",
       "    <tr style=\"text-align: right;\">\n",
       "      <th></th>\n",
       "      <th>A</th>\n",
       "    </tr>\n",
       "  </thead>\n",
       "  <tbody>\n",
       "    <tr>\n",
       "      <th>0</th>\n",
       "      <td>1</td>\n",
       "    </tr>\n",
       "    <tr>\n",
       "      <th>1</th>\n",
       "      <td>4</td>\n",
       "    </tr>\n",
       "    <tr>\n",
       "      <th>2</th>\n",
       "      <td>7</td>\n",
       "    </tr>\n",
       "  </tbody>\n",
       "</table>\n",
       "</div>"
      ],
      "text/plain": [
       "   A\n",
       "0  1\n",
       "1  4\n",
       "2  7"
      ]
     },
     "execution_count": 69,
     "metadata": {},
     "output_type": "execute_result"
    }
   ],
   "source": [
    "nan_df.dropna() #All rows with missing data are dropped.\n",
    "nan_df.dropna(subset = [\"B\"]) #Dropping the rows in B that have missing data \n",
    "nan_df.dropna(axis=1) #Dropping the entire columns (second axis) that have missing data"
   ]
  },
  {
   "cell_type": "code",
   "execution_count": 71,
   "metadata": {},
   "outputs": [
    {
     "data": {
      "text/html": [
       "<div>\n",
       "<style scoped>\n",
       "    .dataframe tbody tr th:only-of-type {\n",
       "        vertical-align: middle;\n",
       "    }\n",
       "\n",
       "    .dataframe tbody tr th {\n",
       "        vertical-align: top;\n",
       "    }\n",
       "\n",
       "    .dataframe thead th {\n",
       "        text-align: right;\n",
       "    }\n",
       "</style>\n",
       "<table border=\"1\" class=\"dataframe\">\n",
       "  <thead>\n",
       "    <tr style=\"text-align: right;\">\n",
       "      <th></th>\n",
       "      <th>A</th>\n",
       "      <th>B</th>\n",
       "      <th>C</th>\n",
       "    </tr>\n",
       "  </thead>\n",
       "  <tbody>\n",
       "    <tr>\n",
       "      <th>0</th>\n",
       "      <td>1</td>\n",
       "      <td>0.0</td>\n",
       "      <td>3.0</td>\n",
       "    </tr>\n",
       "    <tr>\n",
       "      <th>1</th>\n",
       "      <td>4</td>\n",
       "      <td>5.0</td>\n",
       "      <td>0.0</td>\n",
       "    </tr>\n",
       "    <tr>\n",
       "      <th>2</th>\n",
       "      <td>7</td>\n",
       "      <td>8.0</td>\n",
       "      <td>9.0</td>\n",
       "    </tr>\n",
       "  </tbody>\n",
       "</table>\n",
       "</div>"
      ],
      "text/plain": [
       "   A    B    C\n",
       "0  1  0.0  3.0\n",
       "1  4  5.0  0.0\n",
       "2  7  8.0  9.0"
      ]
     },
     "execution_count": 71,
     "metadata": {},
     "output_type": "execute_result"
    }
   ],
   "source": [
    "nan_df.fillna(0) #All missing values are replaced with a zero"
   ]
  },
  {
   "cell_type": "code",
   "execution_count": 74,
   "metadata": {},
   "outputs": [
    {
     "data": {
      "text/html": [
       "<div>\n",
       "<style scoped>\n",
       "    .dataframe tbody tr th:only-of-type {\n",
       "        vertical-align: middle;\n",
       "    }\n",
       "\n",
       "    .dataframe tbody tr th {\n",
       "        vertical-align: top;\n",
       "    }\n",
       "\n",
       "    .dataframe thead th {\n",
       "        text-align: right;\n",
       "    }\n",
       "</style>\n",
       "<table border=\"1\" class=\"dataframe\">\n",
       "  <thead>\n",
       "    <tr style=\"text-align: right;\">\n",
       "      <th></th>\n",
       "      <th>A</th>\n",
       "      <th>B</th>\n",
       "      <th>C</th>\n",
       "    </tr>\n",
       "  </thead>\n",
       "  <tbody>\n",
       "    <tr>\n",
       "      <th>0</th>\n",
       "      <td>1</td>\n",
       "      <td>-99.0</td>\n",
       "      <td>3.0</td>\n",
       "    </tr>\n",
       "    <tr>\n",
       "      <th>1</th>\n",
       "      <td>4</td>\n",
       "      <td>5.0</td>\n",
       "      <td>NaN</td>\n",
       "    </tr>\n",
       "    <tr>\n",
       "      <th>2</th>\n",
       "      <td>7</td>\n",
       "      <td>8.0</td>\n",
       "      <td>9.0</td>\n",
       "    </tr>\n",
       "  </tbody>\n",
       "</table>\n",
       "</div>"
      ],
      "text/plain": [
       "   A     B    C\n",
       "0  1 -99.0  3.0\n",
       "1  4   5.0  NaN\n",
       "2  7   8.0  9.0"
      ]
     },
     "execution_count": 74,
     "metadata": {},
     "output_type": "execute_result"
    }
   ],
   "source": [
    "selection = nan_df.B.isnull()\n",
    "nan_df.loc[selection, \"B\"] = -99 #Using loc we replace missing values in column B with a value of -99.\n",
    "nan_df"
   ]
  },
  {
   "cell_type": "markdown",
   "metadata": {},
   "source": [
    "# Lecture 7"
   ]
  },
  {
   "cell_type": "code",
   "execution_count": 5,
   "metadata": {},
   "outputs": [
    {
     "name": "stdout",
     "output_type": "stream",
     "text": [
      "              total_bill                        tip                 \n",
      "                    mean       std median      mean       std median\n",
      "sex    time                                                         \n",
      "Male   Lunch   18.048485  7.953435  16.58  2.882121  1.329017   2.31\n",
      "       Dinner  21.461452  9.460974  19.63  3.144839  1.529116   3.00\n",
      "Female Lunch   16.339143  7.500803  13.42  2.582857  1.075108   2.01\n",
      "       Dinner  19.213077  8.202085  17.19  3.002115  1.193483   3.00\n",
      "      sex    time total_bill                        tip                 \n",
      "                        mean       std median      mean       std median\n",
      "0    Male   Lunch  18.048485  7.953435  16.58  2.882121  1.329017   2.31\n",
      "1    Male  Dinner  21.461452  9.460974  19.63  3.144839  1.529116   3.00\n",
      "2  Female   Lunch  16.339143  7.500803  13.42  2.582857  1.075108   2.01\n",
      "3  Female  Dinner  19.213077  8.202085  17.19  3.002115  1.193483   3.00\n"
     ]
    }
   ],
   "source": [
    "tips = sns.load_dataset(\"tips\")\n",
    "\n",
    "split_var = [\"sex\"]\n",
    "apply_var =[\"total_bill\"]\n",
    "apply_fct = [\"mean\"]\n",
    "\n",
    "\n",
    "split_vars = [\"sex\", \"time\"]\n",
    "apply_vars =[\"total_bill\", \"tip\"]\n",
    "apply_fcts = [\"mean\", \"std\", \"median\"]\n",
    "\n",
    "combined = tips \\\n",
    "    .groupby(split_vars) \\\n",
    "    [apply_vars] \\\n",
    "    .agg(apply_fcts)\n",
    "\n",
    "print(combined) #A multi (based on grouping) index\n",
    "print(combined.reset_index()) #The regular index (sorted by sex, not \"grouped\")"
   ]
  },
  {
   "cell_type": "code",
   "execution_count": 7,
   "metadata": {},
   "outputs": [
    {
     "name": "stdout",
     "output_type": "stream",
     "text": [
      "Dinner\n"
     ]
    },
    {
     "data": {
      "text/plain": [
       "{'Lunch': 17.16867647058823, 'Dinner': 20.7971590909091}"
      ]
     },
     "execution_count": 7,
     "metadata": {},
     "output_type": "execute_result"
    }
   ],
   "source": [
    "results = {}\n",
    "for group, group_df in tips.groupby(\"time\"):\n",
    "    group_mean = group_df.total_bill.mean()\n",
    "    results[group] = group_mean\n",
    "\n",
    "print(group)\n",
    "results"
   ]
  },
  {
   "cell_type": "code",
   "execution_count": 8,
   "metadata": {},
   "outputs": [
    {
     "data": {
      "text/html": [
       "<div>\n",
       "<style scoped>\n",
       "    .dataframe tbody tr th:only-of-type {\n",
       "        vertical-align: middle;\n",
       "    }\n",
       "\n",
       "    .dataframe tbody tr th {\n",
       "        vertical-align: top;\n",
       "    }\n",
       "\n",
       "    .dataframe thead th {\n",
       "        text-align: right;\n",
       "    }\n",
       "</style>\n",
       "<table border=\"1\" class=\"dataframe\">\n",
       "  <thead>\n",
       "    <tr style=\"text-align: right;\">\n",
       "      <th></th>\n",
       "      <th>total_bill</th>\n",
       "      <th>tip</th>\n",
       "    </tr>\n",
       "  </thead>\n",
       "  <tbody>\n",
       "    <tr>\n",
       "      <th>0</th>\n",
       "      <td>19.213077</td>\n",
       "      <td>3.002115</td>\n",
       "    </tr>\n",
       "    <tr>\n",
       "      <th>1</th>\n",
       "      <td>21.461452</td>\n",
       "      <td>3.144839</td>\n",
       "    </tr>\n",
       "    <tr>\n",
       "      <th>2</th>\n",
       "      <td>21.461452</td>\n",
       "      <td>3.144839</td>\n",
       "    </tr>\n",
       "    <tr>\n",
       "      <th>3</th>\n",
       "      <td>21.461452</td>\n",
       "      <td>3.144839</td>\n",
       "    </tr>\n",
       "    <tr>\n",
       "      <th>4</th>\n",
       "      <td>19.213077</td>\n",
       "      <td>3.002115</td>\n",
       "    </tr>\n",
       "    <tr>\n",
       "      <th>5</th>\n",
       "      <td>21.461452</td>\n",
       "      <td>3.144839</td>\n",
       "    </tr>\n",
       "    <tr>\n",
       "      <th>6</th>\n",
       "      <td>21.461452</td>\n",
       "      <td>3.144839</td>\n",
       "    </tr>\n",
       "    <tr>\n",
       "      <th>7</th>\n",
       "      <td>21.461452</td>\n",
       "      <td>3.144839</td>\n",
       "    </tr>\n",
       "    <tr>\n",
       "      <th>8</th>\n",
       "      <td>21.461452</td>\n",
       "      <td>3.144839</td>\n",
       "    </tr>\n",
       "    <tr>\n",
       "      <th>9</th>\n",
       "      <td>21.461452</td>\n",
       "      <td>3.144839</td>\n",
       "    </tr>\n",
       "    <tr>\n",
       "      <th>10</th>\n",
       "      <td>21.461452</td>\n",
       "      <td>3.144839</td>\n",
       "    </tr>\n",
       "    <tr>\n",
       "      <th>11</th>\n",
       "      <td>19.213077</td>\n",
       "      <td>3.002115</td>\n",
       "    </tr>\n",
       "    <tr>\n",
       "      <th>12</th>\n",
       "      <td>21.461452</td>\n",
       "      <td>3.144839</td>\n",
       "    </tr>\n",
       "    <tr>\n",
       "      <th>13</th>\n",
       "      <td>21.461452</td>\n",
       "      <td>3.144839</td>\n",
       "    </tr>\n",
       "    <tr>\n",
       "      <th>14</th>\n",
       "      <td>19.213077</td>\n",
       "      <td>3.002115</td>\n",
       "    </tr>\n",
       "    <tr>\n",
       "      <th>15</th>\n",
       "      <td>21.461452</td>\n",
       "      <td>3.144839</td>\n",
       "    </tr>\n",
       "    <tr>\n",
       "      <th>16</th>\n",
       "      <td>19.213077</td>\n",
       "      <td>3.002115</td>\n",
       "    </tr>\n",
       "    <tr>\n",
       "      <th>17</th>\n",
       "      <td>21.461452</td>\n",
       "      <td>3.144839</td>\n",
       "    </tr>\n",
       "    <tr>\n",
       "      <th>18</th>\n",
       "      <td>19.213077</td>\n",
       "      <td>3.002115</td>\n",
       "    </tr>\n",
       "    <tr>\n",
       "      <th>19</th>\n",
       "      <td>21.461452</td>\n",
       "      <td>3.144839</td>\n",
       "    </tr>\n",
       "    <tr>\n",
       "      <th>20</th>\n",
       "      <td>21.461452</td>\n",
       "      <td>3.144839</td>\n",
       "    </tr>\n",
       "    <tr>\n",
       "      <th>21</th>\n",
       "      <td>19.213077</td>\n",
       "      <td>3.002115</td>\n",
       "    </tr>\n",
       "    <tr>\n",
       "      <th>22</th>\n",
       "      <td>19.213077</td>\n",
       "      <td>3.002115</td>\n",
       "    </tr>\n",
       "    <tr>\n",
       "      <th>23</th>\n",
       "      <td>21.461452</td>\n",
       "      <td>3.144839</td>\n",
       "    </tr>\n",
       "    <tr>\n",
       "      <th>24</th>\n",
       "      <td>21.461452</td>\n",
       "      <td>3.144839</td>\n",
       "    </tr>\n",
       "    <tr>\n",
       "      <th>25</th>\n",
       "      <td>21.461452</td>\n",
       "      <td>3.144839</td>\n",
       "    </tr>\n",
       "    <tr>\n",
       "      <th>26</th>\n",
       "      <td>21.461452</td>\n",
       "      <td>3.144839</td>\n",
       "    </tr>\n",
       "    <tr>\n",
       "      <th>27</th>\n",
       "      <td>21.461452</td>\n",
       "      <td>3.144839</td>\n",
       "    </tr>\n",
       "    <tr>\n",
       "      <th>28</th>\n",
       "      <td>21.461452</td>\n",
       "      <td>3.144839</td>\n",
       "    </tr>\n",
       "    <tr>\n",
       "      <th>29</th>\n",
       "      <td>19.213077</td>\n",
       "      <td>3.002115</td>\n",
       "    </tr>\n",
       "    <tr>\n",
       "      <th>...</th>\n",
       "      <td>...</td>\n",
       "      <td>...</td>\n",
       "    </tr>\n",
       "    <tr>\n",
       "      <th>214</th>\n",
       "      <td>19.213077</td>\n",
       "      <td>3.002115</td>\n",
       "    </tr>\n",
       "    <tr>\n",
       "      <th>215</th>\n",
       "      <td>19.213077</td>\n",
       "      <td>3.002115</td>\n",
       "    </tr>\n",
       "    <tr>\n",
       "      <th>216</th>\n",
       "      <td>21.461452</td>\n",
       "      <td>3.144839</td>\n",
       "    </tr>\n",
       "    <tr>\n",
       "      <th>217</th>\n",
       "      <td>21.461452</td>\n",
       "      <td>3.144839</td>\n",
       "    </tr>\n",
       "    <tr>\n",
       "      <th>218</th>\n",
       "      <td>21.461452</td>\n",
       "      <td>3.144839</td>\n",
       "    </tr>\n",
       "    <tr>\n",
       "      <th>219</th>\n",
       "      <td>19.213077</td>\n",
       "      <td>3.002115</td>\n",
       "    </tr>\n",
       "    <tr>\n",
       "      <th>220</th>\n",
       "      <td>18.048485</td>\n",
       "      <td>2.882121</td>\n",
       "    </tr>\n",
       "    <tr>\n",
       "      <th>221</th>\n",
       "      <td>16.339143</td>\n",
       "      <td>2.582857</td>\n",
       "    </tr>\n",
       "    <tr>\n",
       "      <th>222</th>\n",
       "      <td>18.048485</td>\n",
       "      <td>2.882121</td>\n",
       "    </tr>\n",
       "    <tr>\n",
       "      <th>223</th>\n",
       "      <td>16.339143</td>\n",
       "      <td>2.582857</td>\n",
       "    </tr>\n",
       "    <tr>\n",
       "      <th>224</th>\n",
       "      <td>18.048485</td>\n",
       "      <td>2.882121</td>\n",
       "    </tr>\n",
       "    <tr>\n",
       "      <th>225</th>\n",
       "      <td>16.339143</td>\n",
       "      <td>2.582857</td>\n",
       "    </tr>\n",
       "    <tr>\n",
       "      <th>226</th>\n",
       "      <td>16.339143</td>\n",
       "      <td>2.582857</td>\n",
       "    </tr>\n",
       "    <tr>\n",
       "      <th>227</th>\n",
       "      <td>21.461452</td>\n",
       "      <td>3.144839</td>\n",
       "    </tr>\n",
       "    <tr>\n",
       "      <th>228</th>\n",
       "      <td>21.461452</td>\n",
       "      <td>3.144839</td>\n",
       "    </tr>\n",
       "    <tr>\n",
       "      <th>229</th>\n",
       "      <td>19.213077</td>\n",
       "      <td>3.002115</td>\n",
       "    </tr>\n",
       "    <tr>\n",
       "      <th>230</th>\n",
       "      <td>21.461452</td>\n",
       "      <td>3.144839</td>\n",
       "    </tr>\n",
       "    <tr>\n",
       "      <th>231</th>\n",
       "      <td>21.461452</td>\n",
       "      <td>3.144839</td>\n",
       "    </tr>\n",
       "    <tr>\n",
       "      <th>232</th>\n",
       "      <td>21.461452</td>\n",
       "      <td>3.144839</td>\n",
       "    </tr>\n",
       "    <tr>\n",
       "      <th>233</th>\n",
       "      <td>21.461452</td>\n",
       "      <td>3.144839</td>\n",
       "    </tr>\n",
       "    <tr>\n",
       "      <th>234</th>\n",
       "      <td>21.461452</td>\n",
       "      <td>3.144839</td>\n",
       "    </tr>\n",
       "    <tr>\n",
       "      <th>235</th>\n",
       "      <td>21.461452</td>\n",
       "      <td>3.144839</td>\n",
       "    </tr>\n",
       "    <tr>\n",
       "      <th>236</th>\n",
       "      <td>21.461452</td>\n",
       "      <td>3.144839</td>\n",
       "    </tr>\n",
       "    <tr>\n",
       "      <th>237</th>\n",
       "      <td>21.461452</td>\n",
       "      <td>3.144839</td>\n",
       "    </tr>\n",
       "    <tr>\n",
       "      <th>238</th>\n",
       "      <td>19.213077</td>\n",
       "      <td>3.002115</td>\n",
       "    </tr>\n",
       "    <tr>\n",
       "      <th>239</th>\n",
       "      <td>21.461452</td>\n",
       "      <td>3.144839</td>\n",
       "    </tr>\n",
       "    <tr>\n",
       "      <th>240</th>\n",
       "      <td>19.213077</td>\n",
       "      <td>3.002115</td>\n",
       "    </tr>\n",
       "    <tr>\n",
       "      <th>241</th>\n",
       "      <td>21.461452</td>\n",
       "      <td>3.144839</td>\n",
       "    </tr>\n",
       "    <tr>\n",
       "      <th>242</th>\n",
       "      <td>21.461452</td>\n",
       "      <td>3.144839</td>\n",
       "    </tr>\n",
       "    <tr>\n",
       "      <th>243</th>\n",
       "      <td>19.213077</td>\n",
       "      <td>3.002115</td>\n",
       "    </tr>\n",
       "  </tbody>\n",
       "</table>\n",
       "<p>244 rows × 2 columns</p>\n",
       "</div>"
      ],
      "text/plain": [
       "     total_bill       tip\n",
       "0     19.213077  3.002115\n",
       "1     21.461452  3.144839\n",
       "2     21.461452  3.144839\n",
       "3     21.461452  3.144839\n",
       "4     19.213077  3.002115\n",
       "5     21.461452  3.144839\n",
       "6     21.461452  3.144839\n",
       "7     21.461452  3.144839\n",
       "8     21.461452  3.144839\n",
       "9     21.461452  3.144839\n",
       "10    21.461452  3.144839\n",
       "11    19.213077  3.002115\n",
       "12    21.461452  3.144839\n",
       "13    21.461452  3.144839\n",
       "14    19.213077  3.002115\n",
       "15    21.461452  3.144839\n",
       "16    19.213077  3.002115\n",
       "17    21.461452  3.144839\n",
       "18    19.213077  3.002115\n",
       "19    21.461452  3.144839\n",
       "20    21.461452  3.144839\n",
       "21    19.213077  3.002115\n",
       "22    19.213077  3.002115\n",
       "23    21.461452  3.144839\n",
       "24    21.461452  3.144839\n",
       "25    21.461452  3.144839\n",
       "26    21.461452  3.144839\n",
       "27    21.461452  3.144839\n",
       "28    21.461452  3.144839\n",
       "29    19.213077  3.002115\n",
       "..          ...       ...\n",
       "214   19.213077  3.002115\n",
       "215   19.213077  3.002115\n",
       "216   21.461452  3.144839\n",
       "217   21.461452  3.144839\n",
       "218   21.461452  3.144839\n",
       "219   19.213077  3.002115\n",
       "220   18.048485  2.882121\n",
       "221   16.339143  2.582857\n",
       "222   18.048485  2.882121\n",
       "223   16.339143  2.582857\n",
       "224   18.048485  2.882121\n",
       "225   16.339143  2.582857\n",
       "226   16.339143  2.582857\n",
       "227   21.461452  3.144839\n",
       "228   21.461452  3.144839\n",
       "229   19.213077  3.002115\n",
       "230   21.461452  3.144839\n",
       "231   21.461452  3.144839\n",
       "232   21.461452  3.144839\n",
       "233   21.461452  3.144839\n",
       "234   21.461452  3.144839\n",
       "235   21.461452  3.144839\n",
       "236   21.461452  3.144839\n",
       "237   21.461452  3.144839\n",
       "238   19.213077  3.002115\n",
       "239   21.461452  3.144839\n",
       "240   19.213077  3.002115\n",
       "241   21.461452  3.144839\n",
       "242   21.461452  3.144839\n",
       "243   19.213077  3.002115\n",
       "\n",
       "[244 rows x 2 columns]"
      ]
     },
     "execution_count": 8,
     "metadata": {},
     "output_type": "execute_result"
    }
   ],
   "source": [
    "mu_time = tips.groupby(split_var)[apply_var].transform(\"mean\")\n",
    "mu_time"
   ]
  },
  {
   "cell_type": "markdown",
   "metadata": {},
   "source": [
    "# Joining data\n",
    "## Concatenating DataFrames"
   ]
  },
  {
   "cell_type": "code",
   "execution_count": 18,
   "metadata": {},
   "outputs": [
    {
     "name": "stdout",
     "output_type": "stream",
     "text": [
      "   A  B\n",
      "0  1  2\n",
      "1  3  4 \n",
      "\n",
      "   B  C\n",
      "0  2  3\n",
      "1  5  6\n",
      "2  2  5\n",
      "     A  B    C\n",
      "0  1.0  2  NaN\n",
      "1  3.0  4  NaN\n",
      "0  NaN  2  3.0\n",
      "1  NaN  5  6.0\n",
      "2  NaN  2  5.0\n"
     ]
    },
    {
     "name": "stderr",
     "output_type": "stream",
     "text": [
      "C:\\Users\\Naeim.S\\Anaconda3\\lib\\site-packages\\ipykernel_launcher.py:8: FutureWarning: Sorting because non-concatenation axis is not aligned. A future version\n",
      "of pandas will change to not sort by default.\n",
      "\n",
      "To accept the future behavior, pass 'sort=True'.\n",
      "\n",
      "To retain the current behavior and silence the warning, pass sort=False\n",
      "\n",
      "  \n"
     ]
    }
   ],
   "source": [
    "df1 = pd.DataFrame([[1, 2], [3, 4]], columns=['A', 'B'])\n",
    "df2 = pd.DataFrame([[2, 3], [5, 6], [2, 5]], columns=['B', 'C'])\n",
    "print(df1,'\\n')\n",
    "print(df2)\n",
    "\n",
    "#Vertical concatenation:\n",
    "dfs = [df1, df2]\n",
    "print(pd.concat(dfs))"
   ]
  },
  {
   "cell_type": "code",
   "execution_count": 14,
   "metadata": {},
   "outputs": [
    {
     "name": "stdout",
     "output_type": "stream",
     "text": [
      "   A  B\n",
      "0  1  2\n",
      "1  3  4\n",
      "   C   D\n",
      "1  7   8\n",
      "2  9  10\n",
      "     A    B    C     D\n",
      "0  1.0  2.0  NaN   NaN\n",
      "1  3.0  4.0  7.0   8.0\n",
      "2  NaN  NaN  9.0  10.0\n"
     ]
    }
   ],
   "source": [
    "#Horizontal convatenation:\n",
    "df3 = pd.DataFrame([[7, 8], [9, 10]], columns=['C', 'D'], index = [1,2])\n",
    "\n",
    "print(df1)\n",
    "print(df3)\n",
    "\n",
    "print(pd.concat([df1, df3], axis=1)) #Horizontal concatenation is based on axis = 1."
   ]
  },
  {
   "cell_type": "markdown",
   "metadata": {},
   "source": [
    "## Merging DataFrames"
   ]
  },
  {
   "cell_type": "code",
   "execution_count": 24,
   "metadata": {},
   "outputs": [
    {
     "name": "stdout",
     "output_type": "stream",
     "text": [
      "     A  B    C\n",
      "0  1.0  2  3.0\n",
      "1  1.0  2  5.0\n",
      "2  3.0  4  NaN\n",
      "3  NaN  5  6.0 \n",
      "\n",
      "   A  B  C\n",
      "0  1  2  3\n",
      "1  1  2  5 \n",
      "\n",
      "   A  B    C\n",
      "0  1  2  3.0\n",
      "1  1  2  5.0\n",
      "2  3  4  NaN \n",
      "\n",
      "     A  B  C\n",
      "0  1.0  2  3\n",
      "1  1.0  2  5\n",
      "2  NaN  5  6 \n",
      "\n",
      "     A  B    C\n",
      "0  1.0  2  NaN\n",
      "1  3.0  4  NaN\n",
      "0  NaN  2  3.0\n",
      "1  NaN  5  6.0\n",
      "2  NaN  2  5.0\n"
     ]
    },
    {
     "name": "stderr",
     "output_type": "stream",
     "text": [
      "C:\\Users\\Naeim.S\\Anaconda3\\lib\\site-packages\\ipykernel_launcher.py:5: FutureWarning: Sorting because non-concatenation axis is not aligned. A future version\n",
      "of pandas will change to not sort by default.\n",
      "\n",
      "To accept the future behavior, pass 'sort=True'.\n",
      "\n",
      "To retain the current behavior and silence the warning, pass sort=False\n",
      "\n",
      "  \"\"\"\n"
     ]
    }
   ],
   "source": [
    "print(pd.merge(df1, df2, how='outer'), \"\\n\") #Complete and incomplete merges are kept. Missing data is shown.\n",
    "print(pd.merge(df1, df2, how='inner'), \"\\n\") #Only complete matches are kept\n",
    "print(pd.merge(df1, df2, how='left'), \"\\n\") #The \"left\" data is kept entirely, and the matching merges from \"right\" are added\n",
    "print(pd.merge(df1, df2, how='right'), \"\\n\")\n",
    "print(pd.concat([df1, df2]))"
   ]
  },
  {
   "cell_type": "markdown",
   "metadata": {},
   "source": [
    "## Stacking data"
   ]
  },
  {
   "cell_type": "code",
   "execution_count": 25,
   "metadata": {},
   "outputs": [
    {
     "name": "stdout",
     "output_type": "stream",
     "text": [
      "      EU  US\n",
      "2000   1   2\n",
      "2010   3   4 \n",
      "\n",
      "2000  EU    1\n",
      "      US    2\n",
      "2010  EU    3\n",
      "      US    4\n",
      "dtype: int64\n"
     ]
    }
   ],
   "source": [
    "df = pd.DataFrame([[1,2],[3,4]],columns=['EU','US'],index=[2000,2010])\n",
    "print(df, '\\n')\n",
    "stacked = df.stack(dropna=True) # going from wide to long format\n",
    "print(stacked) # .reset_index()\n",
    "#By default stack removes missing data automatically. Can be undone by dropna = False\n",
    "#This isn't very transparent, yet it can be worked around by dropna = False."
   ]
  },
  {
   "cell_type": "code",
   "execution_count": 26,
   "metadata": {},
   "outputs": [
    {
     "name": "stdout",
     "output_type": "stream",
     "text": [
      "      EU  US\n",
      "2000   1   2\n",
      "2010   3   4\n"
     ]
    }
   ],
   "source": [
    "print(stacked.unstack(level=1))"
   ]
  },
  {
   "cell_type": "markdown",
   "metadata": {},
   "source": [
    "# Lecture 8"
   ]
  },
  {
   "cell_type": "markdown",
   "metadata": {},
   "source": [
    "** In-class exercise 2** Now it your turn to practice collecting links using the simple split method.\n",
    "\n",
    "The above example only collected links to courses in Anthropology. Now I want you to build a script that\n",
    "* first collects links to all the different studyboards here: https://kurser.ku.dk/archive/2016-2017\n",
    "\n",
    "* And next run through those to collect the links to all the courses at UCPH 2016-2017.\n",
    "\n",
    "* figure out how to get links from the other years (hint look at the urls).\n"
   ]
  },
  {
   "cell_type": "code",
   "execution_count": 204,
   "metadata": {},
   "outputs": [
    {
     "name": "stdout",
     "output_type": "stream",
     "text": [
      "['2016-2017/STUDYBOARD_0010', '2016-2017/STUDYBOARD_0032', '2016-2017/STUDYBOARD_0018', '2016-2017/STUDYBOARD_0071', '2016-2017/STUDYBOARD_0021', '2016-2017/STUDYBOARD_0044', '2016-2017/STUDYBOARD_0009', '2016-2017/STUDYBOARD_PHD_0015', '2016-2017/STUDYBOARD_PB_01', '2016-2017/STUDYBOARD_0012', '2016-2017/STUDYBOARD_0033', '2016-2017/STUDYBOARD_0025', '2016-2017/STUDYBOARD_0026', '2016-2017/STUDYBOARD_MA_0002', '2016-2017/STUDYBOARD_0019', '2016-2017/STUDYBOARD_0113', '2016-2017/STUDYBOARD_0054', '2016-2017/STUDYBOARD_0028', '2016-2017/STUDYBOARD_0066', '2016-2017/STUDYBOARD_0027', '2016-2017/STUDYBOARD_0029', '2016-2017/STUDYBOARD_0034', '2016-2017/STUDYBOARD_MA_0013', '2016-2017/STUDYBOARD_0030', '2016-2017/STUDYBOARD_0031', '2016-2017/STUDYBOARD_PHD_0010', '2016-2017/STUDYBOARD_0020', '2016-2017/STUDYBOARD_0001', '2016-2017/STUDYBOARD_0005', '2016-2017/SUND_FG', '2016-2017/STUD_HBI', '2016-2017/STUDYBOARD_MA_0014', '2016-2017/STUDYBOARD_0006', '2016-2017/SUND_MAS', '2016-2017/STUDYBOARD_0016', '2016-2017/SUND_MS', '2016-2017/STUDYBOARD_0091', '2016-2017/STUDYBOARD_4861', '2016-2017/STUDYBOARD_0003', '2016-2017/STUDYBOARD_0203', '2016-2017/STUDYBOARD_0014', '2016-2017/STUDYBOARD_0004', '2016-2017/STUDYBOARD_0023']\n",
      "43\n"
     ]
    },
    {
     "data": {
      "text/plain": [
       "['https://kurser.ku.dk/archive/2016-2017/STUDYBOARD_0010',\n",
       " 'https://kurser.ku.dk/archive/2016-2017/STUDYBOARD_0032',\n",
       " 'https://kurser.ku.dk/archive/2016-2017/STUDYBOARD_0018',\n",
       " 'https://kurser.ku.dk/archive/2016-2017/STUDYBOARD_0071',\n",
       " 'https://kurser.ku.dk/archive/2016-2017/STUDYBOARD_0021',\n",
       " 'https://kurser.ku.dk/archive/2016-2017/STUDYBOARD_0044',\n",
       " 'https://kurser.ku.dk/archive/2016-2017/STUDYBOARD_0009',\n",
       " 'https://kurser.ku.dk/archive/2016-2017/STUDYBOARD_PHD_0015',\n",
       " 'https://kurser.ku.dk/archive/2016-2017/STUDYBOARD_PB_01',\n",
       " 'https://kurser.ku.dk/archive/2016-2017/STUDYBOARD_0012',\n",
       " 'https://kurser.ku.dk/archive/2016-2017/STUDYBOARD_0033',\n",
       " 'https://kurser.ku.dk/archive/2016-2017/STUDYBOARD_0025',\n",
       " 'https://kurser.ku.dk/archive/2016-2017/STUDYBOARD_0026',\n",
       " 'https://kurser.ku.dk/archive/2016-2017/STUDYBOARD_MA_0002',\n",
       " 'https://kurser.ku.dk/archive/2016-2017/STUDYBOARD_0019',\n",
       " 'https://kurser.ku.dk/archive/2016-2017/STUDYBOARD_0113',\n",
       " 'https://kurser.ku.dk/archive/2016-2017/STUDYBOARD_0054',\n",
       " 'https://kurser.ku.dk/archive/2016-2017/STUDYBOARD_0028',\n",
       " 'https://kurser.ku.dk/archive/2016-2017/STUDYBOARD_0066',\n",
       " 'https://kurser.ku.dk/archive/2016-2017/STUDYBOARD_0027',\n",
       " 'https://kurser.ku.dk/archive/2016-2017/STUDYBOARD_0029',\n",
       " 'https://kurser.ku.dk/archive/2016-2017/STUDYBOARD_0034',\n",
       " 'https://kurser.ku.dk/archive/2016-2017/STUDYBOARD_MA_0013',\n",
       " 'https://kurser.ku.dk/archive/2016-2017/STUDYBOARD_0030',\n",
       " 'https://kurser.ku.dk/archive/2016-2017/STUDYBOARD_0031',\n",
       " 'https://kurser.ku.dk/archive/2016-2017/STUDYBOARD_PHD_0010',\n",
       " 'https://kurser.ku.dk/archive/2016-2017/STUDYBOARD_0020',\n",
       " 'https://kurser.ku.dk/archive/2016-2017/STUDYBOARD_0001',\n",
       " 'https://kurser.ku.dk/archive/2016-2017/STUDYBOARD_0005',\n",
       " 'https://kurser.ku.dk/archive/2016-2017/SUND_FG',\n",
       " 'https://kurser.ku.dk/archive/2016-2017/STUD_HBI',\n",
       " 'https://kurser.ku.dk/archive/2016-2017/STUDYBOARD_MA_0014',\n",
       " 'https://kurser.ku.dk/archive/2016-2017/STUDYBOARD_0006',\n",
       " 'https://kurser.ku.dk/archive/2016-2017/SUND_MAS',\n",
       " 'https://kurser.ku.dk/archive/2016-2017/STUDYBOARD_0016',\n",
       " 'https://kurser.ku.dk/archive/2016-2017/SUND_MS',\n",
       " 'https://kurser.ku.dk/archive/2016-2017/STUDYBOARD_0091',\n",
       " 'https://kurser.ku.dk/archive/2016-2017/STUDYBOARD_4861',\n",
       " 'https://kurser.ku.dk/archive/2016-2017/STUDYBOARD_0003',\n",
       " 'https://kurser.ku.dk/archive/2016-2017/STUDYBOARD_0203',\n",
       " 'https://kurser.ku.dk/archive/2016-2017/STUDYBOARD_0014',\n",
       " 'https://kurser.ku.dk/archive/2016-2017/STUDYBOARD_0004',\n",
       " 'https://kurser.ku.dk/archive/2016-2017/STUDYBOARD_0023']"
      ]
     },
     "execution_count": 204,
     "metadata": {},
     "output_type": "execute_result"
    }
   ],
   "source": [
    "# Snorre's solution goes here\n",
    "url = \"https://kurser.ku.dk/archive/2016-2017\"\n",
    "response  = requests.get(url)\n",
    "html = response.text\n",
    "link_locations = html.split('href=\"')[1:]\n",
    "study_boards = []\n",
    "for link_loc in link_locations:\n",
    "        link = link_loc.split('\"')[0]\n",
    "        study_boards.append(link)\n",
    "# print(study_boards)\n",
    "\n",
    "clue = '2016-2017'\n",
    "study_boards = [link for link in study_boards if clue in link]\n",
    "print(study_boards)\n",
    "\n",
    "#Like before, we now have to connect the study_boards list of strings with the rest of the actual link:\n",
    "links = ['https://kurser.ku.dk/archive/'+ i for i in study_boards]\n",
    "print(len(links))\n",
    "#only links with /2016-2017/ in the name is a relevant course\n",
    "# links = [link for link in links if '2016-2017/' in link]\n",
    "# print(len(links))\n",
    "links"
   ]
  },
  {
   "cell_type": "code",
   "execution_count": 197,
   "metadata": {},
   "outputs": [
    {
     "name": "stdout",
     "output_type": "stream",
     "text": [
      "['https://twitter.com/koebenhavns_uni', 'https://bootstrap.secure.ku.dk/css/jquery.mmenu.css', 'https://bootstrap.secure.ku.dk/img/apple-touch-icon.png', 'https://velkommen.ku.dk/internationalt-samarbejde']\n",
      "135\n",
      "43\n"
     ]
    },
    {
     "data": {
      "text/plain": [
       "['https://kurser.ku.dk/archive/2016-2017/STUDYBOARD_MA_0002',\n",
       " 'https://kurser.ku.dk/archive/2016-2017/STUDYBOARD_0003',\n",
       " 'https://kurser.ku.dk/archive/2016-2017/STUDYBOARD_0019',\n",
       " 'https://kurser.ku.dk/archive/2016-2017/STUDYBOARD_0025',\n",
       " 'https://kurser.ku.dk/archive/2016-2017/STUDYBOARD_0203',\n",
       " 'https://kurser.ku.dk/archive/2016-2017/STUDYBOARD_0001',\n",
       " 'https://kurser.ku.dk/archive/2016-2017/SUND_FG',\n",
       " 'https://kurser.ku.dk/archive/2016-2017/SUND_MS',\n",
       " 'https://kurser.ku.dk/archive/2016-2017/STUD_HBI',\n",
       " 'https://kurser.ku.dk/archive/2016-2017/STUDYBOARD_0014',\n",
       " 'https://kurser.ku.dk/archive/2016-2017/STUDYBOARD_0091',\n",
       " 'https://kurser.ku.dk/archive/2016-2017/STUDYBOARD_4861',\n",
       " 'https://kurser.ku.dk/archive/2016-2017/STUDYBOARD_PHD_0010',\n",
       " 'https://kurser.ku.dk/archive/2016-2017/STUDYBOARD_0044',\n",
       " 'https://kurser.ku.dk/archive/2016-2017/STUDYBOARD_0010',\n",
       " 'https://kurser.ku.dk/archive/2016-2017/STUDYBOARD_0009',\n",
       " 'https://kurser.ku.dk/archive/2016-2017/STUDYBOARD_0021',\n",
       " 'https://kurser.ku.dk/archive/2016-2017/STUDYBOARD_0023',\n",
       " 'https://kurser.ku.dk/archive/2016-2017/STUDYBOARD_0071',\n",
       " 'https://kurser.ku.dk/archive/2016-2017/STUDYBOARD_0032',\n",
       " 'https://kurser.ku.dk/archive/2016-2017/STUDYBOARD_0018',\n",
       " 'https://kurser.ku.dk/archive/2016-2017/STUDYBOARD_PB_01',\n",
       " 'https://kurser.ku.dk/archive/2016-2017/STUDYBOARD_PHD_0015',\n",
       " 'https://kurser.ku.dk/archive/2016-2017/STUDYBOARD_0113',\n",
       " 'https://kurser.ku.dk/archive/2016-2017/STUDYBOARD_0028',\n",
       " 'https://kurser.ku.dk/archive/2016-2017/STUDYBOARD_0027',\n",
       " 'https://kurser.ku.dk/archive/2016-2017/STUDYBOARD_0066',\n",
       " 'https://kurser.ku.dk/archive/2016-2017/STUDYBOARD_MA_0014',\n",
       " 'https://kurser.ku.dk/archive/2016-2017/STUDYBOARD_0034',\n",
       " 'https://kurser.ku.dk/archive/2016-2017/SUND_MAS',\n",
       " 'https://kurser.ku.dk/archive/2016-2017/STUDYBOARD_MA_0013',\n",
       " 'https://kurser.ku.dk/archive/2016-2017/STUDYBOARD_0031',\n",
       " 'https://kurser.ku.dk/archive/2016-2017/STUDYBOARD_0006',\n",
       " 'https://kurser.ku.dk/archive/2016-2017/STUDYBOARD_0005',\n",
       " 'https://kurser.ku.dk/archive/2016-2017/STUDYBOARD_0030',\n",
       " 'https://kurser.ku.dk/archive/2016-2017/STUDYBOARD_0054',\n",
       " 'https://kurser.ku.dk/archive/2016-2017/STUDYBOARD_0004',\n",
       " 'https://kurser.ku.dk/archive/2016-2017/STUDYBOARD_0033',\n",
       " 'https://kurser.ku.dk/archive/2016-2017/STUDYBOARD_0026',\n",
       " 'https://kurser.ku.dk/archive/2016-2017/STUDYBOARD_0012',\n",
       " 'https://kurser.ku.dk/archive/2016-2017/STUDYBOARD_0016',\n",
       " 'https://kurser.ku.dk/archive/2016-2017/STUDYBOARD_0020',\n",
       " 'https://kurser.ku.dk/archive/2016-2017/STUDYBOARD_0029']"
      ]
     },
     "execution_count": 197,
     "metadata": {},
     "output_type": "execute_result"
    }
   ],
   "source": [
    "# My solution goes here\n",
    "url = \"https://kurser.ku.dk/archive/2016-2017\"\n",
    "response = requests.get(url)\n",
    "# response.text\n",
    "###\n",
    "\n",
    "link_locations = response.text.split('href=\"')[1:] \n",
    "\n",
    "links = [] #define container for the links\n",
    "import random # good practice is to shuffle our data to inspect different data points each time.\n",
    "# we do this with the random.sample function.\n",
    "for link in random.sample(link_locations,len(link_locations)):\n",
    "    #print(link)\n",
    "    link = link.split('\"')[0]\n",
    "    links.append(link)\n",
    "print(links[0:4])\n",
    "###\n",
    "\n",
    "# links are relative to the domain: https://kurser.ku.dk/\n",
    "links = ['https://kurser.ku.dk/archive/'+ i for i in links]\n",
    "print(len(links))\n",
    "#only links with 2016-2017/ in the name is a relevant course\n",
    "links = [link for link in links if '2016-2017/' in link]\n",
    "print(len(links))\n",
    "links"
   ]
  },
  {
   "cell_type": "markdown",
   "metadata": {},
   "source": [
    "# Lecture 11 - ML\n",
    "\n",
    "Implementing Machine Learning in python:"
   ]
  },
  {
   "cell_type": "code",
   "execution_count": 24,
   "metadata": {},
   "outputs": [
    {
     "name": "stdout",
     "output_type": "stream",
     "text": [
      "[-1.00810406 -0.21519738  1.44993133]\n",
      "[2 0 0]\n",
      "4\n"
     ]
    }
   ],
   "source": [
    "import numpy as np\n",
    "\n",
    "X = np.random.normal(size=(3, 2)) # features\n",
    "y = np.array([1, -1, 1]) # target\n",
    "w = np.random.normal(size=(3)) # weight\n",
    "\n",
    "#Compute net-input\n",
    "z = w[0] + X.dot(w[1:]) # net-input\n",
    "\n",
    "print(z)\n",
    "\n",
    "#comput errors\n",
    "position = z>0\n",
    "y_hat = np.where(position,1,-1)\n",
    "    #y_hat = np.where(z>0, 1, -1)\n",
    "e = y - y_hat  # error \n",
    "print(e)\n",
    "\n",
    "SSE = e.T.dot(e)\n",
    "\n",
    "print(SSE)"
   ]
  }
 ],
 "metadata": {
  "kernelspec": {
   "display_name": "Python 3",
   "language": "python",
   "name": "python3"
  },
  "language_info": {
   "codemirror_mode": {
    "name": "ipython",
    "version": 3
   },
   "file_extension": ".py",
   "mimetype": "text/x-python",
   "name": "python",
   "nbconvert_exporter": "python",
   "pygments_lexer": "ipython3",
   "version": "3.6.5"
  }
 },
 "nbformat": 4,
 "nbformat_minor": 2
}
