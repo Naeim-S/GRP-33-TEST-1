{
 "cells": [
  {
   "cell_type": "markdown",
   "metadata": {
    "ExecuteTime": {
     "end_time": "2017-08-23T15:30:03.634114Z",
     "start_time": "2017-08-23T15:30:03.629294Z"
    }
   },
   "source": [
    "# Exercise Set 7: Data structuring  3\n",
    "\n",
    "*Morning, August 16, Morning*\n",
    "\n",
    "In this Exercise Set we finalize our work with the weather data we started working on in Exercise Set 4. We will also study a dataset of traffic data from Copenhagen to iterate through the pandas workflow once more. "
   ]
  },
  {
   "cell_type": "code",
   "execution_count": 4,
   "metadata": {},
   "outputs": [],
   "source": [
    "%matplotlib inline \n",
    "\n",
    "import pandas as pd \n",
    "import matplotlib.pyplot as plt\n",
    "import matplotlib as mpl\n",
    "import seaborn as sns\n",
    "import re\n",
    "\n",
    "# Increases the plot size a little\n",
    "mpl.rcParams['figure.figsize'] = 22, 12\n"
   ]
  },
  {
   "cell_type": "code",
   "execution_count": 5,
   "metadata": {},
   "outputs": [],
   "source": [
    "# [Answer to Ex. 6.1.5]\n",
    "url = 'https://www1.ncdc.noaa.gov/pub/data/ghcn/daily/by_year/1864.csv.gz'\n",
    "\n",
    "df1_weather = pd.read_csv(url,\n",
    "                         compression='gzip',\n",
    "                         header=None).iloc[:,:4]\n",
    "\n",
    "df1_weather.columns = ['station', 'datetime', 'obs_type', 'obs_value']\n",
    "df1_weather['obs_value'] = df1_weather['obs_value'] / 10\n",
    "df1_select = df1_weather[(df1_weather.obs_type == 'TMAX')].copy()\n",
    "df1_select['TMAX_F'] = 32 + 1.8 * df1_select['obs_value']\n",
    "df1_sorted = df1_select.reset_index(drop=True).sort_values(by=['obs_value'])\n",
    "wdf2 = pd.DataFrame(df1_sorted)"
   ]
  },
  {
   "cell_type": "code",
   "execution_count": 6,
   "metadata": {},
   "outputs": [],
   "source": [
    "wdf2[\"Date\"] = pd.to_datetime(wdf2[\"datetime\"], format=\"%Y%m%d\")\n",
    "wdf2['Month'] = pd.DatetimeIndex(wdf2['Date']).month"
   ]
  },
  {
   "cell_type": "code",
   "execution_count": 7,
   "metadata": {},
   "outputs": [
    {
     "data": {
      "text/html": [
       "<div>\n",
       "<style scoped>\n",
       "    .dataframe tbody tr th:only-of-type {\n",
       "        vertical-align: middle;\n",
       "    }\n",
       "\n",
       "    .dataframe tbody tr th {\n",
       "        vertical-align: top;\n",
       "    }\n",
       "\n",
       "    .dataframe thead th {\n",
       "        text-align: right;\n",
       "    }\n",
       "</style>\n",
       "<table border=\"1\" class=\"dataframe\">\n",
       "  <thead>\n",
       "    <tr style=\"text-align: right;\">\n",
       "      <th></th>\n",
       "      <th>station</th>\n",
       "      <th>datetime</th>\n",
       "      <th>obs_type</th>\n",
       "      <th>obs_value</th>\n",
       "      <th>TMAX_F</th>\n",
       "      <th>Date</th>\n",
       "      <th>Month</th>\n",
       "      <th>country</th>\n",
       "    </tr>\n",
       "  </thead>\n",
       "  <tbody>\n",
       "    <tr>\n",
       "      <th>845</th>\n",
       "      <td>SZ000006717</td>\n",
       "      <td>18640226</td>\n",
       "      <td>TMAX</td>\n",
       "      <td>-34.0</td>\n",
       "      <td>-29.20</td>\n",
       "      <td>1864-02-26</td>\n",
       "      <td>2</td>\n",
       "      <td>SZ</td>\n",
       "    </tr>\n",
       "    <tr>\n",
       "      <th>577</th>\n",
       "      <td>SZ000006717</td>\n",
       "      <td>18640208</td>\n",
       "      <td>TMAX</td>\n",
       "      <td>-17.4</td>\n",
       "      <td>0.68</td>\n",
       "      <td>1864-02-08</td>\n",
       "      <td>2</td>\n",
       "      <td>SZ</td>\n",
       "    </tr>\n",
       "    <tr>\n",
       "      <th>699</th>\n",
       "      <td>CA006158350</td>\n",
       "      <td>18640217</td>\n",
       "      <td>TMAX</td>\n",
       "      <td>-16.7</td>\n",
       "      <td>1.94</td>\n",
       "      <td>1864-02-17</td>\n",
       "      <td>2</td>\n",
       "      <td>CA</td>\n",
       "    </tr>\n",
       "    <tr>\n",
       "      <th>42</th>\n",
       "      <td>SZ000006717</td>\n",
       "      <td>18640103</td>\n",
       "      <td>TMAX</td>\n",
       "      <td>-16.5</td>\n",
       "      <td>2.30</td>\n",
       "      <td>1864-01-03</td>\n",
       "      <td>1</td>\n",
       "      <td>SZ</td>\n",
       "    </tr>\n",
       "    <tr>\n",
       "      <th>16</th>\n",
       "      <td>CA006158350</td>\n",
       "      <td>18640102</td>\n",
       "      <td>TMAX</td>\n",
       "      <td>-16.1</td>\n",
       "      <td>3.02</td>\n",
       "      <td>1864-01-02</td>\n",
       "      <td>1</td>\n",
       "      <td>CA</td>\n",
       "    </tr>\n",
       "    <tr>\n",
       "      <th>607</th>\n",
       "      <td>SZ000006717</td>\n",
       "      <td>18640210</td>\n",
       "      <td>TMAX</td>\n",
       "      <td>-15.9</td>\n",
       "      <td>3.38</td>\n",
       "      <td>1864-02-10</td>\n",
       "      <td>2</td>\n",
       "      <td>SZ</td>\n",
       "    </tr>\n",
       "    <tr>\n",
       "      <th>199</th>\n",
       "      <td>EZE00100082</td>\n",
       "      <td>18640114</td>\n",
       "      <td>TMAX</td>\n",
       "      <td>-15.1</td>\n",
       "      <td>4.82</td>\n",
       "      <td>1864-01-14</td>\n",
       "      <td>1</td>\n",
       "      <td>EZE</td>\n",
       "    </tr>\n",
       "    <tr>\n",
       "      <th>592</th>\n",
       "      <td>SZ000006717</td>\n",
       "      <td>18640209</td>\n",
       "      <td>TMAX</td>\n",
       "      <td>-15.0</td>\n",
       "      <td>5.00</td>\n",
       "      <td>1864-02-09</td>\n",
       "      <td>2</td>\n",
       "      <td>SZ</td>\n",
       "    </tr>\n",
       "    <tr>\n",
       "      <th>741</th>\n",
       "      <td>SZ000006717</td>\n",
       "      <td>18640219</td>\n",
       "      <td>TMAX</td>\n",
       "      <td>-14.7</td>\n",
       "      <td>5.54</td>\n",
       "      <td>1864-02-19</td>\n",
       "      <td>2</td>\n",
       "      <td>SZ</td>\n",
       "    </tr>\n",
       "    <tr>\n",
       "      <th>533</th>\n",
       "      <td>SZ000006717</td>\n",
       "      <td>18640205</td>\n",
       "      <td>TMAX</td>\n",
       "      <td>-14.4</td>\n",
       "      <td>6.08</td>\n",
       "      <td>1864-02-05</td>\n",
       "      <td>2</td>\n",
       "      <td>SZ</td>\n",
       "    </tr>\n",
       "  </tbody>\n",
       "</table>\n",
       "</div>"
      ],
      "text/plain": [
       "         station  datetime obs_type  obs_value  TMAX_F       Date  Month  \\\n",
       "845  SZ000006717  18640226     TMAX      -34.0  -29.20 1864-02-26      2   \n",
       "577  SZ000006717  18640208     TMAX      -17.4    0.68 1864-02-08      2   \n",
       "699  CA006158350  18640217     TMAX      -16.7    1.94 1864-02-17      2   \n",
       "42   SZ000006717  18640103     TMAX      -16.5    2.30 1864-01-03      1   \n",
       "16   CA006158350  18640102     TMAX      -16.1    3.02 1864-01-02      1   \n",
       "607  SZ000006717  18640210     TMAX      -15.9    3.38 1864-02-10      2   \n",
       "199  EZE00100082  18640114     TMAX      -15.1    4.82 1864-01-14      1   \n",
       "592  SZ000006717  18640209     TMAX      -15.0    5.00 1864-02-09      2   \n",
       "741  SZ000006717  18640219     TMAX      -14.7    5.54 1864-02-19      2   \n",
       "533  SZ000006717  18640205     TMAX      -14.4    6.08 1864-02-05      2   \n",
       "\n",
       "    country  \n",
       "845      SZ  \n",
       "577      SZ  \n",
       "699      CA  \n",
       "42       SZ  \n",
       "16       CA  \n",
       "607      SZ  \n",
       "199     EZE  \n",
       "592      SZ  \n",
       "741      SZ  \n",
       "533      SZ  "
      ]
     },
     "execution_count": 7,
     "metadata": {},
     "output_type": "execute_result"
    }
   ],
   "source": [
    "wdf2[\"country\"] = [''.join(re.findall(\"[a-zA-Z]+\", item)) for item in wdf2[\"station\"]]\n",
    "wdf2.head(10)"
   ]
  },
  {
   "cell_type": "code",
   "execution_count": 8,
   "metadata": {},
   "outputs": [],
   "source": [
    "# ts_wdf2 = wdf2[[\"obs_value\", \"Date\", \"country\"]]\n",
    "# ts_wdf2.head(5)\n",
    "\n",
    "## PLOT ##\n",
    "# for title, group in ts_wdf2.groupby('country'):\n",
    "#     group.plot(x='Date', y='obs_value', title=title)\n"
   ]
  },
  {
   "cell_type": "markdown",
   "metadata": {},
   "source": [
    "## Exercise Section 7.1: Weather data, part 3\n",
    "We continue with the final part of three exercises on structuring weather data. In this exercise you must use the function for fetching and structuring weather data which you made in Exercise 6.1.5."
   ]
  },
  {
   "cell_type": "markdown",
   "metadata": {},
   "source": [
    "> **Ex. 7.1.1:** Plot the monthly max,min, mean, first and third quartiles for maximum temperature for our station with the ID _'ITE00100550'_ in 1864. \n",
    "\n",
    "> *Hint*: the method `describe` computes all these measures."
   ]
  },
  {
   "cell_type": "code",
   "execution_count": 9,
   "metadata": {},
   "outputs": [
    {
     "data": {
      "text/html": [
       "<div>\n",
       "<style scoped>\n",
       "    .dataframe tbody tr th:only-of-type {\n",
       "        vertical-align: middle;\n",
       "    }\n",
       "\n",
       "    .dataframe tbody tr th {\n",
       "        vertical-align: top;\n",
       "    }\n",
       "\n",
       "    .dataframe thead th {\n",
       "        text-align: right;\n",
       "    }\n",
       "</style>\n",
       "<table border=\"1\" class=\"dataframe\">\n",
       "  <thead>\n",
       "    <tr style=\"text-align: right;\">\n",
       "      <th></th>\n",
       "      <th>datetime</th>\n",
       "      <th>obs_value</th>\n",
       "      <th>TMAX_F</th>\n",
       "      <th>Month</th>\n",
       "    </tr>\n",
       "  </thead>\n",
       "  <tbody>\n",
       "    <tr>\n",
       "      <th>count</th>\n",
       "      <td>3.660000e+02</td>\n",
       "      <td>366.000000</td>\n",
       "      <td>366.000000</td>\n",
       "      <td>366.000000</td>\n",
       "    </tr>\n",
       "    <tr>\n",
       "      <th>mean</th>\n",
       "      <td>1.864067e+07</td>\n",
       "      <td>16.249727</td>\n",
       "      <td>61.249508</td>\n",
       "      <td>6.513661</td>\n",
       "    </tr>\n",
       "    <tr>\n",
       "      <th>std</th>\n",
       "      <td>3.457653e+02</td>\n",
       "      <td>10.158772</td>\n",
       "      <td>18.285789</td>\n",
       "      <td>3.455958</td>\n",
       "    </tr>\n",
       "    <tr>\n",
       "      <th>min</th>\n",
       "      <td>1.864010e+07</td>\n",
       "      <td>-6.300000</td>\n",
       "      <td>20.660000</td>\n",
       "      <td>1.000000</td>\n",
       "    </tr>\n",
       "    <tr>\n",
       "      <th>25%</th>\n",
       "      <td>1.864040e+07</td>\n",
       "      <td>7.600000</td>\n",
       "      <td>45.680000</td>\n",
       "      <td>4.000000</td>\n",
       "    </tr>\n",
       "    <tr>\n",
       "      <th>50%</th>\n",
       "      <td>1.864070e+07</td>\n",
       "      <td>16.150000</td>\n",
       "      <td>61.070000</td>\n",
       "      <td>7.000000</td>\n",
       "    </tr>\n",
       "    <tr>\n",
       "      <th>75%</th>\n",
       "      <td>1.864098e+07</td>\n",
       "      <td>25.325000</td>\n",
       "      <td>77.585000</td>\n",
       "      <td>9.750000</td>\n",
       "    </tr>\n",
       "    <tr>\n",
       "      <th>max</th>\n",
       "      <td>1.864123e+07</td>\n",
       "      <td>34.800000</td>\n",
       "      <td>94.640000</td>\n",
       "      <td>12.000000</td>\n",
       "    </tr>\n",
       "  </tbody>\n",
       "</table>\n",
       "</div>"
      ],
      "text/plain": [
       "           datetime   obs_value      TMAX_F       Month\n",
       "count  3.660000e+02  366.000000  366.000000  366.000000\n",
       "mean   1.864067e+07   16.249727   61.249508    6.513661\n",
       "std    3.457653e+02   10.158772   18.285789    3.455958\n",
       "min    1.864010e+07   -6.300000   20.660000    1.000000\n",
       "25%    1.864040e+07    7.600000   45.680000    4.000000\n",
       "50%    1.864070e+07   16.150000   61.070000    7.000000\n",
       "75%    1.864098e+07   25.325000   77.585000    9.750000\n",
       "max    1.864123e+07   34.800000   94.640000   12.000000"
      ]
     },
     "execution_count": 9,
     "metadata": {},
     "output_type": "execute_result"
    }
   ],
   "source": [
    "# [Answer to Ex. 7.1.1]\n",
    "wdf_ITE =  wdf2[(wdf2.station == 'ITE00100550')]\n",
    "wdf3 = wdf_ITE[[\"obs_value\", \"Month\"]]\n",
    "wdf_ITE.describe()"
   ]
  },
  {
   "cell_type": "code",
   "execution_count": 10,
   "metadata": {},
   "outputs": [
    {
     "data": {
      "text/plain": [
       "<matplotlib.axes._subplots.AxesSubplot at 0x9e3bda0>"
      ]
     },
     "execution_count": 10,
     "metadata": {},
     "output_type": "execute_result"
    },
    {
     "data": {
      "image/png": "[encoded data removed]",
      "text/plain": [
       "<Figure size 1584x864 with 1 Axes>"
      ]
     },
     "metadata": {},
     "output_type": "display_data"
    }
   ],
   "source": [
    "sns.boxplot(y = \"obs_value\", x= \"Month\", data=wdf_ITE)"
   ]
  },
  {
   "cell_type": "markdown",
   "metadata": {},
   "source": [
    "> **Ex. 7.1.2:** Get the processed data from years 1864-1867 as a list of DataFrames. Convert the list into a single DataFrame by concatenating vertically. "
   ]
  },
  {
   "cell_type": "code",
   "execution_count": 15,
   "metadata": {},
   "outputs": [],
   "source": [
    "def get_weather_data(year_id):\n",
    "    url = 'https://www1.ncdc.noaa.gov/pub/data/ghcn/daily/by_year/{id}.csv.gz'.format(id = year_id)\n",
    "\n",
    "    df_weather = pd.read_csv(url,\n",
    "                         compression='gzip',\n",
    "                         header=None).iloc[:,:4]\n",
    "    \n",
    "    df_weather.columns = ['station', 'datetime', 'obs_type', 'obs_value']\n",
    "    df_weather['obs_value'] = df_weather['obs_value'] / 10\n",
    "    df_select = df_weather[df_weather.obs_type == 'TMAX'].copy()\n",
    "    df_select['TMAX_F'] = 32 + 1.8 * df_select['obs_value']\n",
    "    df = df_select.reset_index(drop=True).sort_values(by=['obs_value'])\n",
    "    df['Country_code']=df['station'].str[:3]\n",
    "    df['Date']=pd.to_datetime(df['datetime'],format='%Y%m%d') \n",
    "    df['Month'] = pd.DatetimeIndex(df['Date']).month\n",
    "    return df"
   ]
  },
  {
   "cell_type": "code",
   "execution_count": 27,
   "metadata": {},
   "outputs": [
    {
     "data": {
      "text/html": [
       "<div>\n",
       "<style scoped>\n",
       "    .dataframe tbody tr th:only-of-type {\n",
       "        vertical-align: middle;\n",
       "    }\n",
       "\n",
       "    .dataframe tbody tr th {\n",
       "        vertical-align: top;\n",
       "    }\n",
       "\n",
       "    .dataframe thead th {\n",
       "        text-align: right;\n",
       "    }\n",
       "</style>\n",
       "<table border=\"1\" class=\"dataframe\">\n",
       "  <thead>\n",
       "    <tr style=\"text-align: right;\">\n",
       "      <th></th>\n",
       "      <th>station</th>\n",
       "      <th>datetime</th>\n",
       "      <th>obs_type</th>\n",
       "      <th>obs_value</th>\n",
       "      <th>TMAX_F</th>\n",
       "      <th>Country_code</th>\n",
       "      <th>Date</th>\n",
       "      <th>Month</th>\n",
       "    </tr>\n",
       "  </thead>\n",
       "  <tbody>\n",
       "    <tr>\n",
       "      <th>45</th>\n",
       "      <td>ASN00074128</td>\n",
       "      <td>18670102</td>\n",
       "      <td>TMAX</td>\n",
       "      <td>42.8</td>\n",
       "      <td>109.04</td>\n",
       "      <td>ASN</td>\n",
       "      <td>1867-01-02</td>\n",
       "      <td>1</td>\n",
       "    </tr>\n",
       "    <tr>\n",
       "      <th>8956</th>\n",
       "      <td>ASN00074128</td>\n",
       "      <td>18671220</td>\n",
       "      <td>TMAX</td>\n",
       "      <td>43.3</td>\n",
       "      <td>109.94</td>\n",
       "      <td>ASN</td>\n",
       "      <td>1867-12-20</td>\n",
       "      <td>12</td>\n",
       "    </tr>\n",
       "    <tr>\n",
       "      <th>360</th>\n",
       "      <td>ASN00074128</td>\n",
       "      <td>18670115</td>\n",
       "      <td>TMAX</td>\n",
       "      <td>45.1</td>\n",
       "      <td>113.18</td>\n",
       "      <td>ASN</td>\n",
       "      <td>1867-01-15</td>\n",
       "      <td>1</td>\n",
       "    </tr>\n",
       "    <tr>\n",
       "      <th>70</th>\n",
       "      <td>ASN00074128</td>\n",
       "      <td>18670103</td>\n",
       "      <td>TMAX</td>\n",
       "      <td>46.2</td>\n",
       "      <td>115.16</td>\n",
       "      <td>ASN</td>\n",
       "      <td>1867-01-03</td>\n",
       "      <td>1</td>\n",
       "    </tr>\n",
       "    <tr>\n",
       "      <th>335</th>\n",
       "      <td>ASN00074128</td>\n",
       "      <td>18670114</td>\n",
       "      <td>TMAX</td>\n",
       "      <td>46.7</td>\n",
       "      <td>116.06</td>\n",
       "      <td>ASN</td>\n",
       "      <td>1867-01-14</td>\n",
       "      <td>1</td>\n",
       "    </tr>\n",
       "  </tbody>\n",
       "</table>\n",
       "</div>"
      ],
      "text/plain": [
       "          station  datetime obs_type  obs_value  TMAX_F Country_code  \\\n",
       "45    ASN00074128  18670102     TMAX       42.8  109.04          ASN   \n",
       "8956  ASN00074128  18671220     TMAX       43.3  109.94          ASN   \n",
       "360   ASN00074128  18670115     TMAX       45.1  113.18          ASN   \n",
       "70    ASN00074128  18670103     TMAX       46.2  115.16          ASN   \n",
       "335   ASN00074128  18670114     TMAX       46.7  116.06          ASN   \n",
       "\n",
       "           Date  Month  \n",
       "45   1867-01-02      1  \n",
       "8956 1867-12-20     12  \n",
       "360  1867-01-15      1  \n",
       "70   1867-01-03      1  \n",
       "335  1867-01-14      1  "
      ]
     },
     "execution_count": 27,
     "metadata": {},
     "output_type": "execute_result"
    }
   ],
   "source": [
    "wdf4 = pd.concat([get_weather_data(1864), get_weather_data(1865), get_weather_data(1866), get_weather_data(1867)])"
   ]
  },
  {
   "cell_type": "markdown",
   "metadata": {},
   "source": [
    "> **Ex. 7.1.3:** Parse the station location data which you can find at https://www1.ncdc.noaa.gov/pub/data/ghcn/daily/ghcnd-stations.txt. Merge station locations onto the weather data spanning 1864-1867.  \n",
    "\n",
    "> _Hint:_ The location data have the folllowing format, \n",
    "\n",
    "```\n",
    "------------------------------\n",
    "Variable   Columns   Type\n",
    "------------------------------\n",
    "ID            1-11   Character\n",
    "LATITUDE     13-20   Real\n",
    "LONGITUDE    22-30   Real\n",
    "ELEVATION    32-37   Real\n",
    "STATE        39-40   Character\n",
    "NAME         42-71   Character\n",
    "GSN FLAG     73-75   Character\n",
    "HCN/CRN FLAG 77-79   Character\n",
    "WMO ID       81-85   Character\n",
    "------------------------------\n",
    "```\n",
    "\n",
    "> *Hint*: The station information has fixed width format - does there exist a pandas reader for that?"
   ]
  },
  {
   "cell_type": "code",
   "execution_count": 40,
   "metadata": {},
   "outputs": [
    {
     "data": {
      "text/html": [
       "<div>\n",
       "<style scoped>\n",
       "    .dataframe tbody tr th:only-of-type {\n",
       "        vertical-align: middle;\n",
       "    }\n",
       "\n",
       "    .dataframe tbody tr th {\n",
       "        vertical-align: top;\n",
       "    }\n",
       "\n",
       "    .dataframe thead th {\n",
       "        text-align: right;\n",
       "    }\n",
       "</style>\n",
       "<table border=\"1\" class=\"dataframe\">\n",
       "  <thead>\n",
       "    <tr style=\"text-align: right;\">\n",
       "      <th></th>\n",
       "      <th>station</th>\n",
       "      <th>latitude</th>\n",
       "      <th>longitude</th>\n",
       "      <th>elevation</th>\n",
       "      <th>state</th>\n",
       "      <th>name</th>\n",
       "      <th>gsn</th>\n",
       "      <th>hcn</th>\n",
       "      <th>wmo</th>\n",
       "    </tr>\n",
       "  </thead>\n",
       "  <tbody>\n",
       "    <tr>\n",
       "      <th>0</th>\n",
       "      <td>ACW00011604</td>\n",
       "      <td>17.1167</td>\n",
       "      <td>-61.7833</td>\n",
       "      <td>10.1</td>\n",
       "      <td>NaN</td>\n",
       "      <td>ST JOHNS COOLIDGE FLD</td>\n",
       "      <td>NaN</td>\n",
       "      <td>NaN</td>\n",
       "      <td>NaN</td>\n",
       "    </tr>\n",
       "    <tr>\n",
       "      <th>1</th>\n",
       "      <td>ACW00011647</td>\n",
       "      <td>17.1333</td>\n",
       "      <td>-61.7833</td>\n",
       "      <td>19.2</td>\n",
       "      <td>NaN</td>\n",
       "      <td>ST JOHNS</td>\n",
       "      <td>NaN</td>\n",
       "      <td>NaN</td>\n",
       "      <td>NaN</td>\n",
       "    </tr>\n",
       "    <tr>\n",
       "      <th>2</th>\n",
       "      <td>AE000041196</td>\n",
       "      <td>25.3330</td>\n",
       "      <td>55.5170</td>\n",
       "      <td>34.0</td>\n",
       "      <td>NaN</td>\n",
       "      <td>SHARJAH INTER. AIRP</td>\n",
       "      <td>GSN</td>\n",
       "      <td>NaN</td>\n",
       "      <td>41196.0</td>\n",
       "    </tr>\n",
       "    <tr>\n",
       "      <th>3</th>\n",
       "      <td>AEM00041194</td>\n",
       "      <td>25.2550</td>\n",
       "      <td>55.3640</td>\n",
       "      <td>10.4</td>\n",
       "      <td>NaN</td>\n",
       "      <td>DUBAI INTL</td>\n",
       "      <td>NaN</td>\n",
       "      <td>NaN</td>\n",
       "      <td>41194.0</td>\n",
       "    </tr>\n",
       "    <tr>\n",
       "      <th>4</th>\n",
       "      <td>AEM00041217</td>\n",
       "      <td>24.4330</td>\n",
       "      <td>54.6510</td>\n",
       "      <td>26.8</td>\n",
       "      <td>NaN</td>\n",
       "      <td>ABU DHABI INTL</td>\n",
       "      <td>NaN</td>\n",
       "      <td>NaN</td>\n",
       "      <td>41217.0</td>\n",
       "    </tr>\n",
       "  </tbody>\n",
       "</table>\n",
       "</div>"
      ],
      "text/plain": [
       "       station  latitude  longitude  elevation state                   name  \\\n",
       "0  ACW00011604   17.1167   -61.7833       10.1   NaN  ST JOHNS COOLIDGE FLD   \n",
       "1  ACW00011647   17.1333   -61.7833       19.2   NaN               ST JOHNS   \n",
       "2  AE000041196   25.3330    55.5170       34.0   NaN    SHARJAH INTER. AIRP   \n",
       "3  AEM00041194   25.2550    55.3640       10.4   NaN             DUBAI INTL   \n",
       "4  AEM00041217   24.4330    54.6510       26.8   NaN         ABU DHABI INTL   \n",
       "\n",
       "   gsn  hcn      wmo  \n",
       "0  NaN  NaN      NaN  \n",
       "1  NaN  NaN      NaN  \n",
       "2  GSN  NaN  41196.0  \n",
       "3  NaN  NaN  41194.0  \n",
       "4  NaN  NaN  41217.0  "
      ]
     },
     "execution_count": 40,
     "metadata": {},
     "output_type": "execute_result"
    }
   ],
   "source": [
    "# [Answer to Ex. 7.1.3]\n",
    "url_loc = \"https://www1.ncdc.noaa.gov/pub/data/ghcn/daily/ghcnd-stations.txt\"\n",
    "colspecs = [(0, 11), (12, 21), (21, 31), (31, 38), (38, 41), (41, 72), (72, 76), (76, 80), (80, 86)]\n",
    "df_loc = pd.read_fwf(url_loc, header=None, colspecs = colspecs)\n",
    "df_loc.columns = [\"station\", \"latitude\",\"longitude\",\"elevation\",\"state\",\"name\",\"gsn\", \"hcn\",\"wmo\"]\n",
    "df_loc.head()"
   ]
  },
  {
   "cell_type": "code",
   "execution_count": 42,
   "metadata": {},
   "outputs": [
    {
     "data": {
      "text/html": [
       "<div>\n",
       "<style scoped>\n",
       "    .dataframe tbody tr th:only-of-type {\n",
       "        vertical-align: middle;\n",
       "    }\n",
       "\n",
       "    .dataframe tbody tr th {\n",
       "        vertical-align: top;\n",
       "    }\n",
       "\n",
       "    .dataframe thead th {\n",
       "        text-align: right;\n",
       "    }\n",
       "</style>\n",
       "<table border=\"1\" class=\"dataframe\">\n",
       "  <thead>\n",
       "    <tr style=\"text-align: right;\">\n",
       "      <th></th>\n",
       "      <th>station</th>\n",
       "      <th>datetime</th>\n",
       "      <th>obs_type</th>\n",
       "      <th>obs_value</th>\n",
       "      <th>TMAX_F</th>\n",
       "      <th>Country_code</th>\n",
       "      <th>Date</th>\n",
       "      <th>Month</th>\n",
       "      <th>latitude</th>\n",
       "      <th>longitude</th>\n",
       "      <th>elevation</th>\n",
       "      <th>state</th>\n",
       "      <th>name</th>\n",
       "      <th>gsn</th>\n",
       "      <th>hcn</th>\n",
       "      <th>wmo</th>\n",
       "    </tr>\n",
       "  </thead>\n",
       "  <tbody>\n",
       "    <tr>\n",
       "      <th>0</th>\n",
       "      <td>SZ000006717</td>\n",
       "      <td>18640226</td>\n",
       "      <td>TMAX</td>\n",
       "      <td>-34.0</td>\n",
       "      <td>-29.20</td>\n",
       "      <td>SZ0</td>\n",
       "      <td>1864-02-26</td>\n",
       "      <td>2</td>\n",
       "      <td>45.8667</td>\n",
       "      <td>7.1667</td>\n",
       "      <td>2472.0</td>\n",
       "      <td>NaN</td>\n",
       "      <td>COL DU GRAND ST-BERNARD</td>\n",
       "      <td>GSN</td>\n",
       "      <td>NaN</td>\n",
       "      <td>6717.0</td>\n",
       "    </tr>\n",
       "    <tr>\n",
       "      <th>1</th>\n",
       "      <td>SZ000006717</td>\n",
       "      <td>18640208</td>\n",
       "      <td>TMAX</td>\n",
       "      <td>-17.4</td>\n",
       "      <td>0.68</td>\n",
       "      <td>SZ0</td>\n",
       "      <td>1864-02-08</td>\n",
       "      <td>2</td>\n",
       "      <td>45.8667</td>\n",
       "      <td>7.1667</td>\n",
       "      <td>2472.0</td>\n",
       "      <td>NaN</td>\n",
       "      <td>COL DU GRAND ST-BERNARD</td>\n",
       "      <td>GSN</td>\n",
       "      <td>NaN</td>\n",
       "      <td>6717.0</td>\n",
       "    </tr>\n",
       "    <tr>\n",
       "      <th>2</th>\n",
       "      <td>CA006158350</td>\n",
       "      <td>18640217</td>\n",
       "      <td>TMAX</td>\n",
       "      <td>-16.7</td>\n",
       "      <td>1.94</td>\n",
       "      <td>CA0</td>\n",
       "      <td>1864-02-17</td>\n",
       "      <td>2</td>\n",
       "      <td>43.6667</td>\n",
       "      <td>-79.4000</td>\n",
       "      <td>113.0</td>\n",
       "      <td>ON</td>\n",
       "      <td>TORONTO</td>\n",
       "      <td>NaN</td>\n",
       "      <td>NaN</td>\n",
       "      <td>71266.0</td>\n",
       "    </tr>\n",
       "    <tr>\n",
       "      <th>3</th>\n",
       "      <td>SZ000006717</td>\n",
       "      <td>18640103</td>\n",
       "      <td>TMAX</td>\n",
       "      <td>-16.5</td>\n",
       "      <td>2.30</td>\n",
       "      <td>SZ0</td>\n",
       "      <td>1864-01-03</td>\n",
       "      <td>1</td>\n",
       "      <td>45.8667</td>\n",
       "      <td>7.1667</td>\n",
       "      <td>2472.0</td>\n",
       "      <td>NaN</td>\n",
       "      <td>COL DU GRAND ST-BERNARD</td>\n",
       "      <td>GSN</td>\n",
       "      <td>NaN</td>\n",
       "      <td>6717.0</td>\n",
       "    </tr>\n",
       "    <tr>\n",
       "      <th>4</th>\n",
       "      <td>CA006158350</td>\n",
       "      <td>18640102</td>\n",
       "      <td>TMAX</td>\n",
       "      <td>-16.1</td>\n",
       "      <td>3.02</td>\n",
       "      <td>CA0</td>\n",
       "      <td>1864-01-02</td>\n",
       "      <td>1</td>\n",
       "      <td>43.6667</td>\n",
       "      <td>-79.4000</td>\n",
       "      <td>113.0</td>\n",
       "      <td>ON</td>\n",
       "      <td>TORONTO</td>\n",
       "      <td>NaN</td>\n",
       "      <td>NaN</td>\n",
       "      <td>71266.0</td>\n",
       "    </tr>\n",
       "  </tbody>\n",
       "</table>\n",
       "</div>"
      ],
      "text/plain": [
       "       station  datetime obs_type  obs_value  TMAX_F Country_code       Date  \\\n",
       "0  SZ000006717  18640226     TMAX      -34.0  -29.20          SZ0 1864-02-26   \n",
       "1  SZ000006717  18640208     TMAX      -17.4    0.68          SZ0 1864-02-08   \n",
       "2  CA006158350  18640217     TMAX      -16.7    1.94          CA0 1864-02-17   \n",
       "3  SZ000006717  18640103     TMAX      -16.5    2.30          SZ0 1864-01-03   \n",
       "4  CA006158350  18640102     TMAX      -16.1    3.02          CA0 1864-01-02   \n",
       "\n",
       "   Month  latitude  longitude  elevation state                     name  gsn  \\\n",
       "0      2   45.8667     7.1667     2472.0   NaN  COL DU GRAND ST-BERNARD  GSN   \n",
       "1      2   45.8667     7.1667     2472.0   NaN  COL DU GRAND ST-BERNARD  GSN   \n",
       "2      2   43.6667   -79.4000      113.0    ON                  TORONTO  NaN   \n",
       "3      1   45.8667     7.1667     2472.0   NaN  COL DU GRAND ST-BERNARD  GSN   \n",
       "4      1   43.6667   -79.4000      113.0    ON                  TORONTO  NaN   \n",
       "\n",
       "   hcn      wmo  \n",
       "0  NaN   6717.0  \n",
       "1  NaN   6717.0  \n",
       "2  NaN  71266.0  \n",
       "3  NaN   6717.0  \n",
       "4  NaN  71266.0  "
      ]
     },
     "execution_count": 42,
     "metadata": {},
     "output_type": "execute_result"
    }
   ],
   "source": [
    "wdf_merged = pd.merge(wdf4, df_loc, how='left')\n",
    "wdf_merged.head()"
   ]
  },
  {
   "cell_type": "code",
   "execution_count": null,
   "metadata": {},
   "outputs": [],
   "source": []
  },
  {
   "cell_type": "markdown",
   "metadata": {},
   "source": [
    "## Exercise Section 7.2: Traffic data in Copenhagen\n",
    "\n",
    "In this second part of exercise set 7 you will be working with traffic data from Copenhagen Municipality.\n",
    "\n",
    "The municipality have made the data openly available through the [opendata.dk](http://www.opendata.dk/) platform. We will use the data from traffic counters to construct a dataset of hourly traffic. We will use this data to get basic insights on the development in traffic over time and relate it to weather. The gist here is to practice a very important skill in Data Science: being able to quickly fetch data from the web and structure it so that you can work with it. Scraping usually gets a bit more advanced than what we will do today, but the following exercises should give you a taste for how it works. The bulk of these exercise, however, revolve around using the Pandas library to structure and analyze data."
   ]
  },
  {
   "cell_type": "markdown",
   "metadata": {},
   "source": [
    "### Part 7.2.a: getting some data to work with\n",
    "\n",
    "Hence follows a simple scraping exercise where you (1) collect urls for datasets in the webpage listing data on traffic counters and (2) use these urls to load the data into one dataframe.\n",
    "\n",
    "> **Ex. 7.2.1:** Using the requests module, extract the html markup of the webpage data.kk.dk/dataset/faste-trafiktaellinger and store it as a string in a new variable."
   ]
  },
  {
   "cell_type": "code",
   "execution_count": null,
   "metadata": {},
   "outputs": [],
   "source": [
    "# [Answer to Ex. 7.2.1]"
   ]
  },
  {
   "cell_type": "markdown",
   "metadata": {},
   "source": [
    "> **Ex. 7.2.2:** Using the re module, extract a list of all the urls in the html string and store them in a new variable.\n",
    "\n",
    "> _Hint:_ Try using the re.findall method. You may want to Google around to figure out how to do this. Protip: searching for something along the lines of \"extract all links in html regex python\" and hitting the first StackOverflow link will probably get you farther than reading elaborate documentation."
   ]
  },
  {
   "cell_type": "code",
   "execution_count": null,
   "metadata": {},
   "outputs": [],
   "source": [
    "# [Answer to Ex. 7.2.2]"
   ]
  },
  {
   "cell_type": "markdown",
   "metadata": {},
   "source": [
    "> **Ex. 7.2.3:** Create a new variable that only contains the links that point to downloadable traffic data sheets. \n",
    "\n",
    "> _Hint:_ You want to filter the results from above. For example to only include urls with the term 'download' in them."
   ]
  },
  {
   "cell_type": "code",
   "execution_count": null,
   "metadata": {},
   "outputs": [],
   "source": [
    "# [Answer to Ex. 7.2.3]"
   ]
  },
  {
   "cell_type": "markdown",
   "metadata": {},
   "source": [
    "> **Ex. 7.2.4:** Using pd.read_excel method, load the datasets into a list. Your resulting variable should hold a list of Pandas dataframes.\n",
    "\n",
    "> _Hint:_ you may want to set the skiprows= keyword argument. "
   ]
  },
  {
   "cell_type": "code",
   "execution_count": null,
   "metadata": {},
   "outputs": [],
   "source": [
    "# [Answer to Ex. 7.2.4]"
   ]
  },
  {
   "cell_type": "markdown",
   "metadata": {},
   "source": [
    "> **Ex. 7.2.5:** Merge the list of dataframes into a single dataframe."
   ]
  },
  {
   "cell_type": "code",
   "execution_count": null,
   "metadata": {},
   "outputs": [],
   "source": [
    "# [Answer to Ex. 7.2.5]"
   ]
  },
  {
   "cell_type": "markdown",
   "metadata": {},
   "source": [
    "### Part 7.2.b Structuring your data\n",
    "\n",
    "If you successfully completed the previous part, you should now have a dataframe with about 183.397 rows (if your number of rows is close but not the same, worry not—it matters little in the following). Well done! But the data is still in no shape for analysis, so we must clean it up a little.\n",
    "\n",
    "161.236 rows (and 30 columns) is a lot of data. ~3.3 MB by my back-of-the-envelope calculations, so not \"Big Data\", but still enough to make your CPU heat up if you don't use it carefully. Pandas is built to handle fairly large dataframes and has advanced functionality to perform very fast operations even when the size of your data grows huge. So instead of working with basic Python we recommend working pandas built-in procedures as they are constructed to be fast on dataframes.\n",
    "\n",
    "Nerd fact: the reason pandas is much faster than pure Python is that dataframes access a lower level programming languages (namely C, C++) which are multiple times faster than Python. The reason it is faster is that it has a higher level of explicitness and thus is more difficult to learn and navigate.\n",
    "\n",
    "> **Ex. 7.2.6:** Reset the row indices of your dataframe so the first index is 0 and the last is whatever the number of rows your dataframe has. Also drop the column named 'index' and the one named `Spor`."
   ]
  },
  {
   "cell_type": "code",
   "execution_count": null,
   "metadata": {},
   "outputs": [],
   "source": [
    "# [Answer to Ex. 7.2.6]"
   ]
  },
  {
   "cell_type": "markdown",
   "metadata": {},
   "source": [
    "> **Ex. 7.2.7:** Rename variables from Danish to English using the dictionary below.\n",
    "\n",
    "```python \n",
    "dk_to_uk = {\n",
    "    'Vejnavn':'road_name',\n",
    "    '(UTM32)':'UTM32_north',\n",
    "    '(UTM32).1':'UTM32_east',\n",
    "    'Dato':'date',\n",
    "    'Vej-Id':'road_id'\n",
    "}\n",
    "```"
   ]
  },
  {
   "cell_type": "code",
   "execution_count": null,
   "metadata": {},
   "outputs": [],
   "source": [
    "# [Answer to Ex. 7.2.7]"
   ]
  },
  {
   "cell_type": "markdown",
   "metadata": {},
   "source": [
    "Python is quite efficient. For example, when you create a new dataframe by manipulating an old one, Python notices that—apart from some minor changes—these two objects are almost the same. Since memory is a precious resource, Python will represent the values in the new dataframe as references to the variables in the old dataset. This is great for performance, but if you for whatever reason change some of the values in your old dataframe, values in the new one will also change—and we don't want that! Luckily, we can break this dependency.\n",
    "\n",
    "> **Ex. 7.2.8:** Break the dependencies of the dataframe that resulted from Ex. 7.2.7 using the `.copy` method. Delete all other dataframes."
   ]
  },
  {
   "cell_type": "code",
   "execution_count": null,
   "metadata": {},
   "outputs": [],
   "source": [
    "# [Answer to Ex. 7.2.8]"
   ]
  },
  {
   "cell_type": "markdown",
   "metadata": {},
   "source": [
    "Once you have structured appropriately, something that you will want to do again and again is selecting subsets of the data. Specifically, it means that you select specific rows in the dataset based on some column values.\n",
    "\n",
    ">**Ex. 7.2.9:** Create a new column in the dataframe called total that is True when the last letter of road_id is T and otherwise False.\n",
    "\n",
    "> _Hint:_ you will need the `pd.Series.str` attribute for this."
   ]
  },
  {
   "cell_type": "code",
   "execution_count": null,
   "metadata": {},
   "outputs": [],
   "source": [
    "# [Answer to Ex. 7.2.9]"
   ]
  },
  {
   "cell_type": "markdown",
   "metadata": {},
   "source": [
    "> **Ex. 7.2.10:** Select rows where total is True. Delete all the remaining observations."
   ]
  },
  {
   "cell_type": "code",
   "execution_count": null,
   "metadata": {},
   "outputs": [],
   "source": [
    "# [Answer to Ex. 7.2.10]"
   ]
  },
  {
   "cell_type": "markdown",
   "metadata": {},
   "source": [
    "> **Ex. 7.2.11:** Make two datasets based on the lists of columns below. Call the dataset with spatial columns data_geo and the other data.\n",
    "\n",
    "```python\n",
    "# Columns for `geo_data`, stored in `geo_columns`\n",
    "spatial_columns = ['road_name', 'UTM32_north', 'UTM32_east']\n",
    "\n",
    "# Columns for `data`, stored in `select_columns`\n",
    "hours = ['kl.{}-{}'.format(str(h).zfill(2), str(h+1).zfill(2)) for h in range(24)]\n",
    "select_columns = ['road_name', 'date'] + hours\n",
    "```"
   ]
  },
  {
   "cell_type": "code",
   "execution_count": null,
   "metadata": {},
   "outputs": [],
   "source": [
    "# [Answer to Ex. 7.2.11]"
   ]
  },
  {
   "cell_type": "markdown",
   "metadata": {},
   "source": [
    "> **Ex. 7.2.12:** Drop the duplicate rows in data_geo."
   ]
  },
  {
   "cell_type": "code",
   "execution_count": null,
   "metadata": {},
   "outputs": [],
   "source": [
    "# [Answer to Ex. 7.2.12]"
   ]
  },
  {
   "cell_type": "markdown",
   "metadata": {},
   "source": [
    "**Formatting: wide and narrow format**\n",
    "\n",
    "When talking about two-dimensional data (matrices, tables or dataframes, we can call it many things), we can either say that it is in wide or long format (see explanation here, \"wide\" and \"long\" are used interchangably). In Pandas we can use the commands stack and unstack to move between these formats.\n",
    "\n",
    "The wide format has the advantage that it often requires less storage and is easier to read when printed. On the other hand the long format can be easier for modelling, because each observation has its own row. Turns out that the latter is what we most often need.\n",
    "\n",
    "> **Ex. 7.2.13:** Turn the dataset from wide to long so hourly data is now vertically stacked. Store this dataset in a dataframe called data. Name the column with hourly information hour_period. Your resulting dataframe should look something like this.\n",
    "\n",
    "> _Hint:_ pandas' melt function may be of use."
   ]
  },
  {
   "cell_type": "code",
   "execution_count": null,
   "metadata": {},
   "outputs": [],
   "source": [
    "# [Answer to Ex. 7.2.13]"
   ]
  },
  {
   "cell_type": "markdown",
   "metadata": {},
   "source": [
    "**Categorical data**\n",
    "\n",
    "Categorical data can contain Python objects, usually strings. These are smart if you have variables with string observations that are long and often repeated, e.g. with road names.\n",
    "\n",
    "> **Ex. 7.2.14:** Use the `.astype` method to convert the type of the road_name column to categorical."
   ]
  },
  {
   "cell_type": "code",
   "execution_count": null,
   "metadata": {},
   "outputs": [],
   "source": [
    "# [Answer to Ex. 7.2.14]"
   ]
  },
  {
   "cell_type": "markdown",
   "metadata": {},
   "source": [
    "### Structure temporal data\n",
    "\n",
    "Pandas has native support for working with temporal data. This is handy as much 'big data' often has time stamps which we can make Pandas aware of. Once we have encoded temporal data it can be used to extract information such as the hour, second etc.\n",
    "\n",
    "> **Ex. 7.2.15:** Create a new column called hour which contains the hour-of-day for each row. "
   ]
  },
  {
   "cell_type": "code",
   "execution_count": null,
   "metadata": {},
   "outputs": [],
   "source": [
    "# [Answer to Ex. 7.2.15]"
   ]
  },
  {
   "cell_type": "markdown",
   "metadata": {},
   "source": [
    ">**Ex. 7.2.16:** Create a new column called time, that contains the time of the row in datetime format. Delete the old temporal columns (hour, hour_period, date) to save memory.\n",
    "\n",
    "> _Hint:_ try making an intermediary series of strings that has all temporal information for the row; then use pandas to_datetime function where you can specify the format of the date string."
   ]
  },
  {
   "cell_type": "code",
   "execution_count": null,
   "metadata": {},
   "outputs": [],
   "source": [
    "# [Answer to Ex. 7.2.16]"
   ]
  },
  {
   "cell_type": "markdown",
   "metadata": {},
   "source": [
    "> **Ex. 7.2.17:** Using your time column make a new column called weekday which stores the weekday (in values between 0 and 6) of the corresponding datetime.\n",
    "\n",
    "> _Hint:_ try using the dt method for the series called time; dt has some relevant methods itself."
   ]
  },
  {
   "cell_type": "code",
   "execution_count": null,
   "metadata": {},
   "outputs": [],
   "source": [
    "# [Answer to Ex. 7.2.17]"
   ]
  },
  {
   "cell_type": "markdown",
   "metadata": {},
   "source": [
    "### Statistical descriptions of traffic data\n",
    "\n",
    "> **Ex. 7.2.18:** Print the \"descriptive statistics\" of the traffic column. Also show a kernel density estimate of the values.\n",
    "\n",
    "> _Hint:_ Use the describe method of pandas dataframes for the first task. Use seaborn for the second. "
   ]
  },
  {
   "cell_type": "code",
   "execution_count": null,
   "metadata": {},
   "outputs": [],
   "source": [
    "# [Answer to Ex. 7.2.18]"
   ]
  },
  {
   "cell_type": "markdown",
   "metadata": {},
   "source": [
    "> **Ex. 7.2.19:** Which road has the most average traffic?"
   ]
  },
  {
   "cell_type": "code",
   "execution_count": null,
   "metadata": {},
   "outputs": [],
   "source": [
    "# [Answer to Ex. 7.2.19]"
   ]
  },
  {
   "cell_type": "markdown",
   "metadata": {},
   "source": [
    "> **Ex. 7.2.20:** Compute annual, average road traffic during day hours (9-17). Which station had the least traffic in 2013? Which station has seen highest growth in traffic from 2013 to 2014?"
   ]
  },
  {
   "cell_type": "code",
   "execution_count": null,
   "metadata": {},
   "outputs": [],
   "source": [
    "# [Answer to Ex. 7.2.19]"
   ]
  }
 ],
 "metadata": {
  "kernelspec": {
   "display_name": "Python 3",
   "language": "python",
   "name": "python3"
  },
  "language_info": {
   "codemirror_mode": {
    "name": "ipython",
    "version": 3
   },
   "file_extension": ".py",
   "mimetype": "text/x-python",
   "name": "python",
   "nbconvert_exporter": "python",
   "pygments_lexer": "ipython3",
   "version": "3.6.5"
  },
  "nav_menu": {},
  "toc": {
   "navigate_menu": true,
   "number_sections": false,
   "sideBar": true,
   "threshold": 6,
   "toc_cell": false,
   "toc_section_display": "block",
   "toc_window_display": true
  }
 },
 "nbformat": 4,
 "nbformat_minor": 2
}
