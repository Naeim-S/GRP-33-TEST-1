{
 "cells": [
  {
   "cell_type": "markdown",
   "metadata": {},
   "source": [
    "> **Note:** In most sessions you will be solving exercises posed in a Jupyter notebook that looks like this one. Because you are cloning a Github repository that only we can push to, you should **NEVER EDIT** any of the files you pull from Github. Instead, what you should do, is either make a new notebook and write your solutions in there, or **make a copy of this notebook and save it somewhere else** on your computer, not inside the `sds` folder that you cloned, so you can write your answers in there. If you edit the notebook you pulled from Github, those edits (possible your solutions to the exercises) may be overwritten and lost the next time you pull from Github. This is important, so don't hesitate to ask if it is unclear."
   ]
  },
  {
   "cell_type": "markdown",
   "metadata": {
    "ExecuteTime": {
     "end_time": "2017-08-23T15:30:03.634114Z",
     "start_time": "2017-08-23T15:30:03.629294Z"
    }
   },
   "source": [
    "# Exercise set 1: Introduction to Python\n",
    "\n",
    "*Morning, August 13, 2018*\n",
    "\n",
    "In this session you will be working with core Python. We will go over some of the basic operations and functions in Python. You will learn to set up a `for` loop and write your own function."
   ]
  },
  {
   "cell_type": "markdown",
   "metadata": {},
   "source": [
    "### Exercise Section 1.0.: Check modules are working\n",
    "\n",
    "Run the cell below to check you have all the relevant packages installed. You should get a scatter plot of `total_bill` and `tip` in the dataset `tips`."
   ]
  },
  {
   "cell_type": "code",
   "execution_count": null,
   "metadata": {},
   "outputs": [],
   "source": [
    "# This part import the relevant packages \n",
    "import matplotlib.pyplot as plt\n",
    "import numpy as np\n",
    "import pandas as pd\n",
    "import requests\n",
    "import seaborn as sns\n",
    "\n",
    "# We load the dataset 'tips' from the seaborn package, and call the dataset tips\n",
    "tips = sns.load_dataset('tips')\n",
    "# We use seaborn to make a jointplot, with total_bill on the x-axis and tip on the y-axis, form the dataset tips.\n",
    "sns.jointplot(x='total_bill', y='tip', data=tips)\n",
    "\n",
    "# The plot is displayed\n",
    "plt.show()"
   ]
  },
  {
   "cell_type": "markdown",
   "metadata": {},
   "source": [
    "## Exercises"
   ]
  },
  {
   "cell_type": "markdown",
   "metadata": {},
   "source": [
    "### Exercise Section 1.1: Basic operations and functions\n",
    "We start with some simple procedures for core Python."
   ]
  },
  {
   "cell_type": "markdown",
   "metadata": {},
   "source": [
    "> **Ex. 1.1.1**: Division in Python has two ways of usage. What is the output of `5/2`?  What is the output of `5//2`? What is the fundamental data type for each of the two operations? Explain your results.\n",
    "\n",
    "> Note: Python 2 and 3 are different on what `/` does to integers! "
   ]
  },
  {
   "cell_type": "code",
   "execution_count": null,
   "metadata": {},
   "outputs": [],
   "source": [
    "# [Answer to Ex. 1.1.1]\n",
    "print(5/2) #Regular division: Returns a float value of the division.\n",
    "print(5//2) #Floored division: Returns a (floored) integer value of the division."
   ]
  },
  {
   "cell_type": "markdown",
   "metadata": {},
   "source": [
    "> **Ex. 1.1.2\n",
    "**: What happens if we use the modulus operator instead, i.e. `5%2`? What is the output of `5**2`? Explain your answers."
   ]
  },
  {
   "cell_type": "code",
   "execution_count": null,
   "metadata": {},
   "outputs": [],
   "source": [
    "# [Answer to Ex. 1.1.2]\n",
    "print(5%2) #Remainder; so it returns the remained value of an uneven division.\n",
    "print(5**2) #Five to the power of two (five squared)"
   ]
  },
  {
   "cell_type": "markdown",
   "metadata": {},
   "source": [
    "> **Ex. 1.1.3**: use expressions `<`, `>`, `==`, `!=` to compare 4 to 6 (e.g. run `4<6`)- what are the input data types? What are the output data types?"
   ]
  },
  {
   "cell_type": "code",
   "execution_count": null,
   "metadata": {},
   "outputs": [],
   "source": [
    "# [Answer to Ex. 1.1.3]\n",
    "print(\n",
    "    4<6, \n",
    "    4>6,\n",
    "    4==6,\n",
    "    4!=6\n",
    ")\n",
    "#Inputs are operators and integers whereas the outputs are booleans."
   ]
  },
  {
   "cell_type": "markdown",
   "metadata": {},
   "source": [
    "> **Ex. 1.1.4**: Use the functions `abs`, `round` to return the absolute value of -3.14159265 with 3 decimals."
   ]
  },
  {
   "cell_type": "code",
   "execution_count": null,
   "metadata": {},
   "outputs": [],
   "source": [
    "# [Answer to Ex. 1.1.4]\n",
    "print(abs(round(-3.14159265, 3)))"
   ]
  },
  {
   "cell_type": "markdown",
   "metadata": {},
   "source": [
    "### Exercise Section 1.2: Logic and loops"
   ]
  },
  {
   "cell_type": "markdown",
   "metadata": {},
   "source": [
    "> **Ex. 1.2.1**: `if` & `else`     \n",
    "    Imagine that we have a car that can fit 5 passengers, and we want to know, if the car can fit more passengers.    \n",
    "        Using 'if' and 'else', make a piece of code that prints out \"The car is full\" if *passengers* is 5 or more, and \"The car is not full yet\" if *passengers* are less than 5.\n",
    "\n",
    "> *Note*: Multiple conditions can be inserted with **elif** statement(s):\n"
   ]
  },
  {
   "cell_type": "code",
   "execution_count": null,
   "metadata": {},
   "outputs": [],
   "source": [
    "# [Answer to Ex. 1.2.1]\n",
    "#passengers = randint(1,5)\n",
    "passengers = 4\n",
    "if passengers < 5:\n",
    "    print(\"the car is not full yet\")\n",
    "else:\n",
    "    print(\"the car is full\")"
   ]
  },
  {
   "cell_type": "markdown",
   "metadata": {},
   "source": [
    "> **Ex. 1.2.2**: compute and print each element in the range 1 to 5 cubic (i.e. lifted to power 3) using a `for` loop \n",
    "\n",
    "> *Hint*: Python's `range` may be useful"
   ]
  },
  {
   "cell_type": "code",
   "execution_count": null,
   "metadata": {},
   "outputs": [],
   "source": [
    "# [Answer to Ex. 1.2.2]\n",
    "#help(range)\n",
    "for i in range(1,5):\n",
    "    print(i**3)\n",
    "    "
   ]
  },
  {
   "cell_type": "markdown",
   "metadata": {},
   "source": [
    "> **Ex. 1.2.3**: Now make a  `while` loops that prints the square (i.e. lifted to power 2) of all the values from 1 to 12.\n",
    "\n",
    "> *Hint*: Add 1 to your iterator variable at the end of each loop. (You can use the += operator this)"
   ]
  },
  {
   "cell_type": "code",
   "execution_count": null,
   "metadata": {},
   "outputs": [],
   "source": [
    "# [Answer to Ex. 1.2.3]\n",
    "i = 1\n",
    "while i <= 12:\n",
    "    print(i**2)\n",
    "    i += 1"
   ]
  },
  {
   "cell_type": "markdown",
   "metadata": {},
   "source": [
    "### Exercise Section 1.3: Container and arrays "
   ]
  },
  {
   "cell_type": "markdown",
   "metadata": {},
   "source": [
    "> **Ex. 1.3.1**: make two lists, `A` and `B` with respectively integers 2,3,1 and 3,7,4. What is the index of 3 in list Β?"
   ]
  },
  {
   "cell_type": "code",
   "execution_count": null,
   "metadata": {},
   "outputs": [],
   "source": [
    "# [Answer to Ex. 1.3.1]\n",
    "A = [2,3,1]\n",
    "B = [3,7,4]\n",
    "print(B[0], B[-3]) #The index of 3 in list B is 0 or -3"
   ]
  },
  {
   "cell_type": "markdown",
   "metadata": {},
   "source": [
    "> **Ex. 1.3.2**: make a list `C` which consist of first `A`, then `B`. How might we describe this list? Convert `C` into a `numpy array` named `C_a`. What are the dimensions `C` after being converted to an array.\n",
    "\n",
    "> *Hint 1*: you must import `numpy` before you make the array\n",
    "\n",
    "> *Hint 2*: numpy arrays have the attribute `shape`."
   ]
  },
  {
   "cell_type": "code",
   "execution_count": null,
   "metadata": {},
   "outputs": [],
   "source": [
    "# [Answer to Ex. 1.3.2]\n",
    "import numpy as np\n",
    "\n",
    "C = A + B\n",
    "print(C) #This can be described as a list of 6 values.\n",
    "C_a = np.array(C)\n",
    "print(C_a) #Now its a 6x1 dimensional array/vector after being converted to an array."
   ]
  },
  {
   "cell_type": "markdown",
   "metadata": {},
   "source": [
    "It is often useful to access lists through its indices. Let `L=[0,2,1,3]`. Slicing of a list works  by returning a subsequence: `L[2:]` returns `[1,3]` and `L[1:3]` returns `[2,1]`.\n",
    "\n",
    "\n",
    "> **Ex. 1.3.3**:       \n",
    "- Use `in` operator to check if which values are in `B`\n",
    "- Slice `B` to print only its second and third element"
   ]
  },
  {
   "cell_type": "code",
   "execution_count": null,
   "metadata": {},
   "outputs": [],
   "source": [
    "# [Answer to Ex. 1.3.3]\n",
    "print(6 in B)\n",
    "print(3 in B)\n",
    "print(B[1:3], B[1:], B[-2:])"
   ]
  },
  {
   "cell_type": "markdown",
   "metadata": {},
   "source": [
    "We can change the elements in a list. Substitution of an element in the list can be done by slicing.\n",
    "\n",
    "> **Ex. 1.3.4**:  replace middle element of `B` with 9"
   ]
  },
  {
   "cell_type": "code",
   "execution_count": null,
   "metadata": {},
   "outputs": [],
   "source": [
    "# [Answer to Ex. 1.3.4]\n",
    "print(B)\n",
    "B[1] = 9\n",
    "print(B)"
   ]
  },
  {
   "cell_type": "markdown",
   "metadata": {},
   "source": [
    "> **Ex. 1.3.5**: Use functions for containers: Use `max` to find the maximal value of B, and `sorted` to print the elements in B from low to high"
   ]
  },
  {
   "cell_type": "code",
   "execution_count": null,
   "metadata": {},
   "outputs": [],
   "source": [
    "# [Answer to Ex. 1.3.5]\n",
    "print(max(B))\n",
    "print(sorted(B))"
   ]
  },
  {
   "cell_type": "markdown",
   "metadata": {},
   "source": [
    "> **Ex. 1.3.6**: try to add `B` to `A`. What is the new length of `A`? Are lists mutable? (e.i. can you change them?)\n",
    "\n",
    "> *Hint*: one way of doing this is with `append`. Adding elements to a list can be done as `L.append(O)` where `L` is our list and `O` is the object we add.\n",
    "\n",
    "> *Note*: More methods for lists can be seen [here](https://docs.python.org/3/tutorial/datastructures.html#more-on-lists), including removal of elements with **pop** and **remove**."
   ]
  },
  {
   "cell_type": "code",
   "execution_count": null,
   "metadata": {},
   "outputs": [],
   "source": [
    "# [Answer to Ex. 1.3.6]\n",
    "print(A)\n",
    "print(A.append(B)) #It seems to add B as a list inside A..."
   ]
  },
  {
   "cell_type": "markdown",
   "metadata": {},
   "source": [
    "\n",
    "> **Ex. 1.3.7 - BONUS**: Convert `A`, `B` into sets named respectively `A_s`, `B_s`. Combine the set `A_s` and `B_s` into one set `C_s`. How many elements are there in `C_s`?\n",
    "\n",
    "> Note: read about the `set` container in Python [here](https://docs.python.org/3.6/tutorial/datastructures.html#sets)."
   ]
  },
  {
   "cell_type": "code",
   "execution_count": null,
   "metadata": {},
   "outputs": [],
   "source": [
    "# [Answer to Ex. 1.3.7]\n",
    "A_s = set(A)\n",
    "print(A_s)\n",
    "B_s = set(B)\n",
    "print(B_s)\n",
    "C_s = A_s | B_s\n",
    "print(C_s) #As there can only be unique values in a set, there are now 5 elements; the duplicate of 3 is gone."
   ]
  },
  {
   "cell_type": "markdown",
   "metadata": {},
   "source": [
    "### Exercise Section 1.4: Reusable code; functions and objects"
   ]
  },
  {
   "cell_type": "markdown",
   "metadata": {},
   "source": [
    "> **Ex. 1.4.1**: make a function named `my_subtract` that takes two arguments and subtracts the second argument from the first. Try altering the function where the second argument is equal to 3 as default; can you execute the function with only a single argument?"
   ]
  },
  {
   "cell_type": "code",
   "execution_count": null,
   "metadata": {},
   "outputs": [],
   "source": [
    "# [Answer to Ex. 1.4.1]\n",
    "def my_subtract(x,z):\n",
    "    return x - z #the function is created.\n",
    "\n",
    "for i in range(1,5):\n",
    "    print(my_subtract(i,3)) #Executed with altering values for the first argument and a fixed second argument"
   ]
  },
  {
   "cell_type": "markdown",
   "metadata": {},
   "source": [
    "Numpy arrays is a class like lists, sets, dictonaries ect. Numpy arrays are both fast and easy to work with, when you are doing linear algebra. \n",
    "\n",
    "Like other classes Numpy arrays have certain functions, that are specific to Numpy arrays. These functions are called by first specifing the Numpy array, and then the a punctuation follow by the function (e.g. `myarray.sort()`) \n",
    "\n",
    "> **Ex. 1.4.2**: compute the sum over all elements in the matrix (i.e. 2d-array), `C_a`. Transpose the matrix `C_a`.\n",
    "\n",
    "> *Hint*: numpy has the function `sum` which may be of use"
   ]
  },
  {
   "cell_type": "code",
   "execution_count": null,
   "metadata": {},
   "outputs": [],
   "source": [
    "# [Answer to Ex. 1.4.2]\n",
    "print(C_a)\n",
    "print(C_a.sum())\n",
    "print(C_a.T)"
   ]
  },
  {
   "cell_type": "markdown",
   "metadata": {},
   "source": [
    "> **Ex. 1.4.3 - BONUS**: Make a class called employee, which take the arguments first_name, last_name and pay. Use it to make an object `employee_1`, and then print the first name, last name, and the pay of the employee. \n",
    "\n",
    "\n",
    "> *Hint:* Within the class you need first to define the \"\\_\\_init\\_\\_\" function, which take the argument *self*"
   ]
  },
  {
   "cell_type": "code",
   "execution_count": 10,
   "metadata": {},
   "outputs": [
    {
     "name": "stdout",
     "output_type": "stream",
     "text": [
      "Hans Rosling 1000000\n"
     ]
    }
   ],
   "source": [
    "# [Answer to Ex. 1.4.3]\n",
    "class employee():\n",
    "    def __init__(self, first, last, pay):\n",
    "        self.first = first\n",
    "        self.last = last\n",
    "        self.pay = pay\n",
    "    \n",
    "#class employee_1(employee):\n",
    "#    def __init__(self):\n",
    "#        employee.__init__(self, \"Hans\", \"Rosling\", 10**6)\n",
    "employee_1 = employee(\"Hans\", \"Rosling\", 10**6)\n",
    "\n",
    "print(employee_1.first, employee_1.last, employee_1.pay)"
   ]
  }
 ],
 "metadata": {
  "kernelspec": {
   "display_name": "Python 3",
   "language": "python",
   "name": "python3"
  },
  "language_info": {
   "codemirror_mode": {
    "name": "ipython",
    "version": 3
   },
   "file_extension": ".py",
   "mimetype": "text/x-python",
   "name": "python",
   "nbconvert_exporter": "python",
   "pygments_lexer": "ipython3",
   "version": "3.6.5"
  },
  "nav_menu": {},
  "toc": {
   "navigate_menu": true,
   "number_sections": false,
   "sideBar": true,
   "threshold": 6,
   "toc_cell": false,
   "toc_section_display": "block",
   "toc_window_display": true
  }
 },
 "nbformat": 4,
 "nbformat_minor": 2
}
