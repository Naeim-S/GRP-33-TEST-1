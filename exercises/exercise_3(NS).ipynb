{
 "cells": [
  {
   "cell_type": "markdown",
   "metadata": {},
   "source": [
    "# Exercise Set 3: Strings, requests and APIs\n",
    "\n",
    "*Morning, August 14, 2018*\n",
    "\n",
    "In this exercise set you will be working with collecting from the web. We will start out with some basic string operations and build on that to make a query for fetching data.\n",
    "\n",
    "In addition to DataCamp, you might find [this page](https://pythonprogramming.net/string-concatenation-formatting-intermediate-python-tutorial/) on pythonprogramming.net useful. [This page](https://www.python-course.eu/python3_sequential_data_types.php) give an introduction to the basics of strings and their related data types. "
   ]
  },
  {
   "cell_type": "markdown",
   "metadata": {},
   "source": [
    "## Exercise Section 3.1: Basic string operations and dictionaries"
   ]
  },
  {
   "cell_type": "markdown",
   "metadata": {},
   "source": [
    "Strings have multiple operations and functions associated. In this exercise we investigate a few of these. We also explore the sequence form of a string and how it can be sliced and accessed via indices.\n",
    "\n",
    "> **Ex. 3.1.1**: Let `s1='Chameleon'` and `s2='ham'`. Check whether the string `s2` is a substring of `s1`. Is `'hello'` a substring `'goodbye'`?\n",
    "\n",
    "> *Hint*: One string operation is to check whether a string `S` contains a substring `T`, this can be done with the `in` operator: `S in T`. "
   ]
  },
  {
   "cell_type": "code",
   "execution_count": 3,
   "metadata": {},
   "outputs": [
    {
     "data": {
      "text/plain": [
       "True"
      ]
     },
     "execution_count": 3,
     "metadata": {},
     "output_type": "execute_result"
    }
   ],
   "source": [
    "# [Answer to Ex. 3.1.1]\n",
    "s1 =\"Chameleon\"\n",
    "s2 = \"ham\"\n",
    "s2 in s1"
   ]
  },
  {
   "cell_type": "markdown",
   "metadata": {},
   "source": [
    "> **Ex. 3.1.2**: From the string `s1` select the last four characters. What is the index of the character `a` in `s1`?\n",
    "\n",
    "> *Hint*: We can selecting a substring by slicing it with the `[]` notation, from the start to end where start is included and end is excluded. Recall that Python has zero-based indexing, see explanation [here](https://softwareengineering.stackexchange.com/questions/110804/why-are-zero-based-arrays-the-norm).\n"
   ]
  },
  {
   "cell_type": "code",
   "execution_count": 15,
   "metadata": {},
   "outputs": [
    {
     "name": "stdout",
     "output_type": "stream",
     "text": [
      "leo\n",
      "2\n"
     ]
    }
   ],
   "source": [
    "# [Answer to Ex. 3.1.2]\n",
    "print(s1[-4:-1])\n",
    "print(s1.index(\"a\")) #find() can also be used, but has different error results"
   ]
  },
  {
   "cell_type": "markdown",
   "metadata": {},
   "source": [
    "In addition to the techniques above strings are equipped with an array of _methods_, for solving more complex tasks. For example the `str.join(list)` method will insert a string in between each element of a list. Oppositely `str1.split(str2)` splits `str1` into a list. `.strip()` removes spaces in the beginning and end of a word and `.format()` fills in specified blanks in a string.  Below we illustrate the use of each function\n",
    "\n",
    "```python\n",
    ">>> ','.join(['a','b']) \n",
    "'a,b'\n",
    "\n",
    ">>> ' Hello World! '.strip() \n",
    "'Hello World!'\n",
    "\n",
    ">>> 'Hello {w}'.format(w='World!') \n",
    "'Hello World!'\n",
    "\n",
    ">>> 'a,b,c'.split(',') \n",
    "['a','b','c']\n",
    "```"
   ]
  },
  {
   "cell_type": "markdown",
   "metadata": {},
   "source": [
    "> **Ex. 3.1.3:** Let `l1 = ['r ', 'Is', '>', ' < ', 'g ', '?']`. Create from `l1` the sentence \"Is r > g?\" using your knowledge about string formatting. Make sure there is only one space in between worlds."
   ]
  },
  {
   "cell_type": "code",
   "execution_count": 31,
   "metadata": {},
   "outputs": [
    {
     "data": {
      "text/plain": [
       "'Is r > g?'"
      ]
     },
     "execution_count": 31,
     "metadata": {},
     "output_type": "execute_result"
    }
   ],
   "source": [
    "# [Answer to Ex. 3.1.3]\n",
    "l1 = ['r ', 'Is', '>', ' < ', 'g ', '?']\n",
    "#\" \".join([l1[1],l1[0],l1[2],l1[-2]]) + l1[-1]\n",
    "l1[1] + \" \" + l1[0] + l1[2] +\" \" + l1[-2].strip() + l1[-1]"
   ]
  },
  {
   "cell_type": "markdown",
   "metadata": {},
   "source": [
    "### Dictionaries\n",
    "\n",
    "Dictionaries (or simply dicts) are a central building block of python. Python dicts are constructed from pairs of keys and values making them extremely versatile for data storage. Furthermore dicts correspond directly to the json file format.  \n",
    "\n",
    "> **Ex. 3.1.4**: Create an empty dictionary `words` using the `dict()`function. Then add each of the words in `['animal', 'coffee', 'python', 'unit', 'knowledge', 'tread', 'arise']` as a key, with the value being a boolean indicator for whether the word begins with a vowel. The results should look like `{'bacon': False, 'asynchronous': True ...}` "
   ]
  },
  {
   "cell_type": "code",
   "execution_count": 1,
   "metadata": {},
   "outputs": [
    {
     "name": "stdout",
     "output_type": "stream",
     "text": [
      "[True, False, False, True, False, False, True]\n"
     ]
    },
    {
     "data": {
      "text/plain": [
       "{'animal': True,\n",
       " 'coffee': False,\n",
       " 'python': False,\n",
       " 'unit': True,\n",
       " 'knowledge': False,\n",
       " 'tread': False,\n",
       " 'arise': True}"
      ]
     },
     "execution_count": 1,
     "metadata": {},
     "output_type": "execute_result"
    }
   ],
   "source": [
    "# [Answer to Ex. 3.1.4]\n",
    "words = dict()\n",
    "dict_list1 = ['animal', 'coffee', 'python', 'unit', 'knowledge', 'tread', 'arise']\n",
    "dict_list2 = []\n",
    "for key in dict_list1:\n",
    "    if key[0] in 'aeiou':\n",
    "        dict_list2.append(True)\n",
    "    else:\n",
    "        dict_list2.append(False)\n",
    "print(dict_list2)\n",
    "#dict_list2 = [True,False,False,True,False,False,True]\n",
    "dict_zip =  list(zip(dict_list1, dict_list2))\n",
    "words.update(dict_zip)\n",
    "words"
   ]
  },
  {
   "cell_type": "markdown",
   "metadata": {},
   "source": [
    "> **Ex. 3.1.5:** Loop through the dictionary `words`. In each iteration you should print a proper sentence stating if the current word begins with a vowel or not. \n",
    "\n",
    "> _Hint:_ You can loop through both keys and values simultaneously with the `.items()` method. [This](https://www.tutorialspoint.com/python/python_dictionary.htm) might help you."
   ]
  },
  {
   "cell_type": "code",
   "execution_count": 76,
   "metadata": {},
   "outputs": [
    {
     "name": "stdout",
     "output_type": "stream",
     "text": [
      "The current word (animal) begins with a vowel (a).\n",
      "The current word (coffee) begins with a consonant (c).\n",
      "The current word (python) begins with a consonant (p).\n",
      "The current word (unit) begins with a vowel (u).\n",
      "The current word (knowledge) begins with a consonant (k).\n",
      "The current word (tread) begins with a consonant (t).\n",
      "The current word (arise) begins with a vowel (a).\n"
     ]
    }
   ],
   "source": [
    "# [Answer to Ex. 3.1.5]\n",
    "for key in words:\n",
    "    if key[0] in 'aeiou':\n",
    "        print(\"The current word \" + \"(\" + key + \")\" \" begins with a vowel \" + \"(\" + key[0] + \").\")\n",
    "    else:\n",
    "        print(\"The current word \" + \"(\" + key + \")\" \" begins with a consonant \"+ \"(\" + key[0] + \").\")"
   ]
  },
  {
   "cell_type": "markdown",
   "metadata": {},
   "source": [
    "<br>\n",
    "## Exercise Section 3.2: The punk API\n",
    "The [punk API](https://punkapi.com/) serves information about _beers_. It is a well made and well documented API which makes it great for learning about APIs. \n",
    "\n",
    "> **Ex. 3.2.1:** Read the documentation on the Punk API available [here](https://punkapi.com/documentation/v2). What is the server url (i.e. root endpoint) of the Punk API? Does it require authentication? Then use the Punk API to make a request for beers brewed before December, 2008 with an ABV of at least 8."
   ]
  },
  {
   "cell_type": "code",
   "execution_count": 96,
   "metadata": {},
   "outputs": [
    {
     "name": "stdout",
     "output_type": "stream",
     "text": [
      "https://api.punkapi.com/v2/beers?brewed_before=12-2008&abv_gt=8\n",
      "True\n"
     ]
    },
    {
     "data": {
      "text/plain": [
       "[{'id': 37,\n",
       "  'name': 'Zephyr',\n",
       "  'tagline': 'There’s A Storm Brewing.',\n",
       "  'first_brewed': '10/2008',\n",
       "  'description': 'A 9.2% Double IPA aged for 21 months in a 1965 Invergordon cask with 30 kg of fresh highland strawberries. This beer is a riot of whisky, caramel and strawberry, all tempered by a toe curling bitterness enducing rapture in all who taste it. Who needs champagne?',\n",
       "  'image_url': 'https://images.punkapi.com/v2/37.png',\n",
       "  'abv': 12.5,\n",
       "  'ibu': 125,\n",
       "  'target_fg': 1016,\n",
       "  'target_og': 1087,\n",
       "  'ebc': 40,\n",
       "  'srm': 20,\n",
       "  'ph': 4.4,\n",
       "  'attenuation_level': 81.2,\n",
       "  'volume': {'value': 20, 'unit': 'liters'},\n",
       "  'boil_volume': {'value': 25, 'unit': 'liters'},\n",
       "  'method': {'mash_temp': [{'temp': {'value': 65, 'unit': 'celsius'},\n",
       "     'duration': 75}],\n",
       "   'fermentation': {'temp': {'value': 21, 'unit': 'celsius'}},\n",
       "   'twist': 'Oak chips: 15g, Fresh strawberries: 3kg'},\n",
       "  'ingredients': {'malt': [{'name': 'Extra Pale',\n",
       "     'amount': {'value': 6.3, 'unit': 'kilograms'}},\n",
       "    {'name': 'Caramalt', 'amount': {'value': 0.38, 'unit': 'kilograms'}},\n",
       "    {'name': 'Crystal 150', 'amount': {'value': 0.29, 'unit': 'kilograms'}}],\n",
       "   'hops': [{'name': 'Columbus Extract',\n",
       "     'amount': {'value': 31, 'unit': 'grams'},\n",
       "     'add': 'start',\n",
       "     'attribute': 'bitter'},\n",
       "    {'name': 'Columbus',\n",
       "     'amount': {'value': 19.5, 'unit': 'grams'},\n",
       "     'add': 'start',\n",
       "     'attribute': 'bitter'},\n",
       "    {'name': 'Columbus',\n",
       "     'amount': {'value': 19.5, 'unit': 'grams'},\n",
       "     'add': 'middle',\n",
       "     'attribute': 'flavour'},\n",
       "    {'name': 'Centennial',\n",
       "     'amount': {'value': 19.5, 'unit': 'grams'},\n",
       "     'add': 'middle',\n",
       "     'attribute': 'flavour'},\n",
       "    {'name': 'Simcoe',\n",
       "     'amount': {'value': 19.5, 'unit': 'grams'},\n",
       "     'add': 'middle',\n",
       "     'attribute': 'flavour'},\n",
       "    {'name': 'Columbus',\n",
       "     'amount': {'value': 19.5, 'unit': 'grams'},\n",
       "     'add': 'end',\n",
       "     'attribute': 'flavour'},\n",
       "    {'name': 'Centennial',\n",
       "     'amount': {'value': 19.5, 'unit': 'grams'},\n",
       "     'add': 'end',\n",
       "     'attribute': 'flavour'},\n",
       "    {'name': 'Centennial',\n",
       "     'amount': {'value': 115.5, 'unit': 'grams'},\n",
       "     'add': 'dry hop',\n",
       "     'attribute': 'aroma'},\n",
       "    {'name': 'Columbus',\n",
       "     'amount': {'value': 96, 'unit': 'grams'},\n",
       "     'add': 'dry hop',\n",
       "     'attribute': 'aroma'},\n",
       "    {'name': 'Simcoe',\n",
       "     'amount': {'value': 96, 'unit': 'grams'},\n",
       "     'add': 'dry hop',\n",
       "     'attribute': 'aroma'},\n",
       "    {'name': 'Amarillo',\n",
       "     'amount': {'value': 77, 'unit': 'grams'},\n",
       "     'add': 'dry hop',\n",
       "     'attribute': 'aroma'}],\n",
       "   'yeast': 'Wyeast 1272 - American Ale II™'},\n",
       "  'food_pairing': ['Poached eggs and smoked salmon',\n",
       "   'Salt and pepper squid',\n",
       "   'Key Lime Pie'],\n",
       "  'brewers_tips': 'Rack into a secondary fermenter and add your strawberries. Use a blow-off rather than an airlock as the fermentation can get pretty wild as the yeast starts using the sugar from the strawberries.',\n",
       "  'contributed_by': 'Sam Mason <samjbmason>'},\n",
       " {'id': 52,\n",
       "  'name': 'Paradox Islay',\n",
       "  'tagline': 'Ubiquitous Imperial Stout.',\n",
       "  'first_brewed': '04/2007',\n",
       "  'description': 'In 2006 James and Martin hijacked a beer dinner run by Michael Jackson, the acclaimed beer and whisky writer, and convinced him to taste one of their home brews. This was a defining moment in BrewDog prehistory, and that beer was the first incarnation of the ubiquitous Paradox. Aged in a variety of casks over the years, Paradox is dark, decadent and encapsulating. Can be enjoyed fresh; phenomenal when aged.',\n",
       "  'image_url': 'https://images.punkapi.com/v2/52.png',\n",
       "  'abv': 10,\n",
       "  'ibu': 55,\n",
       "  'target_fg': 1014,\n",
       "  'target_og': 1090,\n",
       "  'ebc': 300,\n",
       "  'srm': 152,\n",
       "  'ph': 4.4,\n",
       "  'attenuation_level': 84.4,\n",
       "  'volume': {'value': 20, 'unit': 'liters'},\n",
       "  'boil_volume': {'value': 25, 'unit': 'liters'},\n",
       "  'method': {'mash_temp': [{'temp': {'value': 65, 'unit': 'celsius'},\n",
       "     'duration': 90}],\n",
       "   'fermentation': {'temp': {'value': 21, 'unit': 'celsius'}},\n",
       "   'twist': 'Try ageing on oak chips, infusing with rum raisins, or vanilla pods'},\n",
       "  'ingredients': {'malt': [{'name': 'Extra Pale',\n",
       "     'amount': {'value': 4.5, 'unit': 'kilograms'}},\n",
       "    {'name': 'Caramalt', 'amount': {'value': 0.55, 'unit': 'kilograms'}},\n",
       "    {'name': 'Munich', 'amount': {'value': 0.33, 'unit': 'kilograms'}},\n",
       "    {'name': 'Flaked Oats', 'amount': {'value': 1.35, 'unit': 'kilograms'}},\n",
       "    {'name': 'Dark Crystal', 'amount': {'value': 0.55, 'unit': 'kilograms'}},\n",
       "    {'name': 'Carafa Special Malt Type 1',\n",
       "     'amount': {'value': 0.18, 'unit': 'kilograms'}},\n",
       "    {'name': 'Carafa Special Malt Type 3',\n",
       "     'amount': {'value': 0.33, 'unit': 'kilograms'}}],\n",
       "   'hops': [{'name': 'Columbus',\n",
       "     'amount': {'value': 75, 'unit': 'grams'},\n",
       "     'add': 'start',\n",
       "     'attribute': 'bitter'},\n",
       "    {'name': 'Columbus',\n",
       "     'amount': {'value': 25, 'unit': 'grams'},\n",
       "     'add': 'middle',\n",
       "     'attribute': 'flavour'},\n",
       "    {'name': 'Saaz',\n",
       "     'amount': {'value': 25, 'unit': 'grams'},\n",
       "     'add': 'end',\n",
       "     'attribute': 'flavour'},\n",
       "    {'name': 'First Gold',\n",
       "     'amount': {'value': 25, 'unit': 'grams'},\n",
       "     'add': 'end',\n",
       "     'attribute': 'flavour'}],\n",
       "   'yeast': 'Wyeast 1272 - American Ale II™'},\n",
       "  'food_pairing': ['Ancho chilli beef taco',\n",
       "   'Chocolate gateaux',\n",
       "   'Rum poached pears with dark chocolate sauce'],\n",
       "  'brewers_tips': 'The beauty of this beer is in how brilliantly it lends itself to infusing or ageing. Experiment with different additions when the beer is ageing, taste it regularly to gauge its progress, and make sure you package it at its peak.',\n",
       "  'contributed_by': 'Sam Mason <samjbmason>'},\n",
       " {'id': 58,\n",
       "  'name': 'Coffee Imperial Stout',\n",
       "  'tagline': 'Beats a Cup of Joe.',\n",
       "  'first_brewed': '11/2008',\n",
       "  'description': 'This beer was released as both as \"Danish Beerhouse Coffee Imperial Stout\" and \"BrewDog Coffee Imperial Stout\". Deep, dark, roasted flavours make this a perfect Sunday brunch beer.',\n",
       "  'image_url': 'https://images.punkapi.com/v2/58.png',\n",
       "  'abv': 9,\n",
       "  'ibu': 65,\n",
       "  'target_fg': 1019,\n",
       "  'target_og': 1080,\n",
       "  'ebc': 97,\n",
       "  'srm': 49,\n",
       "  'ph': 4.4,\n",
       "  'attenuation_level': 76,\n",
       "  'volume': {'value': 20, 'unit': 'liters'},\n",
       "  'boil_volume': {'value': 25, 'unit': 'liters'},\n",
       "  'method': {'mash_temp': [{'temp': {'value': 64, 'unit': 'celsius'},\n",
       "     'duration': 90}],\n",
       "   'fermentation': {'temp': {'value': 19, 'unit': 'celsius'}},\n",
       "   'twist': 'Coffee added after boil. Aged on French oak chips., Dark muscovado sugar: 312.5g for 20mins'},\n",
       "  'ingredients': {'malt': [{'name': 'Extra Pale',\n",
       "     'amount': {'value': 7.5, 'unit': 'kilograms'}},\n",
       "    {'name': 'Dark Crystal', 'amount': {'value': 0.63, 'unit': 'kilograms'}},\n",
       "    {'name': 'Chocolate', 'amount': {'value': 0.31, 'unit': 'kilograms'}},\n",
       "    {'name': 'Roast Barley', 'amount': {'value': 0.31, 'unit': 'kilograms'}}],\n",
       "   'hops': [{'name': 'Chinook',\n",
       "     'amount': {'value': 25, 'unit': 'grams'},\n",
       "     'add': 'start',\n",
       "     'attribute': 'bitter'},\n",
       "    {'name': 'Galena',\n",
       "     'amount': {'value': 25, 'unit': 'grams'},\n",
       "     'add': 'start',\n",
       "     'attribute': 'bitter'},\n",
       "    {'name': 'Galena',\n",
       "     'amount': {'value': 25, 'unit': 'grams'},\n",
       "     'add': 'end',\n",
       "     'attribute': 'flavour'},\n",
       "    {'name': 'First Gold',\n",
       "     'amount': {'value': 25, 'unit': 'grams'},\n",
       "     'add': 'end',\n",
       "     'attribute': 'flavour'},\n",
       "    {'name': 'Coffee',\n",
       "     'amount': {'value': 9.4, 'unit': 'grams'},\n",
       "     'add': 'end',\n",
       "     'attribute': 'flavour'},\n",
       "    {'name': 'Coffee',\n",
       "     'amount': {'value': 9.4, 'unit': 'grams'},\n",
       "     'add': 'dry hop',\n",
       "     'attribute': 'aroma'}],\n",
       "   'yeast': 'Wyeast 1056 - American Ale™'},\n",
       "  'food_pairing': ['Gooey chocolate brownies',\n",
       "   'Chicken fried steak with cheesy mash',\n",
       "   'Spicy chicken empanadas'],\n",
       "  'brewers_tips': 'Grind the coffee as if making an espresso to really get the most out of it.',\n",
       "  'contributed_by': 'Sam Mason <samjbmason>'},\n",
       " {'id': 149,\n",
       "  'name': 'AB:03',\n",
       "  'tagline': 'Barrel-Aged Imperial Ale.',\n",
       "  'first_brewed': '09/2008',\n",
       "  'description': 'This Abstrakt started life as a simple imperial Ale, but upon the addition of fresh Scottish raspberries and strawberries, and left to mature for 2 years in Invergordon whisky casks that had held whisky for over 40 years, this beer transcended into something new.',\n",
       "  'image_url': 'https://images.punkapi.com/v2/149.png',\n",
       "  'abv': 10.5,\n",
       "  'ibu': 14,\n",
       "  'target_fg': 1013,\n",
       "  'target_og': 1093,\n",
       "  'ebc': None,\n",
       "  'srm': None,\n",
       "  'ph': 4.4,\n",
       "  'attenuation_level': 80,\n",
       "  'volume': {'value': 20, 'unit': 'liters'},\n",
       "  'boil_volume': {'value': 25, 'unit': 'liters'},\n",
       "  'method': {'mash_temp': [{'temp': {'value': 65, 'unit': 'celsius'},\n",
       "     'duration': 90}],\n",
       "   'fermentation': {'temp': {'value': 19, 'unit': 'celsius'}},\n",
       "   'twist': 'Strawberries: 1kg, Raspberries: 1kg, Oak Chips: 75g'},\n",
       "  'ingredients': {'malt': [{'name': 'Extra Pale',\n",
       "     'amount': {'value': 8, 'unit': 'kilograms'}}],\n",
       "   'hops': [{'name': 'Magnum',\n",
       "     'amount': {'value': 66.7, 'unit': 'grams'},\n",
       "     'add': 'end',\n",
       "     'attribute': 'flavour'}],\n",
       "   'yeast': 'Wyeast 1056 - American Ale™'},\n",
       "  'food_pairing': ['Haggis spring rolls',\n",
       "   'Honey glazed duck breast',\n",
       "   'Cranachan'],\n",
       "  'brewers_tips': 'Add your hops with five minutes of the boil left in a nod to the great lambic producers of Belgium.',\n",
       "  'contributed_by': 'Sam Mason <samjbmason>'}]"
      ]
     },
     "execution_count": 96,
     "metadata": {},
     "output_type": "execute_result"
    }
   ],
   "source": [
    "# [Answer to Ex. 3.2.1]\n",
    "#The root endpoint is defined below and it doesn't require authentication but is limited by rate limits based on IP.\n",
    "import requests \n",
    "punk_url =  \"https://api.punkapi.com/v2/\"\n",
    "\n",
    "criteria1 = \"beers?brewed_before=12-2008&abv_gt=8\"\n",
    "\n",
    "punk_url1 = punk_url + criteria1\n",
    "print(punk_url1)\n",
    "\n",
    "punk_response1 = requests.get(punk_url1)\n",
    "\n",
    "print(punk_response1.ok)\n",
    "\n",
    "punk_json = punk_response1.json()\n",
    "punk_json"
   ]
  },
  {
   "cell_type": "markdown",
   "metadata": {},
   "source": [
    "> **Ex. 3.2.2:** What object type is the API's JSON response? What about the individual items in the container? Convert the response object to a suitable format and answer the following questions:\n",
    ">> 1) How many beers are in the JSON object?\n",
    ">>\n",
    ">> 2) Print the names of the beers in the JSON object using lower case characters.\n",
    ">>\n",
    ">> 3) Select the beer called Paradox Islay from the JSON object.\n",
    ">>\n",
    ">> 4) Which hop ingredients does the Paradox Islay contain?\n"
   ]
  },
  {
   "cell_type": "code",
   "execution_count": 189,
   "metadata": {},
   "outputs": [
    {
     "name": "stdout",
     "output_type": "stream",
     "text": [
      "These are the names of the beers:\n",
      "zephyr\n",
      "paradox islay\n",
      "coffee imperial stout\n",
      "ab:03\n",
      "\n",
      "These are the hops used in the Paradox Islay\n",
      "Columbus\n",
      "Columbus\n",
      "Saaz\n",
      "First Gold\n"
     ]
    }
   ],
   "source": [
    "# [Answer to Ex. 3.2.2]\n",
    "#It seems as the API's JSOn\n",
    "\n",
    "    #1) There are 4 beers in the JSON object.\n",
    "len(punk_json)\n",
    "\n",
    "    #2) The names are zephyr, paradox islay, coffee imperial stout, ab:03\n",
    "print(\"These are the names of the beers:\")\n",
    "for member in punk_json:\n",
    "    print(member[\"name\"].lower())\n",
    "\n",
    "    #3) \n",
    "def punk_name(name, punk_json):\n",
    "    return [element for element in punk_json if element[\"name\"] == name]\n",
    "\n",
    "#print(punk_name(\"Paradox Islay\", punk_json))\n",
    "\n",
    "#print(punk_json[1]) #The \"lazy\" way\n",
    "\n",
    "    #4)\n",
    "print(\"\\n\" + \"These are the hops used in the Paradox Islay\")\n",
    "punk_json[1][\"ingredients\"][\"hops\"]\n",
    "for member in punk_json[1][\"ingredients\"][\"hops\"]:\n",
    "    print(member[\"name\"])"
   ]
  },
  {
   "cell_type": "markdown",
   "metadata": {},
   "source": [
    "> **Ex. 3.2.3:** Save the beers as a JSON file on your machine.\n",
    "\n",
    "> _Hint:_ you might want to take a look at the [json](https://docs.python.org/3/library/json.html) module.\n"
   ]
  },
  {
   "cell_type": "code",
   "execution_count": 190,
   "metadata": {},
   "outputs": [],
   "source": [
    "# [Answer to Ex. 3.2.3]\n",
    "import json\n",
    "#Saving the file\n",
    "with open(\"punk1.json\", \"w\") as f:\n",
    "    punk_json_str = json.dumps(punk_json)\n",
    "    f.write(punk_response_json_str)"
   ]
  },
  {
   "cell_type": "markdown",
   "metadata": {},
   "source": [
    "<br>\n",
    "## Exercise Section 3.3: The DST API\n",
    "\n",
    "DST (Statistics Denmark) provide an API access to their aggregate data. For developers they supply a [console](https://api.statbank.dk/console) for testing. In this exercise we will first code up a simple script which can collect data from the DST API, and then introduce the [PyDST](https://kristianuruplarsen.github.io/PyDST/) package. \n",
    "\n",
    "> **Ex 3.3.1:** Use the API console to construct a GET request which retrieves the table FOLK1A split by quarter. The return should be in JSON format. We want all available dates.\n",
    ">\n",
    ">Then write a function `construct_link()` which takes as inputs: a table ID (e.g. `'FOLK1A'`) and a list of strings like `['var1=*', 'var2=somevalue']`. The function should return the proper URL for getting a dataset with the specified variables (e.g. in this case all levels of var1, but only where var2=somevalue).\n",
    "\n",
    "> _Hint:_ The time variable is called 'tid'. To select all available values, set the value-id to '*'. Spend a little time with the console to get a sense of how the URLs are constructed.\n"
   ]
  },
  {
   "cell_type": "code",
   "execution_count": 196,
   "metadata": {},
   "outputs": [
    {
     "ename": "SyntaxError",
     "evalue": "invalid syntax (<ipython-input-196-fa17060ac563>, line 2)",
     "output_type": "error",
     "traceback": [
      "\u001b[1;36m  File \u001b[1;32m\"<ipython-input-196-fa17060ac563>\"\u001b[1;36m, line \u001b[1;32m2\u001b[0m\n\u001b[1;33m    return https://api.statbank.dk/v1/data/table/JSONSTAT?lang=en&valuePresentation=Default&timeOrder=Descending&tid=period&k%C3%B8n=sex&civilstand=martial&alder=age\u001b[0m\n\u001b[1;37m                ^\u001b[0m\n\u001b[1;31mSyntaxError\u001b[0m\u001b[1;31m:\u001b[0m invalid syntax\n"
     ]
    }
   ],
   "source": [
    "def construct_link(table, period, sex, marital, age):\n",
    "    return https://api.statbank.dk/v1/data/table/JSONSTAT?lang=en&valuePresentation=Default&timeOrder=Descending&tid=period&k%C3%B8n=sex&civilstand=martial&alder=age"
   ]
  },
  {
   "cell_type": "code",
   "execution_count": 195,
   "metadata": {},
   "outputs": [
    {
     "name": "stdout",
     "output_type": "stream",
     "text": [
      "True\n"
     ]
    },
    {
     "ename": "NameError",
     "evalue": "name 'construct_link' is not defined",
     "output_type": "error",
     "traceback": [
      "\u001b[1;31m---------------------------------------------------------------------------\u001b[0m",
      "\u001b[1;31mNameError\u001b[0m                                 Traceback (most recent call last)",
      "\u001b[1;32m<ipython-input-195-dc3809672852>\u001b[0m in \u001b[0;36m<module>\u001b[1;34m()\u001b[0m\n\u001b[0;32m      5\u001b[0m \u001b[1;33m\u001b[0m\u001b[0m\n\u001b[0;32m      6\u001b[0m \u001b[0mprint\u001b[0m\u001b[1;33m(\u001b[0m\u001b[0mDST_response1\u001b[0m\u001b[1;33m.\u001b[0m\u001b[0mok\u001b[0m\u001b[1;33m)\u001b[0m\u001b[1;33m\u001b[0m\u001b[0m\n\u001b[1;32m----> 7\u001b[1;33m \u001b[0mconstruct_link\u001b[0m\u001b[1;33m(\u001b[0m\u001b[1;34m\"FOLK1A\"\u001b[0m\u001b[1;33m,\u001b[0m \u001b[1;33m[\u001b[0m\u001b[1;34m\"tid=*\"\u001b[0m\u001b[1;33m,\u001b[0m \u001b[1;34m\"var2=\"\u001b[0m\u001b[1;33m]\u001b[0m\u001b[1;33m)\u001b[0m\u001b[1;33m\u001b[0m\u001b[0m\n\u001b[0m\u001b[0;32m      8\u001b[0m \u001b[0mDST_json\u001b[0m \u001b[1;33m=\u001b[0m \u001b[0mDST_response1\u001b[0m\u001b[1;33m.\u001b[0m\u001b[0mjson\u001b[0m\u001b[1;33m(\u001b[0m\u001b[1;33m)\u001b[0m\u001b[1;33m\u001b[0m\u001b[0m\n",
      "\u001b[1;31mNameError\u001b[0m: name 'construct_link' is not defined"
     ]
    }
   ],
   "source": [
    "# [Answer to Ex. 3.3.1]\n",
    "\n",
    "\n",
    "\n",
    "DST_url =  \"https://api.statbank.dk/v1/tables?lang=en&format=JSON\"\n",
    "\n",
    "DST_response1 = requests.get(DST_url)\n",
    "\n",
    "print(DST_response1.ok)\n",
    "\n",
    "DST_json = DST_response1.json()\n"
   ]
  },
  {
   "cell_type": "code",
   "execution_count": 194,
   "metadata": {},
   "outputs": [
    {
     "name": "stdout",
     "output_type": "stream",
     "text": [
      "Object `construct_link` not found.\n"
     ]
    }
   ],
   "source": []
  },
  {
   "cell_type": "markdown",
   "metadata": {},
   "source": [
    "When executing the request in the console you should get a json file as output. Next lets write some code to load these json files directly into python. \n",
    "\n",
    "\n",
    "> **Ex. 3.3.2:** use the `requests` module (get it with `pip install requests`) and `construct_link()` to request birth data from the \"FOD\" table. Get all available years (variable \"Tid\"), but only female births (BARNKON=P) . Unpack the json payload and store the result. Wrap the whole thing in a function which takes an url as input and returns the corresponding output.\n",
    "\n",
    "> _Hint:_ The `requests.response` object has a `.json()` method. "
   ]
  },
  {
   "cell_type": "code",
   "execution_count": 19,
   "metadata": {},
   "outputs": [],
   "source": [
    "# [Answer to Ex. 3.3.2]"
   ]
  },
  {
   "cell_type": "markdown",
   "metadata": {},
   "source": [
    "> **Ex. 3.3.3:** Extract the number of girls born each year. Store the results as a list."
   ]
  },
  {
   "cell_type": "code",
   "execution_count": 21,
   "metadata": {},
   "outputs": [],
   "source": [
    "# [Answer to Ex. 3.3.3]"
   ]
  },
  {
   "cell_type": "markdown",
   "metadata": {},
   "source": [
    "> ** Ex.3.3.4:** Repeat 3.3.2 and 3.3.3 but this time only get boy births (BARNKON=D). Store the numbers in a new list and use the `plot_births` (supplied below) function to plot the data. If you don't already have matplotlib installed run `pip install matplotlib`."
   ]
  },
  {
   "cell_type": "code",
   "execution_count": 23,
   "metadata": {},
   "outputs": [],
   "source": [
    "# Just run this once, do not change it.\n",
    "import matplotlib.pyplot as plt \n",
    "\n",
    "def plot_births(boys, girls):\n",
    "    \"\"\" Plots lineplot of the number of births split by gender.\n",
    "    \n",
    "    Args: \n",
    "        boys: a list of boy births by year\n",
    "        girls: a list of girl births by year\n",
    "    \"\"\"\n",
    "    if not len(boys) == len(girls):\n",
    "        raise ValueError('There must be the same number of observations for boys and girls')\n",
    "    \n",
    "    labels = ['{y}'.format(y=year) for year in range(1973,2018)]\n",
    "    \n",
    "    plt.plot(range(len(boys)), boys, color = 'blue', label = 'boys')\n",
    "    plt.plot(range(len(boys)), girls, color = 'red', label = 'girls')\n",
    "    plt.xticks([i for i in range(len(boys)) if i%4 == 0], [l for i,l in zip(range(len(boys)),labels) if i%4 == 0],\n",
    "               rotation = 'vertical')\n",
    "    plt.legend()\n",
    "    plt.show()"
   ]
  },
  {
   "cell_type": "code",
   "execution_count": 24,
   "metadata": {},
   "outputs": [],
   "source": [
    "# [Answer to Ex. 3.3.4]"
   ]
  },
  {
   "cell_type": "markdown",
   "metadata": {},
   "source": [
    ">**(Bonus question) Ex. 3.3.5:** Go to [https://kristianuruplarsen.github.io/PyDST/](https://kristianuruplarsen.github.io/PyDST/) follow the installation instructions and import PyDST. Try to replicate the birth figure from 3.3.4 using PyDST. Use [the documentation](https://kristianuruplarsen.github.io/PyDST/connection) to learn how the package works.\n",
    "\n",
    "> _Hint:_ PyDST does not use json or dicts as its primary data format, instead it uses pandas DataFrames. When you install PyDST it will install pandas as a dependency. If this doesn't work simply run `pip install pandas` in your console. DataFrames are very intuitive to work with, for example accessing a column named 'name' is simply `data['name']` or `data.name`.\n",
    ">\n",
    "> In the next session you will learn more about pandas and DataFrames. If you are more comfortable with dicts, the data_response class has a `.dict` method you can use. "
   ]
  },
  {
   "cell_type": "code",
   "execution_count": 26,
   "metadata": {},
   "outputs": [],
   "source": [
    "# [Answer to Ex. 3.3.5]"
   ]
  }
 ],
 "metadata": {
  "kernelspec": {
   "display_name": "Python 3",
   "language": "python",
   "name": "python3"
  },
  "language_info": {
   "codemirror_mode": {
    "name": "ipython",
    "version": 3
   },
   "file_extension": ".py",
   "mimetype": "text/x-python",
   "name": "python",
   "nbconvert_exporter": "python",
   "pygments_lexer": "ipython3",
   "version": "3.6.5"
  }
 },
 "nbformat": 4,
 "nbformat_minor": 2
}
